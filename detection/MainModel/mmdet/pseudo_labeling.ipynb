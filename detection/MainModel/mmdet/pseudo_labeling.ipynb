{
 "cells": [
  {
   "cell_type": "code",
   "execution_count": 1,
   "id": "4d632c27-ea17-4f1a-80e7-9b8f25422dbe",
   "metadata": {},
   "outputs": [],
   "source": [
    "import mmcv"
   ]
  },
  {
   "cell_type": "code",
   "execution_count": 2,
   "id": "c03492fe-6329-428c-a51d-98df0f574419",
   "metadata": {},
   "outputs": [],
   "source": [
    "# output을 pkl로 저장\n",
    "# mmcv.dump(outputs, args.out)"
   ]
  },
  {
   "cell_type": "code",
   "execution_count": 3,
   "id": "988857e5-6592-43a9-b403-a86f68bf4953",
   "metadata": {},
   "outputs": [],
   "source": [
    "pre = mmcv.load('/opt/ml/code/mmdetection_trash/work_dirs/vfnet_dongbin/epoch_24.pkl')"
   ]
  },
  {
   "cell_type": "code",
   "execution_count": 6,
   "id": "ae0535fe-6a4d-4fb0-a707-1db524c61826",
   "metadata": {},
   "outputs": [
    {
     "name": "stderr",
     "output_type": "stream",
     "text": [
      "usage: ipykernel_launcher.py [-h] [--config-path CONFIG_PATH]\n",
      "                             [--ann-file ANN_FILE] [--output-path OUTPUT_PATH]\n",
      "                             [--predictions-path PREDICTIONS_PATH]\n",
      "                             [--fold FOLD]\n",
      "ipykernel_launcher.py: error: unrecognized arguments: -f /opt/ml/.local/share/jupyter/runtime/kernel-0b49c071-678d-44bf-ad94-8f471dc2e8d0.json\n"
     ]
    },
    {
     "ename": "SystemExit",
     "evalue": "2",
     "output_type": "error",
     "traceback": [
      "An exception has occurred, use %tb to see the full traceback.\n",
      "\u001B[0;31mSystemExit\u001B[0m\u001B[0;31m:\u001B[0m 2\n"
     ]
    }
   ],
   "source": [
    "import argparse\n",
    "\n",
    "import mmcv\n",
    "from mmcv import Config\n",
    "\n",
    "from mmdet.datasets.coco import CocoDataset\n",
    "from mmdet.datasets import build_dataset\n",
    "\n",
    "\n",
    "def parse_args():\n",
    "    parser = argparse.ArgumentParser()\n",
    "    parser.add_argument(\"--config-path\", default='./configs/custom_augmentation/faster_rcnn_mosaic.py')\n",
    "    parser.add_argument(\"--ann-file\", default=\"../../input/data/test.json\")\n",
    "    parser.add_argument(\"--output-path\", default=\"../../input/data/pseudo_train.json\")\n",
    "    parser.add_argument(\"--predictions-path\", default=\"./work_dirs/faster_rcnn/epoch_24.pkl\")\n",
    "    parser.add_argument(\"--fold\", default=0, type=int)\n",
    "    return parser.parse_args()\n",
    "\n",
    "\n",
    "def main():\n",
    "    args = parse_args()\n",
    "    cfg = Config.fromfile(args.config_path)\n",
    "    cfg.data.test.ann_file = cfg.data.test.ann_file.format(fold=args.fold)\n",
    "    cfg.data.test.test_mode = True\n",
    "    dataset: CocoDataset = build_dataset(cfg.data.test)\n",
    "    predictions = mmcv.load(args.predictions_path)\n",
    "    print(len(predictions), len(dataset))\n",
    "    dataset.pseudo_results(predictions, output_path=args.output_path, pseudo_score_threshold=0.9, pseudo_confidence_threshold=0.8)\n",
    "\n",
    "if __name__ == \"__main__\":\n",
    "    main()\n"
   ]
  },
  {
   "cell_type": "code",
   "execution_count": null,
   "id": "8d603665-3f77-4c9c-b0aa-0c63aad4306e",
   "metadata": {},
   "outputs": [],
   "source": []
  }
 ],
 "metadata": {
  "kernelspec": {
   "display_name": "Python 3",
   "language": "python",
   "name": "python3"
  },
  "language_info": {
   "codemirror_mode": {
    "name": "ipython",
    "version": 3
   },
   "file_extension": ".py",
   "mimetype": "text/x-python",
   "name": "python",
   "nbconvert_exporter": "python",
   "pygments_lexer": "ipython3",
   "version": "3.7.7"
  }
 },
 "nbformat": 4,
 "nbformat_minor": 5
}
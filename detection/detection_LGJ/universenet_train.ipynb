{
 "cells": [
  {
   "cell_type": "code",
   "execution_count": 1,
   "metadata": {
    "pycharm": {
     "name": "#%%\n"
    }
   },
   "outputs": [
    {
     "name": "stderr",
     "output_type": "stream",
     "text": [
      "/opt/conda/lib/python3.7/site-packages/mmcv/utils/registry.py:250: UserWarning: The old API of register_module(module, force=False) is deprecated and will be removed, please use the new API register_module(name=None, force=False, module=None) instead.\n",
      "  'The old API of register_module(module, force=False) '\n"
     ]
    }
   ],
   "source": [
    "from mmcv import Config\n",
    "from mmdet.datasets import build_dataset\n",
    "from mmdet.models import build_detector\n",
    "from mmdet.apis import train_detector\n",
    "from mmdet.datasets import (build_dataloader, build_dataset, replace_ImageToTensor)"
   ]
  },
  {
   "cell_type": "code",
   "execution_count": 2,
   "metadata": {
    "pycharm": {
     "name": "#%%\n"
    }
   },
   "outputs": [
    {
     "name": "stdout",
     "output_type": "stream",
     "text": [
      "Config:\n",
      "model = dict(\n",
      "    type='GFL',\n",
      "    pretrained='open-mmlab://res2net101_v1d_26w_4s',\n",
      "    backbone=dict(\n",
      "        type='Res2Net',\n",
      "        depth=101,\n",
      "        scales=4,\n",
      "        base_width=26,\n",
      "        num_stages=4,\n",
      "        out_indices=(0, 1, 2, 3),\n",
      "        frozen_stages=1,\n",
      "        norm_cfg=dict(type='BN', requires_grad=True),\n",
      "        norm_eval=False,\n",
      "        style='pytorch',\n",
      "        dcn=dict(type='DCN', deform_groups=1, fallback_on_stride=False),\n",
      "        stage_with_dcn=(False, True, True, True)),\n",
      "    neck=[\n",
      "        dict(\n",
      "            type='FPN',\n",
      "            in_channels=[256, 512, 1024, 2048],\n",
      "            out_channels=256,\n",
      "            start_level=1,\n",
      "            add_extra_convs='on_output',\n",
      "            num_outs=5),\n",
      "        dict(\n",
      "            type='SEPC',\n",
      "            out_channels=256,\n",
      "            stacked_convs=4,\n",
      "            pconv_deform=True,\n",
      "            lcconv_deform=True,\n",
      "            ibn=True,\n",
      "            pnorm_eval=False,\n",
      "            lcnorm_eval=False,\n",
      "            lcconv_padding=1)\n",
      "    ],\n",
      "    bbox_head=dict(\n",
      "        type='GFLSEPCHead',\n",
      "        num_classes=11,\n",
      "        in_channels=256,\n",
      "        stacked_convs=0,\n",
      "        feat_channels=256,\n",
      "        anchor_generator=dict(\n",
      "            type='AnchorGenerator',\n",
      "            ratios=[1.0],\n",
      "            octave_base_scale=8,\n",
      "            scales_per_octave=1,\n",
      "            strides=[8, 16, 32, 64, 128]),\n",
      "        loss_cls=dict(\n",
      "            type='QualityFocalLoss',\n",
      "            use_sigmoid=True,\n",
      "            beta=2.0,\n",
      "            loss_weight=1.0),\n",
      "        loss_dfl=dict(type='DistributionFocalLoss', loss_weight=0.25),\n",
      "        reg_max=16,\n",
      "        loss_bbox=dict(type='GIoULoss', loss_weight=2.0)),\n",
      "    train_cfg=dict(\n",
      "        assigner=dict(type='ATSSAssigner', topk=9),\n",
      "        allowed_border=-1,\n",
      "        pos_weight=-1,\n",
      "        debug=False),\n",
      "    test_cfg=dict(\n",
      "        nms_pre=1000,\n",
      "        min_bbox_size=0,\n",
      "        score_thr=0.05,\n",
      "        nms=dict(type='nms', iou_threshold=0.6),\n",
      "        max_per_img=100))\n",
      "dataset_type = 'CocoDataset'\n",
      "data_root = 'data/coco/'\n",
      "img_norm_cfg = dict(\n",
      "    mean=[123.675, 116.28, 103.53], std=[58.395, 57.12, 57.375], to_rgb=True)\n",
      "train_pipeline = [\n",
      "    dict(type='LoadImageFromFile'),\n",
      "    dict(type='LoadAnnotations', with_bbox=True),\n",
      "    dict(\n",
      "        type='Resize',\n",
      "        img_scale=[(1333, 480), (1333, 960)],\n",
      "        multiscale_mode='range',\n",
      "        keep_ratio=True),\n",
      "    dict(type='RandomFlip', flip_ratio=0.5),\n",
      "    dict(\n",
      "        type='Normalize',\n",
      "        mean=[123.675, 116.28, 103.53],\n",
      "        std=[58.395, 57.12, 57.375],\n",
      "        to_rgb=True),\n",
      "    dict(type='Pad', size_divisor=32),\n",
      "    dict(type='DefaultFormatBundle'),\n",
      "    dict(type='Collect', keys=['img', 'gt_bboxes', 'gt_labels'])\n",
      "]\n",
      "test_pipeline = [\n",
      "    dict(type='LoadImageFromFile'),\n",
      "    dict(\n",
      "        type='MultiScaleFlipAug',\n",
      "        img_scale=(1333, 800),\n",
      "        flip=False,\n",
      "        transforms=[\n",
      "            dict(type='Resize', keep_ratio=True),\n",
      "            dict(type='RandomFlip'),\n",
      "            dict(\n",
      "                type='Normalize',\n",
      "                mean=[123.675, 116.28, 103.53],\n",
      "                std=[58.395, 57.12, 57.375],\n",
      "                to_rgb=True),\n",
      "            dict(type='Pad', size_divisor=32),\n",
      "            dict(type='ImageToTensor', keys=['img']),\n",
      "            dict(type='Collect', keys=['img'])\n",
      "        ])\n",
      "]\n",
      "data = dict(\n",
      "    samples_per_gpu=8,\n",
      "    workers_per_gpu=1,\n",
      "    train=dict(\n",
      "        type='CocoDataset',\n",
      "        ann_file='/opt/ml/input/data/train_all.json',\n",
      "        img_prefix='/opt/ml/input/data/',\n",
      "        pipeline=[\n",
      "            dict(type='LoadImageFromFile'),\n",
      "            dict(type='LoadAnnotations', with_bbox=True),\n",
      "            dict(\n",
      "                type='Resize',\n",
      "                img_scale=[(1333, 480), (1333, 960)],\n",
      "                multiscale_mode='range',\n",
      "                keep_ratio=True),\n",
      "            dict(type='RandomFlip', flip_ratio=0.5),\n",
      "            dict(\n",
      "                type='Albu',\n",
      "                transforms=[\n",
      "                    dict(\n",
      "                        type='Cutout',\n",
      "                        num_holes=30,\n",
      "                        max_h_size=30,\n",
      "                        max_w_size=30,\n",
      "                        fill_value=[103.53, 116.28, 123.675],\n",
      "                        p=0.1),\n",
      "                    dict(\n",
      "                        type='RandomBrightnessContrast',\n",
      "                        brightness_limit=[0.1, 0.3],\n",
      "                        contrast_limit=[0.1, 0.3],\n",
      "                        p=0.2),\n",
      "                    dict(\n",
      "                        type='OneOf',\n",
      "                        transforms=[\n",
      "                            dict(\n",
      "                                type='RGBShift',\n",
      "                                r_shift_limit=10,\n",
      "                                g_shift_limit=10,\n",
      "                                b_shift_limit=10,\n",
      "                                p=1.0),\n",
      "                            dict(\n",
      "                                type='HueSaturationValue',\n",
      "                                hue_shift_limit=20,\n",
      "                                sat_shift_limit=30,\n",
      "                                val_shift_limit=20,\n",
      "                                p=1.0),\n",
      "                            dict(type='RandomGamma'),\n",
      "                            dict(type='CLAHE')\n",
      "                        ],\n",
      "                        p=0.1),\n",
      "                    dict(\n",
      "                        type='JpegCompression',\n",
      "                        quality_lower=85,\n",
      "                        quality_upper=95,\n",
      "                        p=0.2),\n",
      "                    dict(type='ChannelShuffle', p=0.1),\n",
      "                    dict(\n",
      "                        type='OneOf',\n",
      "                        transforms=[\n",
      "                            dict(type='Blur', blur_limit=3, p=1.0),\n",
      "                            dict(type='MedianBlur', blur_limit=3, p=1.0),\n",
      "                            dict(type='MotionBlur'),\n",
      "                            dict(type='GaussNoise'),\n",
      "                            dict(type='ImageCompression', quality_lower=75)\n",
      "                        ],\n",
      "                        p=0.1),\n",
      "                    dict(type='RandomRotate90', p=0.2)\n",
      "                ],\n",
      "                bbox_params=dict(\n",
      "                    type='BboxParams',\n",
      "                    format='pascal_voc',\n",
      "                    label_fields=['gt_labels'],\n",
      "                    min_visibility=0.0,\n",
      "                    filter_lost_elements=True),\n",
      "                keymap=dict(img='image', gt_masks='masks', gt_bboxes='bboxes'),\n",
      "                update_pad_shape=False,\n",
      "                skip_img_without_anno=True),\n",
      "            dict(\n",
      "                type='Normalize',\n",
      "                mean=[123.675, 116.28, 103.53],\n",
      "                std=[58.395, 57.12, 57.375],\n",
      "                to_rgb=True),\n",
      "            dict(type='Pad', size_divisor=32),\n",
      "            dict(type='DefaultFormatBundle'),\n",
      "            dict(type='Collect', keys=['img', 'gt_bboxes', 'gt_labels'])\n",
      "        ],\n",
      "        classes=('UNKNOWN', 'General trash', 'Paper', 'Paper pack', 'Metal',\n",
      "                 'Glass', 'Plastic', 'Styrofoam', 'Plastic bag', 'Battery',\n",
      "                 'Clothing')),\n",
      "    val=dict(\n",
      "        type='CocoDataset',\n",
      "        ann_file='/opt/ml/input/data/val.json',\n",
      "        img_prefix='/opt/ml/input/data/',\n",
      "        pipeline=[\n",
      "            dict(type='LoadImageFromFile'),\n",
      "            dict(\n",
      "                type='MultiScaleFlipAug',\n",
      "                img_scale=(1333, 800),\n",
      "                flip=False,\n",
      "                transforms=[\n",
      "                    dict(type='Resize', keep_ratio=True),\n",
      "                    dict(type='RandomFlip'),\n",
      "                    dict(\n",
      "                        type='Normalize',\n",
      "                        mean=[123.675, 116.28, 103.53],\n",
      "                        std=[58.395, 57.12, 57.375],\n",
      "                        to_rgb=True),\n",
      "                    dict(type='Pad', size_divisor=32),\n",
      "                    dict(type='ImageToTensor', keys=['img']),\n",
      "                    dict(type='Collect', keys=['img'])\n",
      "                ])\n",
      "        ],\n",
      "        classes=('UNKNOWN', 'General trash', 'Paper', 'Paper pack', 'Metal',\n",
      "                 'Glass', 'Plastic', 'Styrofoam', 'Plastic bag', 'Battery',\n",
      "                 'Clothing')),\n",
      "    test=dict(\n",
      "        type='CocoDataset',\n",
      "        ann_file='/opt/ml/input/data/test.json',\n",
      "        img_prefix='/opt/ml/input/data/',\n",
      "        pipeline=[\n",
      "            dict(type='LoadImageFromFile'),\n",
      "            dict(\n",
      "                type='MultiScaleFlipAug',\n",
      "                img_scale=(1333, 800),\n",
      "                flip=False,\n",
      "                transforms=[\n",
      "                    dict(type='Resize', keep_ratio=True),\n",
      "                    dict(type='RandomFlip'),\n",
      "                    dict(\n",
      "                        type='Normalize',\n",
      "                        mean=[123.675, 116.28, 103.53],\n",
      "                        std=[58.395, 57.12, 57.375],\n",
      "                        to_rgb=True),\n",
      "                    dict(type='Pad', size_divisor=32),\n",
      "                    dict(type='ImageToTensor', keys=['img']),\n",
      "                    dict(type='Collect', keys=['img'])\n",
      "                ])\n",
      "        ],\n",
      "        classes=('UNKNOWN', 'General trash', 'Paper', 'Paper pack', 'Metal',\n",
      "                 'Glass', 'Plastic', 'Styrofoam', 'Plastic bag', 'Battery',\n",
      "                 'Clothing')))\n",
      "evaluation = dict(interval=1, metric='bbox')\n",
      "optimizer = dict(type='SGD', lr=0.01, momentum=0.9, weight_decay=0.0001)\n",
      "optimizer_config = dict(grad_clip=dict(max_norm=35, norm_type=2))\n",
      "lr_config = dict(\n",
      "    policy='step',\n",
      "    warmup='linear',\n",
      "    warmup_iters=1000,\n",
      "    warmup_ratio=0.001,\n",
      "    step=[16, 19])\n",
      "runner = dict(type='EpochBasedRunner', max_epochs=20)\n",
      "checkpoint_config = dict(interval=1)\n",
      "log_config = dict(\n",
      "    interval=100,\n",
      "    hooks=[dict(type='TensorboardLoggerHook'),\n",
      "           dict(type='TextLoggerHook')])\n",
      "custom_hooks = [dict(type='NumClassCheckHook')]\n",
      "dist_params = dict(backend='nccl')\n",
      "log_level = 'INFO'\n",
      "load_from = 'universenet101_2008d_fp16_4x4_mstrain_480_960_20e_coco_20201023_epoch_20-3e0d236a.pth'\n",
      "resume_from = None\n",
      "workflow = [('train', 1)]\n",
      "seed = 2020\n",
      "gpu_ids = [0]\n",
      "work_dir = '/opt/ml/code/UniverseNet/work_dirs/universenet101_2008d_fp16_4x4_mstrain_480_960_20e_coco'\n",
      "\n"
     ]
    }
   ],
   "source": [
    "classes = (\"UNKNOWN\", \"General trash\", \"Paper\", \"Paper pack\", \"Metal\", \"Glass\", \n",
    "           \"Plastic\", \"Styrofoam\", \"Plastic bag\", \"Battery\", \"Clothing\")\n",
    "# config file 들고오기\n",
    "cfg = Config.fromfile('/opt/ml/code/UniverseNet/configs/universenet/universenet101_2008d_fp16_4x4_mstrain_480_960_20e_coco.py')\n",
    "\n",
    "PREFIX = '/opt/ml/input/data/'\n",
    "\n",
    "# dataset 바꾸기\n",
    "cfg.data.train.classes = classes\n",
    "cfg.data.train.img_prefix = PREFIX\n",
    "cfg.data.train.ann_file = PREFIX + 'train_all.json'\n",
    "\n",
    "cfg.data.val.classes = classes\n",
    "cfg.data.val.img_prefix = PREFIX\n",
    "cfg.data.val.ann_file = PREFIX + 'val.json'\n",
    "\n",
    "cfg.data.test.classes = classes\n",
    "cfg.data.test.img_prefix = PREFIX\n",
    "cfg.data.test.ann_file = PREFIX + 'test.json'\n",
    "\n",
    "cfg.model.backbone.norm_cfg.type = 'BN'\n",
    "# cfg.runner.type = \"EpochBasedRunnerAmp\"\n",
    "\n",
    "# augmentation\n",
    "img_norm_cfg = dict(mean=[123.675, 116.28, 103.53], std=[58.395, 57.12, 57.375], to_rgb=True)\n",
    "albu_train_transforms = [\n",
    "    dict(\n",
    "        type=\"Cutout\",\n",
    "        num_holes=30,\n",
    "        max_h_size=30,\n",
    "        max_w_size=30,\n",
    "        fill_value=img_norm_cfg[\"mean\"][::-1],\n",
    "        p=0.1,\n",
    "    ),\n",
    "    # albu_example\n",
    "    dict(\n",
    "        type='RandomBrightnessContrast',\n",
    "        brightness_limit=[0.1, 0.3],\n",
    "        contrast_limit=[0.1, 0.3],\n",
    "        p=0.2),\n",
    "    dict(\n",
    "        type='OneOf',\n",
    "        transforms=[\n",
    "            dict(\n",
    "                type='RGBShift',\n",
    "                r_shift_limit=10,\n",
    "                g_shift_limit=10,\n",
    "                b_shift_limit=10,\n",
    "                p=1.0),\n",
    "            dict(\n",
    "                type='HueSaturationValue',\n",
    "                hue_shift_limit=20,\n",
    "                sat_shift_limit=30,\n",
    "                val_shift_limit=20,\n",
    "                p=1.0),\n",
    "            dict(type=\"RandomGamma\"),\n",
    "            dict(type=\"CLAHE\"),\n",
    "        ],\n",
    "        p=0.1),\n",
    "    dict(type='JpegCompression', quality_lower=85, quality_upper=95, p=0.2),\n",
    "    dict(type='ChannelShuffle', p=0.1),\n",
    "    dict(\n",
    "        type='OneOf',\n",
    "        transforms=[\n",
    "            dict(type='Blur', blur_limit=3, p=1.0),\n",
    "            dict(type='MedianBlur', blur_limit=3, p=1.0),\n",
    "            dict(type=\"MotionBlur\"),\n",
    "            dict(type=\"GaussNoise\"),\n",
    "            dict(type=\"ImageCompression\", quality_lower=75),\n",
    "        ],\n",
    "        p=0.1),\n",
    "    dict(type='RandomRotate90', p=0.2),\n",
    "]\n",
    "cfg.data.train.pipeline.insert(4, dict(\n",
    "        type='Albu',\n",
    "        transforms=albu_train_transforms,\n",
    "        bbox_params=dict(\n",
    "            type='BboxParams',\n",
    "            format='pascal_voc',\n",
    "            label_fields=['gt_labels'],\n",
    "            min_visibility=0.0,\n",
    "            filter_lost_elements=True),\n",
    "        keymap={\n",
    "            'img': 'image',\n",
    "            'gt_masks': 'masks',\n",
    "            'gt_bboxes': 'bboxes'\n",
    "        },\n",
    "        update_pad_shape=False,\n",
    "        skip_img_without_anno=True))\n",
    "\n",
    "cfg.data.samples_per_gpu = 8\n",
    "cfg.data.workers_per_gpu = 1\n",
    "\n",
    "cfg.seed=2020\n",
    "cfg.gpu_ids = [0]\n",
    "cfg.work_dir = '/opt/ml/code/UniverseNet/work_dirs/universenet101_2008d_fp16_4x4_mstrain_480_960_20e_coco'\n",
    "\n",
    "cfg.model.bbox_head.num_classes = 11\n",
    "\n",
    "cfg.optimizer_config.grad_clip = dict(max_norm=35, norm_type=2)\n",
    "\n",
    "cfg.load_from = 'universenet101_2008d_fp16_4x4_mstrain_480_960_20e_coco_20201023_epoch_20-3e0d236a.pth' # pretrained\n",
    "cfg.log_config = dict(  # config to register logger hook\n",
    "    interval=100,  # Interval to print the log\n",
    "    hooks=[\n",
    "        dict(type='TensorboardLoggerHook'),  # The Tensorboard logger is also supported\n",
    "        dict(type='TextLoggerHook')\n",
    "    ])\n",
    "print(f'Config:\\n{cfg.pretty_text}')"
   ]
  },
  {
   "cell_type": "code",
   "execution_count": 3,
   "metadata": {
    "pycharm": {
     "name": "#%%\n"
    }
   },
   "outputs": [
    {
     "name": "stderr",
     "output_type": "stream",
     "text": [
      "2021-05-20 01:38:51,177 - mmdet - INFO - load model from: open-mmlab://res2net101_v1d_26w_4s\n",
      "2021-05-20 01:38:51,178 - mmdet - INFO - Use load_from_openmmlab loader\n",
      "2021-05-20 01:38:51,411 - mmdet - WARNING - The model and loaded state dict do not match exactly\n",
      "\n",
      "unexpected key in source state_dict: fc.weight, fc.bias\n",
      "\n",
      "missing keys in source state_dict: layer2.0.convs.0.conv_offset.weight, layer2.0.convs.0.conv_offset.bias, layer2.0.convs.1.conv_offset.weight, layer2.0.convs.1.conv_offset.bias, layer2.0.convs.2.conv_offset.weight, layer2.0.convs.2.conv_offset.bias, layer2.1.convs.0.conv_offset.weight, layer2.1.convs.0.conv_offset.bias, layer2.1.convs.1.conv_offset.weight, layer2.1.convs.1.conv_offset.bias, layer2.1.convs.2.conv_offset.weight, layer2.1.convs.2.conv_offset.bias, layer2.2.convs.0.conv_offset.weight, layer2.2.convs.0.conv_offset.bias, layer2.2.convs.1.conv_offset.weight, layer2.2.convs.1.conv_offset.bias, layer2.2.convs.2.conv_offset.weight, layer2.2.convs.2.conv_offset.bias, layer2.3.convs.0.conv_offset.weight, layer2.3.convs.0.conv_offset.bias, layer2.3.convs.1.conv_offset.weight, layer2.3.convs.1.conv_offset.bias, layer2.3.convs.2.conv_offset.weight, layer2.3.convs.2.conv_offset.bias, layer3.0.convs.0.conv_offset.weight, layer3.0.convs.0.conv_offset.bias, layer3.0.convs.1.conv_offset.weight, layer3.0.convs.1.conv_offset.bias, layer3.0.convs.2.conv_offset.weight, layer3.0.convs.2.conv_offset.bias, layer3.1.convs.0.conv_offset.weight, layer3.1.convs.0.conv_offset.bias, layer3.1.convs.1.conv_offset.weight, layer3.1.convs.1.conv_offset.bias, layer3.1.convs.2.conv_offset.weight, layer3.1.convs.2.conv_offset.bias, layer3.2.convs.0.conv_offset.weight, layer3.2.convs.0.conv_offset.bias, layer3.2.convs.1.conv_offset.weight, layer3.2.convs.1.conv_offset.bias, layer3.2.convs.2.conv_offset.weight, layer3.2.convs.2.conv_offset.bias, layer3.3.convs.0.conv_offset.weight, layer3.3.convs.0.conv_offset.bias, layer3.3.convs.1.conv_offset.weight, layer3.3.convs.1.conv_offset.bias, layer3.3.convs.2.conv_offset.weight, layer3.3.convs.2.conv_offset.bias, layer3.4.convs.0.conv_offset.weight, layer3.4.convs.0.conv_offset.bias, layer3.4.convs.1.conv_offset.weight, layer3.4.convs.1.conv_offset.bias, layer3.4.convs.2.conv_offset.weight, layer3.4.convs.2.conv_offset.bias, layer3.5.convs.0.conv_offset.weight, layer3.5.convs.0.conv_offset.bias, layer3.5.convs.1.conv_offset.weight, layer3.5.convs.1.conv_offset.bias, layer3.5.convs.2.conv_offset.weight, layer3.5.convs.2.conv_offset.bias, layer3.6.convs.0.conv_offset.weight, layer3.6.convs.0.conv_offset.bias, layer3.6.convs.1.conv_offset.weight, layer3.6.convs.1.conv_offset.bias, layer3.6.convs.2.conv_offset.weight, layer3.6.convs.2.conv_offset.bias, layer3.7.convs.0.conv_offset.weight, layer3.7.convs.0.conv_offset.bias, layer3.7.convs.1.conv_offset.weight, layer3.7.convs.1.conv_offset.bias, layer3.7.convs.2.conv_offset.weight, layer3.7.convs.2.conv_offset.bias, layer3.8.convs.0.conv_offset.weight, layer3.8.convs.0.conv_offset.bias, layer3.8.convs.1.conv_offset.weight, layer3.8.convs.1.conv_offset.bias, layer3.8.convs.2.conv_offset.weight, layer3.8.convs.2.conv_offset.bias, layer3.9.convs.0.conv_offset.weight, layer3.9.convs.0.conv_offset.bias, layer3.9.convs.1.conv_offset.weight, layer3.9.convs.1.conv_offset.bias, layer3.9.convs.2.conv_offset.weight, layer3.9.convs.2.conv_offset.bias, layer3.10.convs.0.conv_offset.weight, layer3.10.convs.0.conv_offset.bias, layer3.10.convs.1.conv_offset.weight, layer3.10.convs.1.conv_offset.bias, layer3.10.convs.2.conv_offset.weight, layer3.10.convs.2.conv_offset.bias, layer3.11.convs.0.conv_offset.weight, layer3.11.convs.0.conv_offset.bias, layer3.11.convs.1.conv_offset.weight, layer3.11.convs.1.conv_offset.bias, layer3.11.convs.2.conv_offset.weight, layer3.11.convs.2.conv_offset.bias, layer3.12.convs.0.conv_offset.weight, layer3.12.convs.0.conv_offset.bias, layer3.12.convs.1.conv_offset.weight, layer3.12.convs.1.conv_offset.bias, layer3.12.convs.2.conv_offset.weight, layer3.12.convs.2.conv_offset.bias, layer3.13.convs.0.conv_offset.weight, layer3.13.convs.0.conv_offset.bias, layer3.13.convs.1.conv_offset.weight, layer3.13.convs.1.conv_offset.bias, layer3.13.convs.2.conv_offset.weight, layer3.13.convs.2.conv_offset.bias, layer3.14.convs.0.conv_offset.weight, layer3.14.convs.0.conv_offset.bias, layer3.14.convs.1.conv_offset.weight, layer3.14.convs.1.conv_offset.bias, layer3.14.convs.2.conv_offset.weight, layer3.14.convs.2.conv_offset.bias, layer3.15.convs.0.conv_offset.weight, layer3.15.convs.0.conv_offset.bias, layer3.15.convs.1.conv_offset.weight, layer3.15.convs.1.conv_offset.bias, layer3.15.convs.2.conv_offset.weight, layer3.15.convs.2.conv_offset.bias, layer3.16.convs.0.conv_offset.weight, layer3.16.convs.0.conv_offset.bias, layer3.16.convs.1.conv_offset.weight, layer3.16.convs.1.conv_offset.bias, layer3.16.convs.2.conv_offset.weight, layer3.16.convs.2.conv_offset.bias, layer3.17.convs.0.conv_offset.weight, layer3.17.convs.0.conv_offset.bias, layer3.17.convs.1.conv_offset.weight, layer3.17.convs.1.conv_offset.bias, layer3.17.convs.2.conv_offset.weight, layer3.17.convs.2.conv_offset.bias, layer3.18.convs.0.conv_offset.weight, layer3.18.convs.0.conv_offset.bias, layer3.18.convs.1.conv_offset.weight, layer3.18.convs.1.conv_offset.bias, layer3.18.convs.2.conv_offset.weight, layer3.18.convs.2.conv_offset.bias, layer3.19.convs.0.conv_offset.weight, layer3.19.convs.0.conv_offset.bias, layer3.19.convs.1.conv_offset.weight, layer3.19.convs.1.conv_offset.bias, layer3.19.convs.2.conv_offset.weight, layer3.19.convs.2.conv_offset.bias, layer3.20.convs.0.conv_offset.weight, layer3.20.convs.0.conv_offset.bias, layer3.20.convs.1.conv_offset.weight, layer3.20.convs.1.conv_offset.bias, layer3.20.convs.2.conv_offset.weight, layer3.20.convs.2.conv_offset.bias, layer3.21.convs.0.conv_offset.weight, layer3.21.convs.0.conv_offset.bias, layer3.21.convs.1.conv_offset.weight, layer3.21.convs.1.conv_offset.bias, layer3.21.convs.2.conv_offset.weight, layer3.21.convs.2.conv_offset.bias, layer3.22.convs.0.conv_offset.weight, layer3.22.convs.0.conv_offset.bias, layer3.22.convs.1.conv_offset.weight, layer3.22.convs.1.conv_offset.bias, layer3.22.convs.2.conv_offset.weight, layer3.22.convs.2.conv_offset.bias, layer4.0.convs.0.conv_offset.weight, layer4.0.convs.0.conv_offset.bias, layer4.0.convs.1.conv_offset.weight, layer4.0.convs.1.conv_offset.bias, layer4.0.convs.2.conv_offset.weight, layer4.0.convs.2.conv_offset.bias, layer4.1.convs.0.conv_offset.weight, layer4.1.convs.0.conv_offset.bias, layer4.1.convs.1.conv_offset.weight, layer4.1.convs.1.conv_offset.bias, layer4.1.convs.2.conv_offset.weight, layer4.1.convs.2.conv_offset.bias, layer4.2.convs.0.conv_offset.weight, layer4.2.convs.0.conv_offset.bias, layer4.2.convs.1.conv_offset.weight, layer4.2.convs.1.conv_offset.bias, layer4.2.convs.2.conv_offset.weight, layer4.2.convs.2.conv_offset.bias\n",
      "\n"
     ]
    }
   ],
   "source": [
    "model = build_detector(cfg.model)"
   ]
  },
  {
   "cell_type": "code",
   "execution_count": 4,
   "metadata": {
    "pycharm": {
     "name": "#%%\n"
    }
   },
   "outputs": [
    {
     "name": "stdout",
     "output_type": "stream",
     "text": [
      "loading annotations into memory...\n",
      "Done (t=4.80s)\n",
      "creating index...\n",
      "index created!\n"
     ]
    }
   ],
   "source": [
    "datasets = [build_dataset(cfg.data.train)]"
   ]
  },
  {
   "cell_type": "code",
   "execution_count": 5,
   "metadata": {
    "pycharm": {
     "name": "#%%\n"
    }
   },
   "outputs": [
    {
     "name": "stdout",
     "output_type": "stream",
     "text": [
      "loading annotations into memory...\n",
      "Done (t=0.92s)\n",
      "creating index...\n"
     ]
    },
    {
     "name": "stderr",
     "output_type": "stream",
     "text": [
      "2021-05-20 01:39:01,999 - mmdet - INFO - load checkpoint from universenet101_2008d_fp16_4x4_mstrain_480_960_20e_coco_20201023_epoch_20-3e0d236a.pth\n",
      "2021-05-20 01:39:02,000 - mmdet - INFO - Use load_from_local loader\n"
     ]
    },
    {
     "name": "stdout",
     "output_type": "stream",
     "text": [
      "index created!\n"
     ]
    },
    {
     "name": "stderr",
     "output_type": "stream",
     "text": [
      "2021-05-20 01:39:02,326 - mmdet - WARNING - The model and loaded state dict do not match exactly\n",
      "\n",
      "size mismatch for bbox_head.gfl_cls.weight: copying a param with shape torch.Size([80, 256, 3, 3]) from checkpoint, the shape in current model is torch.Size([11, 256, 3, 3]).\n",
      "size mismatch for bbox_head.gfl_cls.bias: copying a param with shape torch.Size([80]) from checkpoint, the shape in current model is torch.Size([11]).\n",
      "2021-05-20 01:39:02,329 - mmdet - INFO - Start running, host: root@03064abcf195, work_dir: /opt/ml/code/UniverseNet/work_dirs/universenet101_2008d_fp16_4x4_mstrain_480_960_20e_coco\n",
      "2021-05-20 01:39:02,332 - mmdet - INFO - workflow: [('train', 1)], max: 20 epochs\n",
      "/opt/ml/code/UniverseNet/mmdet/core/evaluation/eval_hooks.py:111: UserWarning: runner.meta is None. Creating a empty one.\n",
      "  warnings.warn('runner.meta is None. Creating a empty one.')\n",
      "2021-05-20 01:42:34,726 - mmdet - INFO - Epoch [1][100/409]\tlr: 9.990e-04, eta: 4:45:46, time: 2.122, data_time: 0.041, memory: 21697, loss_cls: 1.5521, loss_bbox: 0.4044, loss_dfl: 0.2684, loss: 2.2249, grad_norm: 7.1831\n",
      "2021-05-20 01:46:04,103 - mmdet - INFO - Epoch [1][200/409]\tlr: 1.998e-03, eta: 4:40:21, time: 2.094, data_time: 0.017, memory: 21697, loss_cls: 0.6855, loss_bbox: 0.3036, loss_dfl: 0.2314, loss: 1.2206, grad_norm: 6.3249\n",
      "2021-05-20 01:49:37,686 - mmdet - INFO - Epoch [1][300/409]\tlr: 2.997e-03, eta: 4:38:03, time: 2.136, data_time: 0.018, memory: 21697, loss_cls: 0.6081, loss_bbox: 0.2983, loss_dfl: 0.2275, loss: 1.1339, grad_norm: 5.6950\n",
      "2021-05-20 01:53:07,973 - mmdet - INFO - Epoch [1][400/409]\tlr: 3.996e-03, eta: 4:34:04, time: 2.103, data_time: 0.018, memory: 21697, loss_cls: 0.5638, loss_bbox: 0.2920, loss_dfl: 0.2236, loss: 1.0794, grad_norm: 5.2499\n",
      "2021-05-20 01:53:26,132 - mmdet - INFO - Saving checkpoint at 1 epochs\n"
     ]
    },
    {
     "name": "stdout",
     "output_type": "stream",
     "text": [
      "[>>>>>>>>>>>>>>>>>>>>>>>>>>>>>] 655/655, 10.1 task/s, elapsed: 65s, ETA:     0s"
     ]
    },
    {
     "name": "stderr",
     "output_type": "stream",
     "text": [
      "2021-05-20 01:54:33,554 - mmdet - INFO - Evaluating bbox...\n"
     ]
    },
    {
     "name": "stdout",
     "output_type": "stream",
     "text": [
      "Loading and preparing results...\n",
      "DONE (t=1.40s)\n",
      "creating index...\n",
      "index created!\n",
      "Running per image evaluation...\n",
      "Evaluate annotation type *bbox*\n",
      "DONE (t=6.65s).\n",
      "Accumulating evaluation results...\n"
     ]
    },
    {
     "name": "stderr",
     "output_type": "stream",
     "text": [
      "2021-05-20 01:54:43,549 - mmdet - INFO - Now best checkpoint is epoch_1.pth.Best bbox_mAP is 0.2420\n"
     ]
    },
    {
     "name": "stdout",
     "output_type": "stream",
     "text": [
      "DONE (t=1.79s).\n",
      "Average Precision  (AP) @[ IoU=0.50:0.95 | area=   all | maxDets=100 ] = 0.242\n",
      "Average Precision  (AP) @[ IoU=0.50      | area=   all | maxDets=1000 ] = 0.306\n",
      "Average Precision  (AP) @[ IoU=0.75      | area=   all | maxDets=1000 ] = 0.256\n",
      "Average Precision  (AP) @[ IoU=0.50:0.95 | area= small | maxDets=1000 ] = 0.088\n",
      "Average Precision  (AP) @[ IoU=0.50:0.95 | area=medium | maxDets=1000 ] = 0.283\n",
      "Average Precision  (AP) @[ IoU=0.50:0.95 | area= large | maxDets=1000 ] = 0.361\n",
      "Average Recall     (AR) @[ IoU=0.50:0.95 | area=   all | maxDets=100 ] = 0.518\n",
      "Average Recall     (AR) @[ IoU=0.50:0.95 | area=   all | maxDets=300 ] = 0.518\n",
      "Average Recall     (AR) @[ IoU=0.50:0.95 | area=   all | maxDets=1000 ] = 0.518\n",
      "Average Recall     (AR) @[ IoU=0.50:0.95 | area= small | maxDets=1000 ] = 0.207\n",
      "Average Recall     (AR) @[ IoU=0.50:0.95 | area=medium | maxDets=1000 ] = 0.512\n",
      "Average Recall     (AR) @[ IoU=0.50:0.95 | area= large | maxDets=1000 ] = 0.831\n"
     ]
    },
    {
     "name": "stderr",
     "output_type": "stream",
     "text": [
      "2021-05-20 01:58:15,464 - mmdet - INFO - Epoch [2][100/409]\tlr: 5.085e-03, eta: 4:25:34, time: 2.119, data_time: 0.042, memory: 21697, loss_cls: 0.5353, loss_bbox: 0.2851, loss_dfl: 0.2212, loss: 1.0415, grad_norm: 4.7105\n",
      "2021-05-20 02:01:44,421 - mmdet - INFO - Epoch [2][200/409]\tlr: 6.084e-03, eta: 4:22:22, time: 2.090, data_time: 0.018, memory: 21697, loss_cls: 0.5447, loss_bbox: 0.2787, loss_dfl: 0.2188, loss: 1.0422, grad_norm: 5.0010\n",
      "2021-05-20 02:05:17,374 - mmdet - INFO - Epoch [2][300/409]\tlr: 7.083e-03, eta: 4:19:47, time: 2.130, data_time: 0.018, memory: 21697, loss_cls: 0.5376, loss_bbox: 0.2986, loss_dfl: 0.2265, loss: 1.0627, grad_norm: 4.5063\n",
      "2021-05-20 02:08:48,368 - mmdet - INFO - Epoch [2][400/409]\tlr: 8.082e-03, eta: 4:16:40, time: 2.110, data_time: 0.019, memory: 21697, loss_cls: 0.5468, loss_bbox: 0.2801, loss_dfl: 0.2176, loss: 1.0445, grad_norm: 4.4165\n",
      "2021-05-20 02:09:06,537 - mmdet - INFO - Saving checkpoint at 2 epochs\n"
     ]
    },
    {
     "name": "stdout",
     "output_type": "stream",
     "text": [
      "[>>>>>>>>>>>>>>>>>>>>>>>>>>>>>] 655/655, 10.1 task/s, elapsed: 65s, ETA:     0s"
     ]
    },
    {
     "name": "stderr",
     "output_type": "stream",
     "text": [
      "2021-05-20 02:10:14,292 - mmdet - INFO - Evaluating bbox...\n"
     ]
    },
    {
     "name": "stdout",
     "output_type": "stream",
     "text": [
      "Loading and preparing results...\n",
      "DONE (t=0.87s)\n",
      "creating index...\n",
      "index created!\n",
      "Running per image evaluation...\n",
      "Evaluate annotation type *bbox*\n",
      "DONE (t=7.62s).\n",
      "Accumulating evaluation results...\n"
     ]
    },
    {
     "name": "stderr",
     "output_type": "stream",
     "text": [
      "2021-05-20 02:10:24,840 - mmdet - INFO - Now best checkpoint is epoch_2.pth.Best bbox_mAP is 0.2800\n"
     ]
    },
    {
     "name": "stdout",
     "output_type": "stream",
     "text": [
      "DONE (t=1.92s).\n",
      "Average Precision  (AP) @[ IoU=0.50:0.95 | area=   all | maxDets=100 ] = 0.280\n",
      "Average Precision  (AP) @[ IoU=0.50      | area=   all | maxDets=1000 ] = 0.353\n",
      "Average Precision  (AP) @[ IoU=0.75      | area=   all | maxDets=1000 ] = 0.296\n",
      "Average Precision  (AP) @[ IoU=0.50:0.95 | area= small | maxDets=1000 ] = 0.124\n",
      "Average Precision  (AP) @[ IoU=0.50:0.95 | area=medium | maxDets=1000 ] = 0.282\n",
      "Average Precision  (AP) @[ IoU=0.50:0.95 | area= large | maxDets=1000 ] = 0.485\n",
      "Average Recall     (AR) @[ IoU=0.50:0.95 | area=   all | maxDets=100 ] = 0.492\n",
      "Average Recall     (AR) @[ IoU=0.50:0.95 | area=   all | maxDets=300 ] = 0.492\n",
      "Average Recall     (AR) @[ IoU=0.50:0.95 | area=   all | maxDets=1000 ] = 0.492\n",
      "Average Recall     (AR) @[ IoU=0.50:0.95 | area= small | maxDets=1000 ] = 0.233\n",
      "Average Recall     (AR) @[ IoU=0.50:0.95 | area=medium | maxDets=1000 ] = 0.494\n",
      "Average Recall     (AR) @[ IoU=0.50:0.95 | area= large | maxDets=1000 ] = 0.827\n"
     ]
    },
    {
     "name": "stderr",
     "output_type": "stream",
     "text": [
      "2021-05-20 02:13:56,423 - mmdet - INFO - Epoch [3][100/409]\tlr: 9.171e-03, eta: 4:10:44, time: 2.116, data_time: 0.042, memory: 21697, loss_cls: 0.5244, loss_bbox: 0.2783, loss_dfl: 0.2168, loss: 1.0194, grad_norm: 4.2963\n",
      "2021-05-20 02:17:25,443 - mmdet - INFO - Epoch [3][200/409]\tlr: 1.000e-02, eta: 4:07:30, time: 2.090, data_time: 0.018, memory: 21697, loss_cls: 0.4934, loss_bbox: 0.2911, loss_dfl: 0.2208, loss: 1.0053, grad_norm: 4.0566\n",
      "2021-05-20 02:20:58,430 - mmdet - INFO - Epoch [3][300/409]\tlr: 1.000e-02, eta: 4:04:38, time: 2.130, data_time: 0.018, memory: 21697, loss_cls: 0.5413, loss_bbox: 0.2824, loss_dfl: 0.2181, loss: 1.0418, grad_norm: 4.2725\n",
      "2021-05-20 02:24:29,221 - mmdet - INFO - Epoch [3][400/409]\tlr: 1.000e-02, eta: 4:01:27, time: 2.108, data_time: 0.019, memory: 21697, loss_cls: 0.5153, loss_bbox: 0.2883, loss_dfl: 0.2202, loss: 1.0238, grad_norm: 3.8331\n",
      "2021-05-20 02:24:47,387 - mmdet - INFO - Saving checkpoint at 3 epochs\n"
     ]
    },
    {
     "name": "stdout",
     "output_type": "stream",
     "text": [
      "[>>>>>>>>>>>>>>>>>>>>>>>>>>>>>] 655/655, 10.2 task/s, elapsed: 64s, ETA:     0s"
     ]
    },
    {
     "name": "stderr",
     "output_type": "stream",
     "text": [
      "2021-05-20 02:25:54,585 - mmdet - INFO - Evaluating bbox...\n"
     ]
    },
    {
     "name": "stdout",
     "output_type": "stream",
     "text": [
      "Loading and preparing results...\n",
      "DONE (t=0.79s)\n",
      "creating index...\n",
      "index created!\n",
      "Running per image evaluation...\n",
      "Evaluate annotation type *bbox*\n",
      "DONE (t=7.63s).\n",
      "Accumulating evaluation results...\n"
     ]
    },
    {
     "name": "stderr",
     "output_type": "stream",
     "text": [
      "2021-05-20 02:26:04,763 - mmdet - INFO - Now best checkpoint is epoch_3.pth.Best bbox_mAP is 0.3660\n"
     ]
    },
    {
     "name": "stdout",
     "output_type": "stream",
     "text": [
      "DONE (t=1.62s).\n",
      "Average Precision  (AP) @[ IoU=0.50:0.95 | area=   all | maxDets=100 ] = 0.366\n",
      "Average Precision  (AP) @[ IoU=0.50      | area=   all | maxDets=1000 ] = 0.459\n",
      "Average Precision  (AP) @[ IoU=0.75      | area=   all | maxDets=1000 ] = 0.396\n",
      "Average Precision  (AP) @[ IoU=0.50:0.95 | area= small | maxDets=1000 ] = 0.122\n",
      "Average Precision  (AP) @[ IoU=0.50:0.95 | area=medium | maxDets=1000 ] = 0.371\n",
      "Average Precision  (AP) @[ IoU=0.50:0.95 | area= large | maxDets=1000 ] = 0.570\n",
      "Average Recall     (AR) @[ IoU=0.50:0.95 | area=   all | maxDets=100 ] = 0.560\n",
      "Average Recall     (AR) @[ IoU=0.50:0.95 | area=   all | maxDets=300 ] = 0.560\n",
      "Average Recall     (AR) @[ IoU=0.50:0.95 | area=   all | maxDets=1000 ] = 0.560\n",
      "Average Recall     (AR) @[ IoU=0.50:0.95 | area= small | maxDets=1000 ] = 0.245\n",
      "Average Recall     (AR) @[ IoU=0.50:0.95 | area=medium | maxDets=1000 ] = 0.567\n",
      "Average Recall     (AR) @[ IoU=0.50:0.95 | area= large | maxDets=1000 ] = 0.803\n"
     ]
    },
    {
     "name": "stderr",
     "output_type": "stream",
     "text": [
      "2021-05-20 02:29:36,600 - mmdet - INFO - Epoch [4][100/409]\tlr: 1.000e-02, eta: 3:56:23, time: 2.118, data_time: 0.042, memory: 21697, loss_cls: 0.4881, loss_bbox: 0.2756, loss_dfl: 0.2151, loss: 0.9788, grad_norm: 4.0743\n",
      "2021-05-20 02:33:06,164 - mmdet - INFO - Epoch [4][200/409]\tlr: 1.000e-02, eta: 3:53:08, time: 2.096, data_time: 0.018, memory: 21697, loss_cls: 0.4958, loss_bbox: 0.2685, loss_dfl: 0.2117, loss: 0.9761, grad_norm: 3.7752\n",
      "2021-05-20 02:36:39,527 - mmdet - INFO - Epoch [4][300/409]\tlr: 1.000e-02, eta: 3:50:08, time: 2.134, data_time: 0.018, memory: 21697, loss_cls: 0.4819, loss_bbox: 0.2800, loss_dfl: 0.2175, loss: 0.9793, grad_norm: 3.7199\n",
      "2021-05-20 02:40:10,570 - mmdet - INFO - Epoch [4][400/409]\tlr: 1.000e-02, eta: 3:46:54, time: 2.110, data_time: 0.019, memory: 21697, loss_cls: 0.4591, loss_bbox: 0.2799, loss_dfl: 0.2173, loss: 0.9562, grad_norm: 3.3948\n",
      "2021-05-20 02:40:28,822 - mmdet - INFO - Saving checkpoint at 4 epochs\n"
     ]
    },
    {
     "name": "stdout",
     "output_type": "stream",
     "text": [
      "[>>>>>>>>>>>>>>>>>>>>>>>>>>>>>>] 655/655, 9.8 task/s, elapsed: 67s, ETA:     0s"
     ]
    },
    {
     "name": "stderr",
     "output_type": "stream",
     "text": [
      "2021-05-20 02:41:38,383 - mmdet - INFO - Evaluating bbox...\n"
     ]
    },
    {
     "name": "stdout",
     "output_type": "stream",
     "text": [
      "Loading and preparing results...\n",
      "DONE (t=0.80s)\n",
      "creating index...\n",
      "index created!\n",
      "Running per image evaluation...\n",
      "Evaluate annotation type *bbox*\n",
      "DONE (t=7.20s).\n",
      "Accumulating evaluation results...\n"
     ]
    },
    {
     "name": "stderr",
     "output_type": "stream",
     "text": [
      "2021-05-20 02:41:48,322 - mmdet - INFO - Now best checkpoint is epoch_4.pth.Best bbox_mAP is 0.4230\n"
     ]
    },
    {
     "name": "stdout",
     "output_type": "stream",
     "text": [
      "DONE (t=1.79s).\n",
      "Average Precision  (AP) @[ IoU=0.50:0.95 | area=   all | maxDets=100 ] = 0.423\n",
      "Average Precision  (AP) @[ IoU=0.50      | area=   all | maxDets=1000 ] = 0.517\n",
      "Average Precision  (AP) @[ IoU=0.75      | area=   all | maxDets=1000 ] = 0.450\n",
      "Average Precision  (AP) @[ IoU=0.50:0.95 | area= small | maxDets=1000 ] = 0.142\n",
      "Average Precision  (AP) @[ IoU=0.50:0.95 | area=medium | maxDets=1000 ] = 0.431\n",
      "Average Precision  (AP) @[ IoU=0.50:0.95 | area= large | maxDets=1000 ] = 0.654\n",
      "Average Recall     (AR) @[ IoU=0.50:0.95 | area=   all | maxDets=100 ] = 0.601\n",
      "Average Recall     (AR) @[ IoU=0.50:0.95 | area=   all | maxDets=300 ] = 0.601\n",
      "Average Recall     (AR) @[ IoU=0.50:0.95 | area=   all | maxDets=1000 ] = 0.601\n",
      "Average Recall     (AR) @[ IoU=0.50:0.95 | area= small | maxDets=1000 ] = 0.295\n",
      "Average Recall     (AR) @[ IoU=0.50:0.95 | area=medium | maxDets=1000 ] = 0.606\n",
      "Average Recall     (AR) @[ IoU=0.50:0.95 | area= large | maxDets=1000 ] = 0.850\n"
     ]
    },
    {
     "name": "stderr",
     "output_type": "stream",
     "text": [
      "2021-05-20 02:45:20,276 - mmdet - INFO - Epoch [5][100/409]\tlr: 1.000e-02, eta: 3:42:14, time: 2.119, data_time: 0.042, memory: 21697, loss_cls: 0.4378, loss_bbox: 0.2611, loss_dfl: 0.2109, loss: 0.9097, grad_norm: 3.5019\n",
      "2021-05-20 02:48:49,369 - mmdet - INFO - Epoch [5][200/409]\tlr: 1.000e-02, eta: 3:38:55, time: 2.091, data_time: 0.018, memory: 21697, loss_cls: 0.4393, loss_bbox: 0.2660, loss_dfl: 0.2107, loss: 0.9160, grad_norm: 3.6774\n",
      "2021-05-20 02:52:22,358 - mmdet - INFO - Epoch [5][300/409]\tlr: 1.000e-02, eta: 3:35:47, time: 2.130, data_time: 0.019, memory: 21697, loss_cls: 0.4564, loss_bbox: 0.2613, loss_dfl: 0.2111, loss: 0.9287, grad_norm: 3.6750\n",
      "2021-05-20 02:55:53,285 - mmdet - INFO - Epoch [5][400/409]\tlr: 1.000e-02, eta: 3:32:30, time: 2.109, data_time: 0.019, memory: 21697, loss_cls: 0.4704, loss_bbox: 0.2745, loss_dfl: 0.2142, loss: 0.9591, grad_norm: 3.7518\n",
      "2021-05-20 02:56:11,417 - mmdet - INFO - Saving checkpoint at 5 epochs\n"
     ]
    },
    {
     "name": "stdout",
     "output_type": "stream",
     "text": [
      "[>>>>>>>>>>>>>>>>>>>>>>>>>>>>>] 655/655, 10.0 task/s, elapsed: 65s, ETA:     0s"
     ]
    },
    {
     "name": "stderr",
     "output_type": "stream",
     "text": [
      "2021-05-20 02:57:19,558 - mmdet - INFO - Evaluating bbox...\n"
     ]
    },
    {
     "name": "stdout",
     "output_type": "stream",
     "text": [
      "Loading and preparing results...\n",
      "DONE (t=0.84s)\n",
      "creating index...\n",
      "index created!\n",
      "Running per image evaluation...\n",
      "Evaluate annotation type *bbox*\n",
      "DONE (t=7.52s).\n",
      "Accumulating evaluation results...\n"
     ]
    },
    {
     "name": "stderr",
     "output_type": "stream",
     "text": [
      "2021-05-20 02:57:29,845 - mmdet - INFO - Now best checkpoint is epoch_5.pth.Best bbox_mAP is 0.4400\n"
     ]
    },
    {
     "name": "stdout",
     "output_type": "stream",
     "text": [
      "DONE (t=1.77s).\n",
      "Average Precision  (AP) @[ IoU=0.50:0.95 | area=   all | maxDets=100 ] = 0.440\n",
      "Average Precision  (AP) @[ IoU=0.50      | area=   all | maxDets=1000 ] = 0.555\n",
      "Average Precision  (AP) @[ IoU=0.75      | area=   all | maxDets=1000 ] = 0.459\n",
      "Average Precision  (AP) @[ IoU=0.50:0.95 | area= small | maxDets=1000 ] = 0.166\n",
      "Average Precision  (AP) @[ IoU=0.50:0.95 | area=medium | maxDets=1000 ] = 0.446\n",
      "Average Precision  (AP) @[ IoU=0.50:0.95 | area= large | maxDets=1000 ] = 0.664\n",
      "Average Recall     (AR) @[ IoU=0.50:0.95 | area=   all | maxDets=100 ] = 0.604\n",
      "Average Recall     (AR) @[ IoU=0.50:0.95 | area=   all | maxDets=300 ] = 0.604\n",
      "Average Recall     (AR) @[ IoU=0.50:0.95 | area=   all | maxDets=1000 ] = 0.604\n",
      "Average Recall     (AR) @[ IoU=0.50:0.95 | area= small | maxDets=1000 ] = 0.308\n",
      "Average Recall     (AR) @[ IoU=0.50:0.95 | area=medium | maxDets=1000 ] = 0.616\n",
      "Average Recall     (AR) @[ IoU=0.50:0.95 | area= large | maxDets=1000 ] = 0.845\n"
     ]
    },
    {
     "name": "stderr",
     "output_type": "stream",
     "text": [
      "2021-05-20 03:01:01,630 - mmdet - INFO - Epoch [6][100/409]\tlr: 1.000e-02, eta: 3:28:03, time: 2.118, data_time: 0.042, memory: 21697, loss_cls: 0.4325, loss_bbox: 0.2607, loss_dfl: 0.2093, loss: 0.9026, grad_norm: 3.6004\n",
      "2021-05-20 03:04:30,689 - mmdet - INFO - Epoch [6][200/409]\tlr: 1.000e-02, eta: 3:24:42, time: 2.091, data_time: 0.018, memory: 21697, loss_cls: 0.4504, loss_bbox: 0.2579, loss_dfl: 0.2072, loss: 0.9155, grad_norm: 3.6932\n",
      "2021-05-20 03:08:03,661 - mmdet - INFO - Epoch [6][300/409]\tlr: 1.000e-02, eta: 3:21:30, time: 2.130, data_time: 0.018, memory: 21697, loss_cls: 0.4389, loss_bbox: 0.2599, loss_dfl: 0.2083, loss: 0.9071, grad_norm: 3.6115\n",
      "2021-05-20 03:11:33,814 - mmdet - INFO - Epoch [6][400/409]\tlr: 1.000e-02, eta: 3:18:10, time: 2.102, data_time: 0.019, memory: 21697, loss_cls: 0.4559, loss_bbox: 0.2714, loss_dfl: 0.2134, loss: 0.9407, grad_norm: 3.7603\n",
      "2021-05-20 03:11:52,005 - mmdet - INFO - Saving checkpoint at 6 epochs\n"
     ]
    },
    {
     "name": "stdout",
     "output_type": "stream",
     "text": [
      "[>>>>>>>>>>>>>>>>>>>>>>>>>>>>>] 655/655, 10.1 task/s, elapsed: 65s, ETA:     0s"
     ]
    },
    {
     "name": "stderr",
     "output_type": "stream",
     "text": [
      "2021-05-20 03:13:00,110 - mmdet - INFO - Evaluating bbox...\n"
     ]
    },
    {
     "name": "stdout",
     "output_type": "stream",
     "text": [
      "Loading and preparing results...\n",
      "DONE (t=0.81s)\n",
      "creating index...\n",
      "index created!\n",
      "Running per image evaluation...\n",
      "Evaluate annotation type *bbox*\n",
      "DONE (t=7.71s).\n",
      "Accumulating evaluation results...\n",
      "DONE (t=1.61s).\n",
      "Average Precision  (AP) @[ IoU=0.50:0.95 | area=   all | maxDets=100 ] = 0.375\n",
      "Average Precision  (AP) @[ IoU=0.50      | area=   all | maxDets=1000 ] = 0.467\n",
      "Average Precision  (AP) @[ IoU=0.75      | area=   all | maxDets=1000 ] = 0.402\n",
      "Average Precision  (AP) @[ IoU=0.50:0.95 | area= small | maxDets=1000 ] = 0.173\n",
      "Average Precision  (AP) @[ IoU=0.50:0.95 | area=medium | maxDets=1000 ] = 0.346\n",
      "Average Precision  (AP) @[ IoU=0.50:0.95 | area= large | maxDets=1000 ] = 0.671\n",
      "Average Recall     (AR) @[ IoU=0.50:0.95 | area=   all | maxDets=100 ] = 0.528\n",
      "Average Recall     (AR) @[ IoU=0.50:0.95 | area=   all | maxDets=300 ] = 0.528\n",
      "Average Recall     (AR) @[ IoU=0.50:0.95 | area=   all | maxDets=1000 ] = 0.528\n",
      "Average Recall     (AR) @[ IoU=0.50:0.95 | area= small | maxDets=1000 ] = 0.297\n",
      "Average Recall     (AR) @[ IoU=0.50:0.95 | area=medium | maxDets=1000 ] = 0.515\n",
      "Average Recall     (AR) @[ IoU=0.50:0.95 | area= large | maxDets=1000 ] = 0.815\n"
     ]
    },
    {
     "name": "stderr",
     "output_type": "stream",
     "text": [
      "2021-05-20 03:16:42,387 - mmdet - INFO - Epoch [7][100/409]\tlr: 1.000e-02, eta: 3:13:53, time: 2.120, data_time: 0.042, memory: 21697, loss_cls: 0.4249, loss_bbox: 0.2594, loss_dfl: 0.2087, loss: 0.8930, grad_norm: 3.5697\n",
      "2021-05-20 03:20:11,657 - mmdet - INFO - Epoch [7][200/409]\tlr: 1.000e-02, eta: 3:10:31, time: 2.093, data_time: 0.018, memory: 21697, loss_cls: 0.4228, loss_bbox: 0.2514, loss_dfl: 0.2050, loss: 0.8791, grad_norm: 3.7000\n",
      "2021-05-20 03:23:44,691 - mmdet - INFO - Epoch [7][300/409]\tlr: 1.000e-02, eta: 3:07:17, time: 2.130, data_time: 0.018, memory: 21697, loss_cls: 0.4161, loss_bbox: 0.2600, loss_dfl: 0.2095, loss: 0.8856, grad_norm: 3.5368\n",
      "2021-05-20 03:27:15,079 - mmdet - INFO - Epoch [7][400/409]\tlr: 1.000e-02, eta: 3:03:56, time: 2.104, data_time: 0.019, memory: 21697, loss_cls: 0.4362, loss_bbox: 0.2530, loss_dfl: 0.2062, loss: 0.8955, grad_norm: 3.6262\n",
      "2021-05-20 03:27:33,237 - mmdet - INFO - Saving checkpoint at 7 epochs\n"
     ]
    },
    {
     "name": "stdout",
     "output_type": "stream",
     "text": [
      "[>>>>>>>>>>>>>>>>>>>>>>>>>>>>>] 655/655, 10.1 task/s, elapsed: 65s, ETA:     0s"
     ]
    },
    {
     "name": "stderr",
     "output_type": "stream",
     "text": [
      "2021-05-20 03:28:40,434 - mmdet - INFO - Evaluating bbox...\n"
     ]
    },
    {
     "name": "stdout",
     "output_type": "stream",
     "text": [
      "Loading and preparing results...\n",
      "DONE (t=1.31s)\n",
      "creating index...\n",
      "index created!\n",
      "Running per image evaluation...\n",
      "Evaluate annotation type *bbox*\n",
      "DONE (t=7.70s).\n",
      "Accumulating evaluation results...\n"
     ]
    },
    {
     "name": "stderr",
     "output_type": "stream",
     "text": [
      "2021-05-20 03:28:51,175 - mmdet - INFO - Now best checkpoint is epoch_7.pth.Best bbox_mAP is 0.4820\n"
     ]
    },
    {
     "name": "stdout",
     "output_type": "stream",
     "text": [
      "DONE (t=1.60s).\n",
      "Average Precision  (AP) @[ IoU=0.50:0.95 | area=   all | maxDets=100 ] = 0.482\n",
      "Average Precision  (AP) @[ IoU=0.50      | area=   all | maxDets=1000 ] = 0.596\n",
      "Average Precision  (AP) @[ IoU=0.75      | area=   all | maxDets=1000 ] = 0.517\n",
      "Average Precision  (AP) @[ IoU=0.50:0.95 | area= small | maxDets=1000 ] = 0.190\n",
      "Average Precision  (AP) @[ IoU=0.50:0.95 | area=medium | maxDets=1000 ] = 0.481\n",
      "Average Precision  (AP) @[ IoU=0.50:0.95 | area= large | maxDets=1000 ] = 0.665\n",
      "Average Recall     (AR) @[ IoU=0.50:0.95 | area=   all | maxDets=100 ] = 0.630\n",
      "Average Recall     (AR) @[ IoU=0.50:0.95 | area=   all | maxDets=300 ] = 0.630\n",
      "Average Recall     (AR) @[ IoU=0.50:0.95 | area=   all | maxDets=1000 ] = 0.630\n",
      "Average Recall     (AR) @[ IoU=0.50:0.95 | area= small | maxDets=1000 ] = 0.348\n",
      "Average Recall     (AR) @[ IoU=0.50:0.95 | area=medium | maxDets=1000 ] = 0.635\n",
      "Average Recall     (AR) @[ IoU=0.50:0.95 | area= large | maxDets=1000 ] = 0.874\n"
     ]
    },
    {
     "name": "stderr",
     "output_type": "stream",
     "text": [
      "2021-05-20 03:32:22,907 - mmdet - INFO - Epoch [8][100/409]\tlr: 1.000e-02, eta: 2:59:45, time: 2.117, data_time: 0.042, memory: 21697, loss_cls: 0.3895, loss_bbox: 0.2535, loss_dfl: 0.2063, loss: 0.8493, grad_norm: 3.4027\n",
      "2021-05-20 03:35:52,339 - mmdet - INFO - Epoch [8][200/409]\tlr: 1.000e-02, eta: 2:56:23, time: 2.094, data_time: 0.018, memory: 21697, loss_cls: 0.4040, loss_bbox: 0.2442, loss_dfl: 0.2024, loss: 0.8506, grad_norm: 3.7710\n",
      "2021-05-20 03:39:25,445 - mmdet - INFO - Epoch [8][300/409]\tlr: 1.000e-02, eta: 2:53:06, time: 2.131, data_time: 0.018, memory: 21697, loss_cls: 0.4241, loss_bbox: 0.2449, loss_dfl: 0.2038, loss: 0.8728, grad_norm: 3.7468\n",
      "2021-05-20 03:42:55,718 - mmdet - INFO - Epoch [8][400/409]\tlr: 1.000e-02, eta: 2:49:44, time: 2.103, data_time: 0.019, memory: 21697, loss_cls: 0.4124, loss_bbox: 0.2620, loss_dfl: 0.2095, loss: 0.8839, grad_norm: 3.4886\n",
      "2021-05-20 03:43:13,845 - mmdet - INFO - Saving checkpoint at 8 epochs\n"
     ]
    },
    {
     "name": "stdout",
     "output_type": "stream",
     "text": [
      "[>>>>>>>>>>>>>>>>>>>>>>>>>>>>>] 655/655, 10.0 task/s, elapsed: 66s, ETA:     0s"
     ]
    },
    {
     "name": "stderr",
     "output_type": "stream",
     "text": [
      "2021-05-20 03:44:22,156 - mmdet - INFO - Evaluating bbox...\n"
     ]
    },
    {
     "name": "stdout",
     "output_type": "stream",
     "text": [
      "Loading and preparing results...\n",
      "DONE (t=1.35s)\n",
      "creating index...\n",
      "index created!\n",
      "Running per image evaluation...\n",
      "Evaluate annotation type *bbox*\n",
      "DONE (t=7.16s).\n",
      "Accumulating evaluation results...\n"
     ]
    },
    {
     "name": "stderr",
     "output_type": "stream",
     "text": [
      "2021-05-20 03:44:32,530 - mmdet - INFO - Now best checkpoint is epoch_8.pth.Best bbox_mAP is 0.5090\n"
     ]
    },
    {
     "name": "stdout",
     "output_type": "stream",
     "text": [
      "DONE (t=1.72s).\n",
      "Average Precision  (AP) @[ IoU=0.50:0.95 | area=   all | maxDets=100 ] = 0.509\n",
      "Average Precision  (AP) @[ IoU=0.50      | area=   all | maxDets=1000 ] = 0.621\n",
      "Average Precision  (AP) @[ IoU=0.75      | area=   all | maxDets=1000 ] = 0.540\n",
      "Average Precision  (AP) @[ IoU=0.50:0.95 | area= small | maxDets=1000 ] = 0.238\n",
      "Average Precision  (AP) @[ IoU=0.50:0.95 | area=medium | maxDets=1000 ] = 0.506\n",
      "Average Precision  (AP) @[ IoU=0.50:0.95 | area= large | maxDets=1000 ] = 0.737\n",
      "Average Recall     (AR) @[ IoU=0.50:0.95 | area=   all | maxDets=100 ] = 0.657\n",
      "Average Recall     (AR) @[ IoU=0.50:0.95 | area=   all | maxDets=300 ] = 0.657\n",
      "Average Recall     (AR) @[ IoU=0.50:0.95 | area=   all | maxDets=1000 ] = 0.657\n",
      "Average Recall     (AR) @[ IoU=0.50:0.95 | area= small | maxDets=1000 ] = 0.388\n",
      "Average Recall     (AR) @[ IoU=0.50:0.95 | area=medium | maxDets=1000 ] = 0.665\n",
      "Average Recall     (AR) @[ IoU=0.50:0.95 | area= large | maxDets=1000 ] = 0.873\n"
     ]
    },
    {
     "name": "stderr",
     "output_type": "stream",
     "text": [
      "2021-05-20 03:48:04,495 - mmdet - INFO - Epoch [9][100/409]\tlr: 1.000e-02, eta: 2:45:38, time: 2.119, data_time: 0.042, memory: 21697, loss_cls: 0.3967, loss_bbox: 0.2494, loss_dfl: 0.2040, loss: 0.8501, grad_norm: 3.6699\n",
      "2021-05-20 03:51:34,128 - mmdet - INFO - Epoch [9][200/409]\tlr: 1.000e-02, eta: 2:42:16, time: 2.096, data_time: 0.018, memory: 21697, loss_cls: 0.3999, loss_bbox: 0.2472, loss_dfl: 0.2035, loss: 0.8507, grad_norm: 3.7311\n",
      "2021-05-20 03:55:07,491 - mmdet - INFO - Epoch [9][300/409]\tlr: 1.000e-02, eta: 2:38:57, time: 2.134, data_time: 0.018, memory: 21697, loss_cls: 0.4132, loss_bbox: 0.2442, loss_dfl: 0.2026, loss: 0.8599, grad_norm: 3.6921\n",
      "2021-05-20 03:58:37,948 - mmdet - INFO - Epoch [9][400/409]\tlr: 1.000e-02, eta: 2:35:34, time: 2.105, data_time: 0.019, memory: 21697, loss_cls: 0.3969, loss_bbox: 0.2462, loss_dfl: 0.2035, loss: 0.8466, grad_norm: 3.6790\n",
      "2021-05-20 03:58:56,155 - mmdet - INFO - Saving checkpoint at 9 epochs\n"
     ]
    },
    {
     "name": "stdout",
     "output_type": "stream",
     "text": [
      "[>>>>>>>>>>>>>>>>>>>>>>>>>>>>>] 655/655, 10.4 task/s, elapsed: 63s, ETA:     0s"
     ]
    },
    {
     "name": "stderr",
     "output_type": "stream",
     "text": [
      "2021-05-20 04:00:01,668 - mmdet - INFO - Evaluating bbox...\n"
     ]
    },
    {
     "name": "stdout",
     "output_type": "stream",
     "text": [
      "Loading and preparing results...\n",
      "DONE (t=1.30s)\n",
      "creating index...\n",
      "index created!\n",
      "Running per image evaluation...\n",
      "Evaluate annotation type *bbox*\n",
      "DONE (t=7.32s).\n",
      "Accumulating evaluation results...\n",
      "DONE (t=1.60s).\n",
      "Average Precision  (AP) @[ IoU=0.50:0.95 | area=   all | maxDets=100 ] = 0.501\n",
      "Average Precision  (AP) @[ IoU=0.50      | area=   all | maxDets=1000 ] = 0.621\n",
      "Average Precision  (AP) @[ IoU=0.75      | area=   all | maxDets=1000 ] = 0.519\n",
      "Average Precision  (AP) @[ IoU=0.50:0.95 | area= small | maxDets=1000 ] = 0.246\n",
      "Average Precision  (AP) @[ IoU=0.50:0.95 | area=medium | maxDets=1000 ] = 0.513\n",
      "Average Precision  (AP) @[ IoU=0.50:0.95 | area= large | maxDets=1000 ] = 0.738\n",
      "Average Recall     (AR) @[ IoU=0.50:0.95 | area=   all | maxDets=100 ] = 0.646\n",
      "Average Recall     (AR) @[ IoU=0.50:0.95 | area=   all | maxDets=300 ] = 0.646\n",
      "Average Recall     (AR) @[ IoU=0.50:0.95 | area=   all | maxDets=1000 ] = 0.646\n",
      "Average Recall     (AR) @[ IoU=0.50:0.95 | area= small | maxDets=1000 ] = 0.396\n",
      "Average Recall     (AR) @[ IoU=0.50:0.95 | area=medium | maxDets=1000 ] = 0.668\n",
      "Average Recall     (AR) @[ IoU=0.50:0.95 | area= large | maxDets=1000 ] = 0.866\n"
     ]
    },
    {
     "name": "stderr",
     "output_type": "stream",
     "text": [
      "2021-05-20 04:03:43,765 - mmdet - INFO - Epoch [10][100/409]\tlr: 1.000e-02, eta: 2:31:32, time: 2.117, data_time: 0.042, memory: 21697, loss_cls: 0.3833, loss_bbox: 0.2382, loss_dfl: 0.1989, loss: 0.8204, grad_norm: 3.7226\n",
      "2021-05-20 04:07:13,497 - mmdet - INFO - Epoch [10][200/409]\tlr: 1.000e-02, eta: 2:28:09, time: 2.097, data_time: 0.018, memory: 21697, loss_cls: 0.3802, loss_bbox: 0.2406, loss_dfl: 0.1998, loss: 0.8206, grad_norm: 3.6252\n",
      "2021-05-20 04:10:46,883 - mmdet - INFO - Epoch [10][300/409]\tlr: 1.000e-02, eta: 2:24:49, time: 2.134, data_time: 0.018, memory: 21697, loss_cls: 0.3852, loss_bbox: 0.2428, loss_dfl: 0.2015, loss: 0.8295, grad_norm: 3.5476\n",
      "2021-05-20 04:14:17,536 - mmdet - INFO - Epoch [10][400/409]\tlr: 1.000e-02, eta: 2:21:26, time: 2.107, data_time: 0.018, memory: 21697, loss_cls: 0.4077, loss_bbox: 0.2499, loss_dfl: 0.2052, loss: 0.8627, grad_norm: 3.6158\n",
      "2021-05-20 04:14:35,713 - mmdet - INFO - Saving checkpoint at 10 epochs\n"
     ]
    },
    {
     "name": "stdout",
     "output_type": "stream",
     "text": [
      "[>>>>>>>>>>>>>>>>>>>>>>>>>>>>>] 655/655, 10.3 task/s, elapsed: 64s, ETA:     0s"
     ]
    },
    {
     "name": "stderr",
     "output_type": "stream",
     "text": [
      "2021-05-20 04:15:42,202 - mmdet - INFO - Evaluating bbox...\n"
     ]
    },
    {
     "name": "stdout",
     "output_type": "stream",
     "text": [
      "Loading and preparing results...\n",
      "DONE (t=1.35s)\n",
      "creating index...\n",
      "index created!\n",
      "Running per image evaluation...\n",
      "Evaluate annotation type *bbox*\n",
      "DONE (t=7.42s).\n",
      "Accumulating evaluation results...\n"
     ]
    },
    {
     "name": "stderr",
     "output_type": "stream",
     "text": [
      "2021-05-20 04:15:52,765 - mmdet - INFO - Now best checkpoint is epoch_10.pth.Best bbox_mAP is 0.5210\n"
     ]
    },
    {
     "name": "stdout",
     "output_type": "stream",
     "text": [
      "DONE (t=1.65s).\n",
      "Average Precision  (AP) @[ IoU=0.50:0.95 | area=   all | maxDets=100 ] = 0.521\n",
      "Average Precision  (AP) @[ IoU=0.50      | area=   all | maxDets=1000 ] = 0.640\n",
      "Average Precision  (AP) @[ IoU=0.75      | area=   all | maxDets=1000 ] = 0.544\n",
      "Average Precision  (AP) @[ IoU=0.50:0.95 | area= small | maxDets=1000 ] = 0.239\n",
      "Average Precision  (AP) @[ IoU=0.50:0.95 | area=medium | maxDets=1000 ] = 0.537\n",
      "Average Precision  (AP) @[ IoU=0.50:0.95 | area= large | maxDets=1000 ] = 0.745\n",
      "Average Recall     (AR) @[ IoU=0.50:0.95 | area=   all | maxDets=100 ] = 0.662\n",
      "Average Recall     (AR) @[ IoU=0.50:0.95 | area=   all | maxDets=300 ] = 0.662\n",
      "Average Recall     (AR) @[ IoU=0.50:0.95 | area=   all | maxDets=1000 ] = 0.662\n",
      "Average Recall     (AR) @[ IoU=0.50:0.95 | area= small | maxDets=1000 ] = 0.388\n",
      "Average Recall     (AR) @[ IoU=0.50:0.95 | area=medium | maxDets=1000 ] = 0.686\n",
      "Average Recall     (AR) @[ IoU=0.50:0.95 | area= large | maxDets=1000 ] = 0.873\n"
     ]
    },
    {
     "name": "stderr",
     "output_type": "stream",
     "text": [
      "2021-05-20 04:19:24,770 - mmdet - INFO - Epoch [11][100/409]\tlr: 1.000e-02, eta: 2:17:27, time: 2.120, data_time: 0.042, memory: 21697, loss_cls: 0.3581, loss_bbox: 0.2353, loss_dfl: 0.1978, loss: 0.7912, grad_norm: 3.5445\n",
      "2021-05-20 04:22:54,068 - mmdet - INFO - Epoch [11][200/409]\tlr: 1.000e-02, eta: 2:14:03, time: 2.093, data_time: 0.018, memory: 21697, loss_cls: 0.3890, loss_bbox: 0.2371, loss_dfl: 0.2001, loss: 0.8263, grad_norm: 3.7536\n",
      "2021-05-20 04:26:27,135 - mmdet - INFO - Epoch [11][300/409]\tlr: 1.000e-02, eta: 2:10:42, time: 2.131, data_time: 0.018, memory: 21697, loss_cls: 0.3808, loss_bbox: 0.2365, loss_dfl: 0.1970, loss: 0.8142, grad_norm: 3.6383\n",
      "2021-05-20 04:29:57,940 - mmdet - INFO - Epoch [11][400/409]\tlr: 1.000e-02, eta: 2:07:18, time: 2.108, data_time: 0.018, memory: 21697, loss_cls: 0.3931, loss_bbox: 0.2506, loss_dfl: 0.2056, loss: 0.8493, grad_norm: 3.7270\n",
      "2021-05-20 04:30:16,151 - mmdet - INFO - Saving checkpoint at 11 epochs\n"
     ]
    },
    {
     "name": "stdout",
     "output_type": "stream",
     "text": [
      "[>>>>>>>>>>>>>>>>>>>>>>>>>>>>>] 655/655, 10.5 task/s, elapsed: 62s, ETA:     0s"
     ]
    },
    {
     "name": "stderr",
     "output_type": "stream",
     "text": [
      "2021-05-20 04:31:21,215 - mmdet - INFO - Evaluating bbox...\n"
     ]
    },
    {
     "name": "stdout",
     "output_type": "stream",
     "text": [
      "Loading and preparing results...\n",
      "DONE (t=1.32s)\n",
      "creating index...\n",
      "index created!\n",
      "Running per image evaluation...\n",
      "Evaluate annotation type *bbox*\n",
      "DONE (t=6.59s).\n",
      "Accumulating evaluation results...\n"
     ]
    },
    {
     "name": "stderr",
     "output_type": "stream",
     "text": [
      "2021-05-20 04:31:30,825 - mmdet - INFO - Now best checkpoint is epoch_11.pth.Best bbox_mAP is 0.5320\n"
     ]
    },
    {
     "name": "stdout",
     "output_type": "stream",
     "text": [
      "DONE (t=1.57s).\n",
      "Average Precision  (AP) @[ IoU=0.50:0.95 | area=   all | maxDets=100 ] = 0.532\n",
      "Average Precision  (AP) @[ IoU=0.50      | area=   all | maxDets=1000 ] = 0.655\n",
      "Average Precision  (AP) @[ IoU=0.75      | area=   all | maxDets=1000 ] = 0.552\n",
      "Average Precision  (AP) @[ IoU=0.50:0.95 | area= small | maxDets=1000 ] = 0.249\n",
      "Average Precision  (AP) @[ IoU=0.50:0.95 | area=medium | maxDets=1000 ] = 0.540\n",
      "Average Precision  (AP) @[ IoU=0.50:0.95 | area= large | maxDets=1000 ] = 0.736\n",
      "Average Recall     (AR) @[ IoU=0.50:0.95 | area=   all | maxDets=100 ] = 0.658\n",
      "Average Recall     (AR) @[ IoU=0.50:0.95 | area=   all | maxDets=300 ] = 0.658\n",
      "Average Recall     (AR) @[ IoU=0.50:0.95 | area=   all | maxDets=1000 ] = 0.658\n",
      "Average Recall     (AR) @[ IoU=0.50:0.95 | area= small | maxDets=1000 ] = 0.396\n",
      "Average Recall     (AR) @[ IoU=0.50:0.95 | area=medium | maxDets=1000 ] = 0.680\n",
      "Average Recall     (AR) @[ IoU=0.50:0.95 | area= large | maxDets=1000 ] = 0.881\n"
     ]
    },
    {
     "name": "stderr",
     "output_type": "stream",
     "text": [
      "2021-05-20 04:35:03,293 - mmdet - INFO - Epoch [12][100/409]\tlr: 1.000e-02, eta: 2:03:22, time: 2.124, data_time: 0.042, memory: 21697, loss_cls: 0.3582, loss_bbox: 0.2349, loss_dfl: 0.1973, loss: 0.7903, grad_norm: 3.7492\n",
      "2021-05-20 04:38:32,880 - mmdet - INFO - Epoch [12][200/409]\tlr: 1.000e-02, eta: 1:59:57, time: 2.096, data_time: 0.018, memory: 21697, loss_cls: 0.3741, loss_bbox: 0.2432, loss_dfl: 0.2006, loss: 0.8179, grad_norm: 3.7502\n",
      "2021-05-20 04:42:06,114 - mmdet - INFO - Epoch [12][300/409]\tlr: 1.000e-02, eta: 1:56:35, time: 2.132, data_time: 0.018, memory: 21697, loss_cls: 0.3923, loss_bbox: 0.2351, loss_dfl: 0.1991, loss: 0.8266, grad_norm: 3.7574\n",
      "2021-05-20 04:45:36,424 - mmdet - INFO - Epoch [12][400/409]\tlr: 1.000e-02, eta: 1:53:11, time: 2.103, data_time: 0.019, memory: 21697, loss_cls: 0.3965, loss_bbox: 0.2368, loss_dfl: 0.1992, loss: 0.8325, grad_norm: 3.6871\n",
      "2021-05-20 04:45:55,049 - mmdet - INFO - Saving checkpoint at 12 epochs\n"
     ]
    },
    {
     "name": "stdout",
     "output_type": "stream",
     "text": [
      "[>>>>>>>>>>>>>>>>>>>>>>>>>>>>>] 655/655, 10.1 task/s, elapsed: 65s, ETA:     0s"
     ]
    },
    {
     "name": "stderr",
     "output_type": "stream",
     "text": [
      "2021-05-20 04:47:01,733 - mmdet - INFO - Evaluating bbox...\n"
     ]
    },
    {
     "name": "stdout",
     "output_type": "stream",
     "text": [
      "Loading and preparing results...\n",
      "DONE (t=1.32s)\n",
      "creating index...\n",
      "index created!\n",
      "Running per image evaluation...\n",
      "Evaluate annotation type *bbox*\n",
      "DONE (t=7.08s).\n",
      "Accumulating evaluation results...\n",
      "DONE (t=1.60s).\n",
      "Average Precision  (AP) @[ IoU=0.50:0.95 | area=   all | maxDets=100 ] = 0.531\n",
      "Average Precision  (AP) @[ IoU=0.50      | area=   all | maxDets=1000 ] = 0.654\n",
      "Average Precision  (AP) @[ IoU=0.75      | area=   all | maxDets=1000 ] = 0.567\n",
      "Average Precision  (AP) @[ IoU=0.50:0.95 | area= small | maxDets=1000 ] = 0.272\n",
      "Average Precision  (AP) @[ IoU=0.50:0.95 | area=medium | maxDets=1000 ] = 0.577\n",
      "Average Precision  (AP) @[ IoU=0.50:0.95 | area= large | maxDets=1000 ] = 0.677\n",
      "Average Recall     (AR) @[ IoU=0.50:0.95 | area=   all | maxDets=100 ] = 0.670\n",
      "Average Recall     (AR) @[ IoU=0.50:0.95 | area=   all | maxDets=300 ] = 0.670\n",
      "Average Recall     (AR) @[ IoU=0.50:0.95 | area=   all | maxDets=1000 ] = 0.670\n",
      "Average Recall     (AR) @[ IoU=0.50:0.95 | area= small | maxDets=1000 ] = 0.391\n",
      "Average Recall     (AR) @[ IoU=0.50:0.95 | area=medium | maxDets=1000 ] = 0.729\n",
      "Average Recall     (AR) @[ IoU=0.50:0.95 | area= large | maxDets=1000 ] = 0.863\n"
     ]
    },
    {
     "name": "stderr",
     "output_type": "stream",
     "text": [
      "2021-05-20 04:50:43,485 - mmdet - INFO - Epoch [13][100/409]\tlr: 1.000e-02, eta: 1:49:16, time: 2.116, data_time: 0.042, memory: 21697, loss_cls: 0.3598, loss_bbox: 0.2381, loss_dfl: 0.1976, loss: 0.7955, grad_norm: 3.5209\n",
      "2021-05-20 04:54:12,656 - mmdet - INFO - Epoch [13][200/409]\tlr: 1.000e-02, eta: 1:45:51, time: 2.092, data_time: 0.018, memory: 21697, loss_cls: 0.3698, loss_bbox: 0.2247, loss_dfl: 0.1954, loss: 0.7899, grad_norm: 3.8144\n",
      "2021-05-20 04:57:45,713 - mmdet - INFO - Epoch [13][300/409]\tlr: 1.000e-02, eta: 1:42:28, time: 2.131, data_time: 0.018, memory: 21697, loss_cls: 0.3595, loss_bbox: 0.2369, loss_dfl: 0.1979, loss: 0.7942, grad_norm: 3.5014\n",
      "2021-05-20 05:01:16,040 - mmdet - INFO - Epoch [13][400/409]\tlr: 1.000e-02, eta: 1:39:03, time: 2.103, data_time: 0.018, memory: 21697, loss_cls: 0.3781, loss_bbox: 0.2389, loss_dfl: 0.1999, loss: 0.8169, grad_norm: 3.7749\n",
      "2021-05-20 05:01:34,162 - mmdet - INFO - Saving checkpoint at 13 epochs\n"
     ]
    },
    {
     "name": "stdout",
     "output_type": "stream",
     "text": [
      "[>>>>>>>>>>>>>>>>>>>>>>>>>>>>>] 655/655, 10.3 task/s, elapsed: 64s, ETA:     0s"
     ]
    },
    {
     "name": "stderr",
     "output_type": "stream",
     "text": [
      "2021-05-20 05:02:40,404 - mmdet - INFO - Evaluating bbox...\n"
     ]
    },
    {
     "name": "stdout",
     "output_type": "stream",
     "text": [
      "Loading and preparing results...\n",
      "DONE (t=1.30s)\n",
      "creating index...\n",
      "index created!\n",
      "Running per image evaluation...\n",
      "Evaluate annotation type *bbox*\n",
      "DONE (t=7.41s).\n",
      "Accumulating evaluation results...\n"
     ]
    },
    {
     "name": "stderr",
     "output_type": "stream",
     "text": [
      "2021-05-20 05:02:50,961 - mmdet - INFO - Now best checkpoint is epoch_13.pth.Best bbox_mAP is 0.5620\n"
     ]
    },
    {
     "name": "stdout",
     "output_type": "stream",
     "text": [
      "DONE (t=1.72s).\n",
      "Average Precision  (AP) @[ IoU=0.50:0.95 | area=   all | maxDets=100 ] = 0.562\n",
      "Average Precision  (AP) @[ IoU=0.50      | area=   all | maxDets=1000 ] = 0.683\n",
      "Average Precision  (AP) @[ IoU=0.75      | area=   all | maxDets=1000 ] = 0.591\n",
      "Average Precision  (AP) @[ IoU=0.50:0.95 | area= small | maxDets=1000 ] = 0.253\n",
      "Average Precision  (AP) @[ IoU=0.50:0.95 | area=medium | maxDets=1000 ] = 0.579\n",
      "Average Precision  (AP) @[ IoU=0.50:0.95 | area= large | maxDets=1000 ] = 0.793\n",
      "Average Recall     (AR) @[ IoU=0.50:0.95 | area=   all | maxDets=100 ] = 0.668\n",
      "Average Recall     (AR) @[ IoU=0.50:0.95 | area=   all | maxDets=300 ] = 0.668\n",
      "Average Recall     (AR) @[ IoU=0.50:0.95 | area=   all | maxDets=1000 ] = 0.668\n",
      "Average Recall     (AR) @[ IoU=0.50:0.95 | area= small | maxDets=1000 ] = 0.389\n",
      "Average Recall     (AR) @[ IoU=0.50:0.95 | area=medium | maxDets=1000 ] = 0.693\n",
      "Average Recall     (AR) @[ IoU=0.50:0.95 | area= large | maxDets=1000 ] = 0.893\n"
     ]
    },
    {
     "name": "stderr",
     "output_type": "stream",
     "text": [
      "2021-05-20 05:06:22,997 - mmdet - INFO - Epoch [14][100/409]\tlr: 1.000e-02, eta: 1:35:10, time: 2.120, data_time: 0.042, memory: 21697, loss_cls: 0.3331, loss_bbox: 0.2306, loss_dfl: 0.1949, loss: 0.7587, grad_norm: 3.4673\n",
      "2021-05-20 05:09:52,594 - mmdet - INFO - Epoch [14][200/409]\tlr: 1.000e-02, eta: 1:31:45, time: 2.096, data_time: 0.018, memory: 21697, loss_cls: 0.3467, loss_bbox: 0.2253, loss_dfl: 0.1943, loss: 0.7663, grad_norm: 3.7664\n",
      "2021-05-20 05:13:25,487 - mmdet - INFO - Epoch [14][300/409]\tlr: 1.000e-02, eta: 1:28:21, time: 2.129, data_time: 0.018, memory: 21697, loss_cls: 0.3600, loss_bbox: 0.2412, loss_dfl: 0.2006, loss: 0.8018, grad_norm: 3.6402\n",
      "2021-05-20 05:16:55,630 - mmdet - INFO - Epoch [14][400/409]\tlr: 1.000e-02, eta: 1:24:56, time: 2.101, data_time: 0.018, memory: 21697, loss_cls: 0.3611, loss_bbox: 0.2373, loss_dfl: 0.1985, loss: 0.7969, grad_norm: 3.6613\n",
      "2021-05-20 05:17:14,274 - mmdet - INFO - Saving checkpoint at 14 epochs\n"
     ]
    },
    {
     "name": "stdout",
     "output_type": "stream",
     "text": [
      "[>>>>>>>>>>>>>>>>>>>>>>>>>>>>>] 655/655, 10.0 task/s, elapsed: 66s, ETA:     0s"
     ]
    },
    {
     "name": "stderr",
     "output_type": "stream",
     "text": [
      "2021-05-20 05:18:22,095 - mmdet - INFO - Evaluating bbox...\n"
     ]
    },
    {
     "name": "stdout",
     "output_type": "stream",
     "text": [
      "Loading and preparing results...\n",
      "DONE (t=1.38s)\n",
      "creating index...\n",
      "index created!\n",
      "Running per image evaluation...\n",
      "Evaluate annotation type *bbox*\n",
      "DONE (t=7.67s).\n",
      "Accumulating evaluation results...\n",
      "DONE (t=1.59s).\n",
      "Average Precision  (AP) @[ IoU=0.50:0.95 | area=   all | maxDets=100 ] = 0.558\n",
      "Average Precision  (AP) @[ IoU=0.50      | area=   all | maxDets=1000 ] = 0.678\n",
      "Average Precision  (AP) @[ IoU=0.75      | area=   all | maxDets=1000 ] = 0.591\n",
      "Average Precision  (AP) @[ IoU=0.50:0.95 | area= small | maxDets=1000 ] = 0.286\n",
      "Average Precision  (AP) @[ IoU=0.50:0.95 | area=medium | maxDets=1000 ] = 0.583\n",
      "Average Precision  (AP) @[ IoU=0.50:0.95 | area= large | maxDets=1000 ] = 0.777\n",
      "Average Recall     (AR) @[ IoU=0.50:0.95 | area=   all | maxDets=100 ] = 0.683\n",
      "Average Recall     (AR) @[ IoU=0.50:0.95 | area=   all | maxDets=300 ] = 0.683\n",
      "Average Recall     (AR) @[ IoU=0.50:0.95 | area=   all | maxDets=1000 ] = 0.683\n",
      "Average Recall     (AR) @[ IoU=0.50:0.95 | area= small | maxDets=1000 ] = 0.399\n",
      "Average Recall     (AR) @[ IoU=0.50:0.95 | area=medium | maxDets=1000 ] = 0.734\n",
      "Average Recall     (AR) @[ IoU=0.50:0.95 | area= large | maxDets=1000 ] = 0.884\n"
     ]
    },
    {
     "name": "stderr",
     "output_type": "stream",
     "text": [
      "2021-05-20 05:22:05,031 - mmdet - INFO - Epoch [15][100/409]\tlr: 1.000e-02, eta: 1:21:05, time: 2.121, data_time: 0.042, memory: 21697, loss_cls: 0.3368, loss_bbox: 0.2270, loss_dfl: 0.1948, loss: 0.7585, grad_norm: 3.5315\n",
      "2021-05-20 05:25:34,669 - mmdet - INFO - Epoch [15][200/409]\tlr: 1.000e-02, eta: 1:17:39, time: 2.096, data_time: 0.018, memory: 21697, loss_cls: 0.3441, loss_bbox: 0.2275, loss_dfl: 0.1927, loss: 0.7643, grad_norm: 3.5847\n",
      "2021-05-20 05:29:07,990 - mmdet - INFO - Epoch [15][300/409]\tlr: 1.000e-02, eta: 1:14:15, time: 2.133, data_time: 0.018, memory: 21697, loss_cls: 0.3716, loss_bbox: 0.2287, loss_dfl: 0.1952, loss: 0.7954, grad_norm: 3.9900\n",
      "2021-05-20 05:32:38,058 - mmdet - INFO - Epoch [15][400/409]\tlr: 1.000e-02, eta: 1:10:49, time: 2.101, data_time: 0.018, memory: 21697, loss_cls: 0.3673, loss_bbox: 0.2294, loss_dfl: 0.1962, loss: 0.7929, grad_norm: 3.8164\n",
      "2021-05-20 05:32:56,168 - mmdet - INFO - Saving checkpoint at 15 epochs\n"
     ]
    },
    {
     "name": "stdout",
     "output_type": "stream",
     "text": [
      "[>>>>>>>>>>>>>>>>>>>>>>>>>>>>>] 655/655, 10.6 task/s, elapsed: 62s, ETA:     0s"
     ]
    },
    {
     "name": "stderr",
     "output_type": "stream",
     "text": [
      "2021-05-20 05:34:00,702 - mmdet - INFO - Evaluating bbox...\n"
     ]
    },
    {
     "name": "stdout",
     "output_type": "stream",
     "text": [
      "Loading and preparing results...\n",
      "DONE (t=1.29s)\n",
      "creating index...\n",
      "index created!\n",
      "Running per image evaluation...\n",
      "Evaluate annotation type *bbox*\n",
      "DONE (t=7.41s).\n",
      "Accumulating evaluation results...\n",
      "DONE (t=1.48s).\n",
      "Average Precision  (AP) @[ IoU=0.50:0.95 | area=   all | maxDets=100 ] = 0.552\n",
      "Average Precision  (AP) @[ IoU=0.50      | area=   all | maxDets=1000 ] = 0.679\n",
      "Average Precision  (AP) @[ IoU=0.75      | area=   all | maxDets=1000 ] = 0.584\n",
      "Average Precision  (AP) @[ IoU=0.50:0.95 | area= small | maxDets=1000 ] = 0.322\n",
      "Average Precision  (AP) @[ IoU=0.50:0.95 | area=medium | maxDets=1000 ] = 0.579\n",
      "Average Precision  (AP) @[ IoU=0.50:0.95 | area= large | maxDets=1000 ] = 0.749\n",
      "Average Recall     (AR) @[ IoU=0.50:0.95 | area=   all | maxDets=100 ] = 0.696\n",
      "Average Recall     (AR) @[ IoU=0.50:0.95 | area=   all | maxDets=300 ] = 0.696\n",
      "Average Recall     (AR) @[ IoU=0.50:0.95 | area=   all | maxDets=1000 ] = 0.696\n",
      "Average Recall     (AR) @[ IoU=0.50:0.95 | area= small | maxDets=1000 ] = 0.453\n",
      "Average Recall     (AR) @[ IoU=0.50:0.95 | area=medium | maxDets=1000 ] = 0.727\n",
      "Average Recall     (AR) @[ IoU=0.50:0.95 | area= large | maxDets=1000 ] = 0.873\n"
     ]
    },
    {
     "name": "stderr",
     "output_type": "stream",
     "text": [
      "2021-05-20 05:37:42,371 - mmdet - INFO - Epoch [16][100/409]\tlr: 1.000e-02, eta: 1:06:59, time: 2.113, data_time: 0.041, memory: 21697, loss_cls: 0.3371, loss_bbox: 0.2296, loss_dfl: 0.1949, loss: 0.7616, grad_norm: 3.5371\n",
      "2021-05-20 05:41:12,013 - mmdet - INFO - Epoch [16][200/409]\tlr: 1.000e-02, eta: 1:03:33, time: 2.096, data_time: 0.018, memory: 21697, loss_cls: 0.3497, loss_bbox: 0.2244, loss_dfl: 0.1943, loss: 0.7684, grad_norm: 3.9120\n",
      "2021-05-20 05:44:45,537 - mmdet - INFO - Epoch [16][300/409]\tlr: 1.000e-02, eta: 1:00:08, time: 2.135, data_time: 0.018, memory: 21697, loss_cls: 0.3426, loss_bbox: 0.2381, loss_dfl: 0.1996, loss: 0.7803, grad_norm: 3.6388\n",
      "2021-05-20 05:48:15,854 - mmdet - INFO - Epoch [16][400/409]\tlr: 1.000e-02, eta: 0:56:42, time: 2.103, data_time: 0.018, memory: 21697, loss_cls: 0.3708, loss_bbox: 0.2256, loss_dfl: 0.1942, loss: 0.7905, grad_norm: 3.8572\n",
      "2021-05-20 05:48:33,965 - mmdet - INFO - Saving checkpoint at 16 epochs\n"
     ]
    },
    {
     "name": "stdout",
     "output_type": "stream",
     "text": [
      "[>>>>>>>>>>>>>>>>>>>>>>>>>>>>>] 655/655, 10.3 task/s, elapsed: 64s, ETA:     0s"
     ]
    },
    {
     "name": "stderr",
     "output_type": "stream",
     "text": [
      "2021-05-20 05:49:40,145 - mmdet - INFO - Evaluating bbox...\n"
     ]
    },
    {
     "name": "stdout",
     "output_type": "stream",
     "text": [
      "Loading and preparing results...\n",
      "DONE (t=1.26s)\n",
      "creating index...\n",
      "index created!\n",
      "Running per image evaluation...\n",
      "Evaluate annotation type *bbox*\n",
      "DONE (t=7.00s).\n",
      "Accumulating evaluation results...\n"
     ]
    },
    {
     "name": "stderr",
     "output_type": "stream",
     "text": [
      "2021-05-20 05:49:50,041 - mmdet - INFO - Now best checkpoint is epoch_16.pth.Best bbox_mAP is 0.5880\n"
     ]
    },
    {
     "name": "stdout",
     "output_type": "stream",
     "text": [
      "DONE (t=1.51s).\n",
      "Average Precision  (AP) @[ IoU=0.50:0.95 | area=   all | maxDets=100 ] = 0.588\n",
      "Average Precision  (AP) @[ IoU=0.50      | area=   all | maxDets=1000 ] = 0.713\n",
      "Average Precision  (AP) @[ IoU=0.75      | area=   all | maxDets=1000 ] = 0.620\n",
      "Average Precision  (AP) @[ IoU=0.50:0.95 | area= small | maxDets=1000 ] = 0.335\n",
      "Average Precision  (AP) @[ IoU=0.50:0.95 | area=medium | maxDets=1000 ] = 0.603\n",
      "Average Precision  (AP) @[ IoU=0.50:0.95 | area= large | maxDets=1000 ] = 0.794\n",
      "Average Recall     (AR) @[ IoU=0.50:0.95 | area=   all | maxDets=100 ] = 0.699\n",
      "Average Recall     (AR) @[ IoU=0.50:0.95 | area=   all | maxDets=300 ] = 0.699\n",
      "Average Recall     (AR) @[ IoU=0.50:0.95 | area=   all | maxDets=1000 ] = 0.699\n",
      "Average Recall     (AR) @[ IoU=0.50:0.95 | area= small | maxDets=1000 ] = 0.460\n",
      "Average Recall     (AR) @[ IoU=0.50:0.95 | area=medium | maxDets=1000 ] = 0.730\n",
      "Average Recall     (AR) @[ IoU=0.50:0.95 | area= large | maxDets=1000 ] = 0.883\n"
     ]
    },
    {
     "name": "stderr",
     "output_type": "stream",
     "text": [
      "2021-05-20 05:53:21,588 - mmdet - INFO - Epoch [17][100/409]\tlr: 1.000e-03, eta: 0:52:54, time: 2.115, data_time: 0.041, memory: 21697, loss_cls: 0.3079, loss_bbox: 0.2172, loss_dfl: 0.1910, loss: 0.7161, grad_norm: 3.3839\n",
      "2021-05-20 05:56:50,413 - mmdet - INFO - Epoch [17][200/409]\tlr: 1.000e-03, eta: 0:49:28, time: 2.088, data_time: 0.018, memory: 21697, loss_cls: 0.2834, loss_bbox: 0.2092, loss_dfl: 0.1880, loss: 0.6806, grad_norm: 3.1739\n",
      "2021-05-20 06:00:23,266 - mmdet - INFO - Epoch [17][300/409]\tlr: 1.000e-03, eta: 0:46:02, time: 2.129, data_time: 0.018, memory: 21697, loss_cls: 0.2927, loss_bbox: 0.2083, loss_dfl: 0.1891, loss: 0.6901, grad_norm: 3.1444\n",
      "2021-05-20 06:03:53,635 - mmdet - INFO - Epoch [17][400/409]\tlr: 1.000e-03, eta: 0:42:36, time: 2.104, data_time: 0.018, memory: 21697, loss_cls: 0.2886, loss_bbox: 0.2065, loss_dfl: 0.1872, loss: 0.6824, grad_norm: 3.4562\n",
      "2021-05-20 06:04:11,733 - mmdet - INFO - Saving checkpoint at 17 epochs\n"
     ]
    },
    {
     "name": "stdout",
     "output_type": "stream",
     "text": [
      "[>>>>>>>>>>>>>>>>>>>>>>>>>>>>>] 655/655, 10.6 task/s, elapsed: 62s, ETA:     0s"
     ]
    },
    {
     "name": "stderr",
     "output_type": "stream",
     "text": [
      "2021-05-20 06:05:15,359 - mmdet - INFO - Evaluating bbox...\n"
     ]
    },
    {
     "name": "stdout",
     "output_type": "stream",
     "text": [
      "Loading and preparing results...\n",
      "DONE (t=1.23s)\n",
      "creating index...\n",
      "index created!\n",
      "Running per image evaluation...\n",
      "Evaluate annotation type *bbox*\n",
      "DONE (t=7.23s).\n",
      "Accumulating evaluation results...\n"
     ]
    },
    {
     "name": "stderr",
     "output_type": "stream",
     "text": [
      "2021-05-20 06:05:25,265 - mmdet - INFO - Now best checkpoint is epoch_17.pth.Best bbox_mAP is 0.6350\n"
     ]
    },
    {
     "name": "stdout",
     "output_type": "stream",
     "text": [
      "DONE (t=1.34s).\n",
      "Average Precision  (AP) @[ IoU=0.50:0.95 | area=   all | maxDets=100 ] = 0.635\n",
      "Average Precision  (AP) @[ IoU=0.50      | area=   all | maxDets=1000 ] = 0.749\n",
      "Average Precision  (AP) @[ IoU=0.75      | area=   all | maxDets=1000 ] = 0.674\n",
      "Average Precision  (AP) @[ IoU=0.50:0.95 | area= small | maxDets=1000 ] = 0.382\n",
      "Average Precision  (AP) @[ IoU=0.50:0.95 | area=medium | maxDets=1000 ] = 0.663\n",
      "Average Precision  (AP) @[ IoU=0.50:0.95 | area= large | maxDets=1000 ] = 0.825\n",
      "Average Recall     (AR) @[ IoU=0.50:0.95 | area=   all | maxDets=100 ] = 0.730\n",
      "Average Recall     (AR) @[ IoU=0.50:0.95 | area=   all | maxDets=300 ] = 0.730\n",
      "Average Recall     (AR) @[ IoU=0.50:0.95 | area=   all | maxDets=1000 ] = 0.730\n",
      "Average Recall     (AR) @[ IoU=0.50:0.95 | area= small | maxDets=1000 ] = 0.496\n",
      "Average Recall     (AR) @[ IoU=0.50:0.95 | area=medium | maxDets=1000 ] = 0.771\n",
      "Average Recall     (AR) @[ IoU=0.50:0.95 | area= large | maxDets=1000 ] = 0.891\n"
     ]
    },
    {
     "name": "stderr",
     "output_type": "stream",
     "text": [
      "2021-05-20 06:08:56,131 - mmdet - INFO - Epoch [18][100/409]\tlr: 1.000e-03, eta: 0:38:48, time: 2.108, data_time: 0.041, memory: 21697, loss_cls: 0.2738, loss_bbox: 0.2015, loss_dfl: 0.1858, loss: 0.6610, grad_norm: 3.1394\n",
      "2021-05-20 06:12:24,918 - mmdet - INFO - Epoch [18][200/409]\tlr: 1.000e-03, eta: 0:35:22, time: 2.088, data_time: 0.018, memory: 21697, loss_cls: 0.2805, loss_bbox: 0.2063, loss_dfl: 0.1872, loss: 0.6740, grad_norm: 3.3913\n",
      "2021-05-20 06:15:58,109 - mmdet - INFO - Epoch [18][300/409]\tlr: 1.000e-03, eta: 0:31:56, time: 2.132, data_time: 0.018, memory: 21697, loss_cls: 0.2842, loss_bbox: 0.2066, loss_dfl: 0.1879, loss: 0.6787, grad_norm: 3.3836\n",
      "2021-05-20 06:19:28,506 - mmdet - INFO - Epoch [18][400/409]\tlr: 1.000e-03, eta: 0:28:30, time: 2.104, data_time: 0.018, memory: 21697, loss_cls: 0.2644, loss_bbox: 0.1966, loss_dfl: 0.1827, loss: 0.6438, grad_norm: 3.4081\n",
      "2021-05-20 06:19:46,641 - mmdet - INFO - Saving checkpoint at 18 epochs\n"
     ]
    },
    {
     "name": "stdout",
     "output_type": "stream",
     "text": [
      "[>>>>>>>>>>>>>>>>>>>>>>>>>>>>>] 655/655, 10.5 task/s, elapsed: 62s, ETA:     0s"
     ]
    },
    {
     "name": "stderr",
     "output_type": "stream",
     "text": [
      "2021-05-20 06:20:51,219 - mmdet - INFO - Evaluating bbox...\n"
     ]
    },
    {
     "name": "stdout",
     "output_type": "stream",
     "text": [
      "Loading and preparing results...\n",
      "DONE (t=0.70s)\n",
      "creating index...\n",
      "index created!\n",
      "Running per image evaluation...\n",
      "Evaluate annotation type *bbox*\n",
      "DONE (t=6.99s).\n",
      "Accumulating evaluation results...\n"
     ]
    },
    {
     "name": "stderr",
     "output_type": "stream",
     "text": [
      "2021-05-20 06:21:00,261 - mmdet - INFO - Now best checkpoint is epoch_18.pth.Best bbox_mAP is 0.6490\n"
     ]
    },
    {
     "name": "stdout",
     "output_type": "stream",
     "text": [
      "DONE (t=1.24s).\n",
      "Average Precision  (AP) @[ IoU=0.50:0.95 | area=   all | maxDets=100 ] = 0.649\n",
      "Average Precision  (AP) @[ IoU=0.50      | area=   all | maxDets=1000 ] = 0.763\n",
      "Average Precision  (AP) @[ IoU=0.75      | area=   all | maxDets=1000 ] = 0.685\n",
      "Average Precision  (AP) @[ IoU=0.50:0.95 | area= small | maxDets=1000 ] = 0.388\n",
      "Average Precision  (AP) @[ IoU=0.50:0.95 | area=medium | maxDets=1000 ] = 0.680\n",
      "Average Precision  (AP) @[ IoU=0.50:0.95 | area= large | maxDets=1000 ] = 0.834\n",
      "Average Recall     (AR) @[ IoU=0.50:0.95 | area=   all | maxDets=100 ] = 0.738\n",
      "Average Recall     (AR) @[ IoU=0.50:0.95 | area=   all | maxDets=300 ] = 0.738\n",
      "Average Recall     (AR) @[ IoU=0.50:0.95 | area=   all | maxDets=1000 ] = 0.738\n",
      "Average Recall     (AR) @[ IoU=0.50:0.95 | area= small | maxDets=1000 ] = 0.508\n",
      "Average Recall     (AR) @[ IoU=0.50:0.95 | area=medium | maxDets=1000 ] = 0.777\n",
      "Average Recall     (AR) @[ IoU=0.50:0.95 | area= large | maxDets=1000 ] = 0.896\n"
     ]
    },
    {
     "name": "stderr",
     "output_type": "stream",
     "text": [
      "2021-05-20 06:24:31,634 - mmdet - INFO - Epoch [19][100/409]\tlr: 1.000e-03, eta: 0:24:43, time: 2.113, data_time: 0.041, memory: 21697, loss_cls: 0.2580, loss_bbox: 0.1925, loss_dfl: 0.1805, loss: 0.6309, grad_norm: 3.2524\n",
      "2021-05-20 06:28:00,972 - mmdet - INFO - Epoch [19][200/409]\tlr: 1.000e-03, eta: 0:21:17, time: 2.093, data_time: 0.018, memory: 21697, loss_cls: 0.2630, loss_bbox: 0.1975, loss_dfl: 0.1830, loss: 0.6435, grad_norm: 3.1320\n",
      "2021-05-20 06:31:34,334 - mmdet - INFO - Epoch [19][300/409]\tlr: 1.000e-03, eta: 0:17:50, time: 2.134, data_time: 0.018, memory: 21697, loss_cls: 0.2646, loss_bbox: 0.1948, loss_dfl: 0.1833, loss: 0.6427, grad_norm: 3.3040\n",
      "2021-05-20 06:35:04,709 - mmdet - INFO - Epoch [19][400/409]\tlr: 1.000e-03, eta: 0:14:24, time: 2.104, data_time: 0.018, memory: 21697, loss_cls: 0.2664, loss_bbox: 0.2043, loss_dfl: 0.1860, loss: 0.6566, grad_norm: 3.2532\n",
      "2021-05-20 06:35:22,859 - mmdet - INFO - Saving checkpoint at 19 epochs\n"
     ]
    },
    {
     "name": "stdout",
     "output_type": "stream",
     "text": [
      "[>>>>>>>>>>>>>>>>>>>>>>>>>>>>>] 655/655, 10.6 task/s, elapsed: 62s, ETA:     0s"
     ]
    },
    {
     "name": "stderr",
     "output_type": "stream",
     "text": [
      "2021-05-20 06:36:27,280 - mmdet - INFO - Evaluating bbox...\n"
     ]
    },
    {
     "name": "stdout",
     "output_type": "stream",
     "text": [
      "Loading and preparing results...\n",
      "DONE (t=0.69s)\n",
      "creating index...\n",
      "index created!\n",
      "Running per image evaluation...\n",
      "Evaluate annotation type *bbox*\n",
      "DONE (t=7.01s).\n",
      "Accumulating evaluation results...\n"
     ]
    },
    {
     "name": "stderr",
     "output_type": "stream",
     "text": [
      "2021-05-20 06:36:36,316 - mmdet - INFO - Now best checkpoint is epoch_19.pth.Best bbox_mAP is 0.6600\n"
     ]
    },
    {
     "name": "stdout",
     "output_type": "stream",
     "text": [
      "DONE (t=1.24s).\n",
      "Average Precision  (AP) @[ IoU=0.50:0.95 | area=   all | maxDets=100 ] = 0.660\n",
      "Average Precision  (AP) @[ IoU=0.50      | area=   all | maxDets=1000 ] = 0.773\n",
      "Average Precision  (AP) @[ IoU=0.75      | area=   all | maxDets=1000 ] = 0.698\n",
      "Average Precision  (AP) @[ IoU=0.50:0.95 | area= small | maxDets=1000 ] = 0.403\n",
      "Average Precision  (AP) @[ IoU=0.50:0.95 | area=medium | maxDets=1000 ] = 0.690\n",
      "Average Precision  (AP) @[ IoU=0.50:0.95 | area= large | maxDets=1000 ] = 0.839\n",
      "Average Recall     (AR) @[ IoU=0.50:0.95 | area=   all | maxDets=100 ] = 0.752\n",
      "Average Recall     (AR) @[ IoU=0.50:0.95 | area=   all | maxDets=300 ] = 0.752\n",
      "Average Recall     (AR) @[ IoU=0.50:0.95 | area=   all | maxDets=1000 ] = 0.752\n",
      "Average Recall     (AR) @[ IoU=0.50:0.95 | area= small | maxDets=1000 ] = 0.520\n",
      "Average Recall     (AR) @[ IoU=0.50:0.95 | area=medium | maxDets=1000 ] = 0.805\n",
      "Average Recall     (AR) @[ IoU=0.50:0.95 | area= large | maxDets=1000 ] = 0.899\n"
     ]
    },
    {
     "name": "stderr",
     "output_type": "stream",
     "text": [
      "2021-05-20 06:40:07,505 - mmdet - INFO - Epoch [20][100/409]\tlr: 1.000e-04, eta: 0:10:38, time: 2.112, data_time: 0.041, memory: 21697, loss_cls: 0.2559, loss_bbox: 0.1960, loss_dfl: 0.1827, loss: 0.6346, grad_norm: 3.2046\n",
      "2021-05-20 06:43:36,380 - mmdet - INFO - Epoch [20][200/409]\tlr: 1.000e-04, eta: 0:07:11, time: 2.089, data_time: 0.018, memory: 21697, loss_cls: 0.2532, loss_bbox: 0.1947, loss_dfl: 0.1819, loss: 0.6298, grad_norm: 3.1937\n",
      "2021-05-20 06:47:09,812 - mmdet - INFO - Epoch [20][300/409]\tlr: 1.000e-04, eta: 0:03:45, time: 2.134, data_time: 0.018, memory: 21697, loss_cls: 0.2627, loss_bbox: 0.2031, loss_dfl: 0.1856, loss: 0.6514, grad_norm: 3.2480\n",
      "2021-05-20 06:50:39,937 - mmdet - INFO - Epoch [20][400/409]\tlr: 1.000e-04, eta: 0:00:18, time: 2.101, data_time: 0.018, memory: 21697, loss_cls: 0.2556, loss_bbox: 0.1959, loss_dfl: 0.1840, loss: 0.6355, grad_norm: 3.2310\n",
      "2021-05-20 06:50:58,166 - mmdet - INFO - Saving checkpoint at 20 epochs\n"
     ]
    },
    {
     "name": "stdout",
     "output_type": "stream",
     "text": [
      "[>>>>>>>>>>>>>>>>>>>>>>>>>>>>>] 655/655, 10.6 task/s, elapsed: 62s, ETA:     0s"
     ]
    },
    {
     "name": "stderr",
     "output_type": "stream",
     "text": [
      "2021-05-20 06:52:02,485 - mmdet - INFO - Evaluating bbox...\n"
     ]
    },
    {
     "name": "stdout",
     "output_type": "stream",
     "text": [
      "Loading and preparing results...\n",
      "DONE (t=0.74s)\n",
      "creating index...\n",
      "index created!\n",
      "Running per image evaluation...\n",
      "Evaluate annotation type *bbox*\n",
      "DONE (t=7.08s).\n",
      "Accumulating evaluation results...\n"
     ]
    },
    {
     "name": "stderr",
     "output_type": "stream",
     "text": [
      "2021-05-20 06:52:11,676 - mmdet - INFO - Now best checkpoint is epoch_20.pth.Best bbox_mAP is 0.6610\n"
     ]
    },
    {
     "name": "stdout",
     "output_type": "stream",
     "text": [
      "DONE (t=1.26s).\n",
      "Average Precision  (AP) @[ IoU=0.50:0.95 | area=   all | maxDets=100 ] = 0.661\n",
      "Average Precision  (AP) @[ IoU=0.50      | area=   all | maxDets=1000 ] = 0.775\n",
      "Average Precision  (AP) @[ IoU=0.75      | area=   all | maxDets=1000 ] = 0.697\n",
      "Average Precision  (AP) @[ IoU=0.50:0.95 | area= small | maxDets=1000 ] = 0.406\n",
      "Average Precision  (AP) @[ IoU=0.50:0.95 | area=medium | maxDets=1000 ] = 0.691\n",
      "Average Precision  (AP) @[ IoU=0.50:0.95 | area= large | maxDets=1000 ] = 0.839\n",
      "Average Recall     (AR) @[ IoU=0.50:0.95 | area=   all | maxDets=100 ] = 0.753\n",
      "Average Recall     (AR) @[ IoU=0.50:0.95 | area=   all | maxDets=300 ] = 0.753\n",
      "Average Recall     (AR) @[ IoU=0.50:0.95 | area=   all | maxDets=1000 ] = 0.753\n",
      "Average Recall     (AR) @[ IoU=0.50:0.95 | area= small | maxDets=1000 ] = 0.523\n",
      "Average Recall     (AR) @[ IoU=0.50:0.95 | area=medium | maxDets=1000 ] = 0.802\n",
      "Average Recall     (AR) @[ IoU=0.50:0.95 | area= large | maxDets=1000 ] = 0.899\n"
     ]
    }
   ],
   "source": [
    "train_detector(model, datasets[0], cfg, distributed=False, validate=True)"
   ]
  },
  {
   "cell_type": "code",
   "execution_count": null,
   "metadata": {},
   "outputs": [],
   "source": []
  }
 ],
 "metadata": {
  "kernelspec": {
   "display_name": "Python 3",
   "language": "python",
   "name": "python3"
  },
  "language_info": {
   "codemirror_mode": {
    "name": "ipython",
    "version": 3
   },
   "file_extension": ".py",
   "mimetype": "text/x-python",
   "name": "python",
   "nbconvert_exporter": "python",
   "pygments_lexer": "ipython3",
   "version": "3.7.7"
  }
 },
 "nbformat": 4,
 "nbformat_minor": 4
}

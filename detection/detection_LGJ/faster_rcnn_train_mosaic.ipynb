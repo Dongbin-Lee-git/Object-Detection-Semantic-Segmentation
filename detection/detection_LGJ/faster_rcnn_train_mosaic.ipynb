{
 "cells": [
  {
   "cell_type": "code",
   "execution_count": 12,
   "metadata": {},
   "outputs": [
    {
     "name": "stdout",
     "output_type": "stream",
     "text": [
      "--2021-05-14 03:08:49--  http://download.openmmlab.com/mmdetection/v2.0/faster_rcnn/faster_rcnn_r101_fpn_2x_coco/faster_rcnn_r101_fpn_2x_coco_bbox_mAP-0.398_20200504_210455-1d2dac9c.pth\n",
      "Resolving download.openmmlab.com (download.openmmlab.com)... 47.75.20.25\n",
      "Connecting to download.openmmlab.com (download.openmmlab.com)|47.75.20.25|:80... connected.\n",
      "HTTP request sent, awaiting response... 200 OK\n",
      "Length: 243518604 (232M) [application/octet-stream]\n",
      "Saving to: ‘faster_rcnn_r101_fpn_2x_coco_bbox_mAP-0.398_20200504_210455-1d2dac9c.pth’\n",
      "\n",
      "faster_rcnn_r101_fp 100%[===================>] 232.24M  9.33MB/s    in 30s     \n",
      "\n",
      "2021-05-14 03:09:19 (7.82 MB/s) - ‘faster_rcnn_r101_fpn_2x_coco_bbox_mAP-0.398_20200504_210455-1d2dac9c.pth’ saved [243518604/243518604]\n",
      "\n"
     ]
    }
   ],
   "source": [
    "# pretrain down\n",
    "# !wget http://download.openmmlab.com/mmdetection/v2.0/faster_rcnn/faster_rcnn_r50_fpn_1x_coco/faster_rcnn_r50_fpn_2x_coco_bbox_mAP-0.384_20200504_210434-a5d8aa15.pth\n",
    "!wget http://download.openmmlab.com/mmdetection/v2.0/faster_rcnn/faster_rcnn_r101_fpn_2x_coco/faster_rcnn_r101_fpn_2x_coco_bbox_mAP-0.398_20200504_210455-1d2dac9c.pth"
   ]
  },
  {
   "cell_type": "code",
   "execution_count": 1,
   "metadata": {
    "pycharm": {
     "name": "#%%\n"
    }
   },
   "outputs": [],
   "source": [
    "from mmcv import Config\n",
    "from mmdet.datasets import build_dataset\n",
    "from mmdet.models import build_detector\n",
    "from mmdet.apis import train_detector\n",
    "from mmdet.datasets import (build_dataloader, build_dataset,\n",
    "                            replace_ImageToTensor)"
   ]
  },
  {
   "cell_type": "code",
   "execution_count": 2,
   "metadata": {
    "pycharm": {
     "name": "#%%\n"
    },
    "tags": []
   },
   "outputs": [
    {
     "name": "stdout",
     "output_type": "stream",
     "text": [
      "Config:\n",
      "model = dict(\n",
      "    type='FasterRCNN',\n",
      "    pretrained='torchvision://resnet50',\n",
      "    backbone=dict(\n",
      "        type='ResNet',\n",
      "        depth=50,\n",
      "        num_stages=4,\n",
      "        out_indices=(0, 1, 2, 3),\n",
      "        frozen_stages=1,\n",
      "        norm_cfg=dict(type='BN', requires_grad=True),\n",
      "        norm_eval=True,\n",
      "        style='pytorch'),\n",
      "    neck=dict(\n",
      "        type='FPN',\n",
      "        in_channels=[256, 512, 1024, 2048],\n",
      "        out_channels=256,\n",
      "        num_outs=5),\n",
      "    rpn_head=dict(\n",
      "        type='RPNHead',\n",
      "        in_channels=256,\n",
      "        feat_channels=256,\n",
      "        anchor_generator=dict(\n",
      "            type='AnchorGenerator',\n",
      "            scales=[8],\n",
      "            ratios=[0.5, 1.0, 2.0],\n",
      "            strides=[4, 8, 16, 32, 64]),\n",
      "        bbox_coder=dict(\n",
      "            type='DeltaXYWHBBoxCoder',\n",
      "            target_means=[0.0, 0.0, 0.0, 0.0],\n",
      "            target_stds=[1.0, 1.0, 1.0, 1.0]),\n",
      "        loss_cls=dict(\n",
      "            type='CrossEntropyLoss', use_sigmoid=True, loss_weight=1.0),\n",
      "        loss_bbox=dict(type='L1Loss', loss_weight=1.0)),\n",
      "    roi_head=dict(\n",
      "        type='StandardRoIHead',\n",
      "        bbox_roi_extractor=dict(\n",
      "            type='SingleRoIExtractor',\n",
      "            roi_layer=dict(type='RoIAlign', output_size=7, sampling_ratio=0),\n",
      "            out_channels=256,\n",
      "            featmap_strides=[4, 8, 16, 32]),\n",
      "        bbox_head=dict(\n",
      "            type='Shared2FCBBoxHead',\n",
      "            in_channels=256,\n",
      "            fc_out_channels=1024,\n",
      "            roi_feat_size=7,\n",
      "            num_classes=11,\n",
      "            bbox_coder=dict(\n",
      "                type='DeltaXYWHBBoxCoder',\n",
      "                target_means=[0.0, 0.0, 0.0, 0.0],\n",
      "                target_stds=[0.1, 0.1, 0.2, 0.2]),\n",
      "            reg_class_agnostic=False,\n",
      "            loss_cls=dict(\n",
      "                type='CrossEntropyLoss', use_sigmoid=False, loss_weight=1.0),\n",
      "            loss_bbox=dict(type='L1Loss', loss_weight=1.0))),\n",
      "    train_cfg=dict(\n",
      "        rpn=dict(\n",
      "            assigner=dict(\n",
      "                type='MaxIoUAssigner',\n",
      "                pos_iou_thr=0.7,\n",
      "                neg_iou_thr=0.3,\n",
      "                min_pos_iou=0.3,\n",
      "                match_low_quality=True,\n",
      "                ignore_iof_thr=-1),\n",
      "            sampler=dict(\n",
      "                type='RandomSampler',\n",
      "                num=256,\n",
      "                pos_fraction=0.5,\n",
      "                neg_pos_ub=-1,\n",
      "                add_gt_as_proposals=False),\n",
      "            allowed_border=-1,\n",
      "            pos_weight=-1,\n",
      "            debug=False),\n",
      "        rpn_proposal=dict(\n",
      "            nms_pre=2000,\n",
      "            max_per_img=1000,\n",
      "            nms=dict(type='nms', iou_threshold=0.7),\n",
      "            min_bbox_size=0),\n",
      "        rcnn=dict(\n",
      "            assigner=dict(\n",
      "                type='MaxIoUAssigner',\n",
      "                pos_iou_thr=0.5,\n",
      "                neg_iou_thr=0.5,\n",
      "                min_pos_iou=0.5,\n",
      "                match_low_quality=False,\n",
      "                ignore_iof_thr=-1),\n",
      "            sampler=dict(\n",
      "                type='RandomSampler',\n",
      "                num=512,\n",
      "                pos_fraction=0.25,\n",
      "                neg_pos_ub=-1,\n",
      "                add_gt_as_proposals=True),\n",
      "            pos_weight=-1,\n",
      "            debug=False)),\n",
      "    test_cfg=dict(\n",
      "        rpn=dict(\n",
      "            nms_pre=1000,\n",
      "            max_per_img=1000,\n",
      "            nms=dict(type='nms', iou_threshold=0.7),\n",
      "            min_bbox_size=0),\n",
      "        rcnn=dict(\n",
      "            score_thr=0.05,\n",
      "            nms=dict(type='nms', iou_threshold=0.5),\n",
      "            max_per_img=100)))\n",
      "dataset_type = 'CocoDataset'\n",
      "data_root = 'data/coco/'\n",
      "img_norm_cfg = dict(\n",
      "    mean=[123.675, 116.28, 103.53], std=[58.395, 57.12, 57.375], to_rgb=True)\n",
      "train_pipeline = [\n",
      "    dict(type='LoadImageFromFile'),\n",
      "    dict(type='LoadAnnotations', with_bbox=True),\n",
      "    dict(type='Resize', img_scale=(1333, 800), keep_ratio=True),\n",
      "    dict(type='RandomFlip', flip_ratio=0.5),\n",
      "    dict(\n",
      "        type='Albu',\n",
      "        transforms=[\n",
      "            dict(\n",
      "                type='Cutout',\n",
      "                num_holes=30,\n",
      "                max_h_size=30,\n",
      "                max_w_size=30,\n",
      "                fill_value=[103.53, 116.28, 123.675],\n",
      "                p=0.1),\n",
      "            dict(\n",
      "                type='RandomBrightnessContrast',\n",
      "                brightness_limit=[0.1, 0.3],\n",
      "                contrast_limit=[0.1, 0.3],\n",
      "                p=0.2),\n",
      "            dict(\n",
      "                type='OneOf',\n",
      "                transforms=[\n",
      "                    dict(\n",
      "                        type='RGBShift',\n",
      "                        r_shift_limit=10,\n",
      "                        g_shift_limit=10,\n",
      "                        b_shift_limit=10,\n",
      "                        p=1.0),\n",
      "                    dict(\n",
      "                        type='HueSaturationValue',\n",
      "                        hue_shift_limit=20,\n",
      "                        sat_shift_limit=30,\n",
      "                        val_shift_limit=20,\n",
      "                        p=1.0),\n",
      "                    dict(type='RandomGamma'),\n",
      "                    dict(type='CLAHE')\n",
      "                ],\n",
      "                p=0.1),\n",
      "            dict(\n",
      "                type='JpegCompression',\n",
      "                quality_lower=85,\n",
      "                quality_upper=95,\n",
      "                p=0.2),\n",
      "            dict(type='ChannelShuffle', p=0.1),\n",
      "            dict(\n",
      "                type='OneOf',\n",
      "                transforms=[\n",
      "                    dict(type='Blur', blur_limit=3, p=1.0),\n",
      "                    dict(type='MedianBlur', blur_limit=3, p=1.0),\n",
      "                    dict(type='MotionBlur'),\n",
      "                    dict(type='GaussNoise'),\n",
      "                    dict(type='ImageCompression', quality_lower=75)\n",
      "                ],\n",
      "                p=0.1),\n",
      "            dict(type='RandomRotate90', p=0.2)\n",
      "        ],\n",
      "        bbox_params=dict(\n",
      "            type='BboxParams',\n",
      "            format='pascal_voc',\n",
      "            label_fields=['gt_labels'],\n",
      "            min_visibility=0.0,\n",
      "            filter_lost_elements=True),\n",
      "        keymap=dict(img='image', gt_masks='masks', gt_bboxes='bboxes'),\n",
      "        update_pad_shape=False,\n",
      "        skip_img_without_anno=True),\n",
      "    dict(\n",
      "        type='Normalize',\n",
      "        mean=[123.675, 116.28, 103.53],\n",
      "        std=[58.395, 57.12, 57.375],\n",
      "        to_rgb=True),\n",
      "    dict(type='Pad', size_divisor=32),\n",
      "    dict(type='DefaultFormatBundle'),\n",
      "    dict(type='Collect', keys=['img', 'gt_bboxes', 'gt_labels'])\n",
      "]\n",
      "test_pipeline = [\n",
      "    dict(type='LoadImageFromFile'),\n",
      "    dict(\n",
      "        type='MultiScaleFlipAug',\n",
      "        img_scale=(1333, 800),\n",
      "        flip=False,\n",
      "        transforms=[\n",
      "            dict(type='Resize', keep_ratio=True),\n",
      "            dict(type='RandomFlip'),\n",
      "            dict(\n",
      "                type='Normalize',\n",
      "                mean=[123.675, 116.28, 103.53],\n",
      "                std=[58.395, 57.12, 57.375],\n",
      "                to_rgb=True),\n",
      "            dict(type='Pad', size_divisor=32),\n",
      "            dict(type='ImageToTensor', keys=['img']),\n",
      "            dict(type='Collect', keys=['img'])\n",
      "        ])\n",
      "]\n",
      "data = dict(\n",
      "    samples_per_gpu=8,\n",
      "    workers_per_gpu=1,\n",
      "    train=dict(\n",
      "        type='CocoDataset',\n",
      "        ann_file=[\n",
      "            '../../input/data/train.json',\n",
      "            '../../input/data/coco_pseudo_train_vfnet_7.json'\n",
      "        ],\n",
      "        img_prefix=['../../input/data/', '../../input/data/'],\n",
      "        pipeline=[\n",
      "            dict(type='LoadImageFromFile'),\n",
      "            dict(type='LoadAnnotations', with_bbox=True),\n",
      "            dict(type='Resize', img_scale=(1333, 800), keep_ratio=True),\n",
      "            dict(type='RandomFlip', flip_ratio=0.5),\n",
      "            dict(\n",
      "                type='Albu',\n",
      "                transforms=[\n",
      "                    dict(\n",
      "                        type='Cutout',\n",
      "                        num_holes=30,\n",
      "                        max_h_size=30,\n",
      "                        max_w_size=30,\n",
      "                        fill_value=[103.53, 116.28, 123.675],\n",
      "                        p=0.1),\n",
      "                    dict(\n",
      "                        type='RandomBrightnessContrast',\n",
      "                        brightness_limit=[0.1, 0.3],\n",
      "                        contrast_limit=[0.1, 0.3],\n",
      "                        p=0.2),\n",
      "                    dict(\n",
      "                        type='OneOf',\n",
      "                        transforms=[\n",
      "                            dict(\n",
      "                                type='RGBShift',\n",
      "                                r_shift_limit=10,\n",
      "                                g_shift_limit=10,\n",
      "                                b_shift_limit=10,\n",
      "                                p=1.0),\n",
      "                            dict(\n",
      "                                type='HueSaturationValue',\n",
      "                                hue_shift_limit=20,\n",
      "                                sat_shift_limit=30,\n",
      "                                val_shift_limit=20,\n",
      "                                p=1.0),\n",
      "                            dict(type='RandomGamma'),\n",
      "                            dict(type='CLAHE')\n",
      "                        ],\n",
      "                        p=0.1),\n",
      "                    dict(\n",
      "                        type='JpegCompression',\n",
      "                        quality_lower=85,\n",
      "                        quality_upper=95,\n",
      "                        p=0.2),\n",
      "                    dict(type='ChannelShuffle', p=0.1),\n",
      "                    dict(\n",
      "                        type='OneOf',\n",
      "                        transforms=[\n",
      "                            dict(type='Blur', blur_limit=3, p=1.0),\n",
      "                            dict(type='MedianBlur', blur_limit=3, p=1.0),\n",
      "                            dict(type='MotionBlur'),\n",
      "                            dict(type='GaussNoise'),\n",
      "                            dict(type='ImageCompression', quality_lower=75)\n",
      "                        ],\n",
      "                        p=0.1),\n",
      "                    dict(type='RandomRotate90', p=0.2)\n",
      "                ],\n",
      "                bbox_params=dict(\n",
      "                    type='BboxParams',\n",
      "                    format='pascal_voc',\n",
      "                    label_fields=['gt_labels'],\n",
      "                    min_visibility=0.0,\n",
      "                    filter_lost_elements=True),\n",
      "                keymap=dict(img='image', gt_masks='masks', gt_bboxes='bboxes'),\n",
      "                update_pad_shape=False,\n",
      "                skip_img_without_anno=True),\n",
      "            dict(\n",
      "                type='Normalize',\n",
      "                mean=[123.675, 116.28, 103.53],\n",
      "                std=[58.395, 57.12, 57.375],\n",
      "                to_rgb=True),\n",
      "            dict(type='Pad', size_divisor=32),\n",
      "            dict(type='DefaultFormatBundle'),\n",
      "            dict(type='Collect', keys=['img', 'gt_bboxes', 'gt_labels'])\n",
      "        ],\n",
      "        classes=('UNKNOWN', 'General trash', 'Paper', 'Paper pack', 'Metal',\n",
      "                 'Glass', 'Plastic', 'Styrofoam', 'Plastic bag', 'Battery',\n",
      "                 'Clothing')),\n",
      "    val=dict(\n",
      "        type='CocoDataset',\n",
      "        ann_file='../../input/data/val.json',\n",
      "        img_prefix='../../input/data/',\n",
      "        pipeline=[\n",
      "            dict(type='LoadImageFromFile'),\n",
      "            dict(\n",
      "                type='MultiScaleFlipAug',\n",
      "                img_scale=(1333, 800),\n",
      "                flip=False,\n",
      "                transforms=[\n",
      "                    dict(type='Resize', keep_ratio=True),\n",
      "                    dict(type='RandomFlip'),\n",
      "                    dict(\n",
      "                        type='Normalize',\n",
      "                        mean=[123.675, 116.28, 103.53],\n",
      "                        std=[58.395, 57.12, 57.375],\n",
      "                        to_rgb=True),\n",
      "                    dict(type='Pad', size_divisor=32),\n",
      "                    dict(type='ImageToTensor', keys=['img']),\n",
      "                    dict(type='Collect', keys=['img'])\n",
      "                ])\n",
      "        ],\n",
      "        classes=('UNKNOWN', 'General trash', 'Paper', 'Paper pack', 'Metal',\n",
      "                 'Glass', 'Plastic', 'Styrofoam', 'Plastic bag', 'Battery',\n",
      "                 'Clothing')),\n",
      "    test=dict(\n",
      "        type='CocoDataset',\n",
      "        ann_file='../../input/data/test.json',\n",
      "        img_prefix='../../input/data/',\n",
      "        pipeline=[\n",
      "            dict(type='LoadImageFromFile'),\n",
      "            dict(\n",
      "                type='MultiScaleFlipAug',\n",
      "                img_scale=(1333, 800),\n",
      "                flip=False,\n",
      "                transforms=[\n",
      "                    dict(type='Resize', keep_ratio=True),\n",
      "                    dict(type='RandomFlip'),\n",
      "                    dict(\n",
      "                        type='Normalize',\n",
      "                        mean=[123.675, 116.28, 103.53],\n",
      "                        std=[58.395, 57.12, 57.375],\n",
      "                        to_rgb=True),\n",
      "                    dict(type='Pad', size_divisor=32),\n",
      "                    dict(type='ImageToTensor', keys=['img']),\n",
      "                    dict(type='Collect', keys=['img'])\n",
      "                ])\n",
      "        ],\n",
      "        classes=('UNKNOWN', 'General trash', 'Paper', 'Paper pack', 'Metal',\n",
      "                 'Glass', 'Plastic', 'Styrofoam', 'Plastic bag', 'Battery',\n",
      "                 'Clothing')))\n",
      "evaluation = dict(interval=1, metric='bbox')\n",
      "optimizer = dict(type='SGD', lr=0.02, momentum=0.9, weight_decay=0.0001)\n",
      "optimizer_config = dict(grad_clip=dict(max_norm=35, norm_type=2))\n",
      "lr_config = dict(\n",
      "    policy='step',\n",
      "    warmup='linear',\n",
      "    warmup_iters=500,\n",
      "    warmup_ratio=0.001,\n",
      "    step=[16, 22])\n",
      "runner = dict(type='EpochBasedRunner', max_epochs=24)\n",
      "checkpoint_config = dict(max_keep_ckpts=2, interval=1)\n",
      "log_config = dict(\n",
      "    interval=40,\n",
      "    hooks=[dict(type='TensorboardLoggerHook'),\n",
      "           dict(type='TextLoggerHook')])\n",
      "custom_hooks = [dict(type='NumClassCheckHook')]\n",
      "dist_params = dict(backend='nccl')\n",
      "log_level = 'INFO'\n",
      "load_from = 'faster_rcnn_r50_fpn_2x_coco_bbox_mAP-0.384_20200504_210434-a5d8aa15.pth'\n",
      "resume_from = None\n",
      "workflow = [('train', 1)]\n",
      "seed = 2020\n",
      "gpu_ids = [0]\n",
      "work_dir = './work_dirs/faster_rcnn_2x_batch8_wontrans_s50c65_num3'\n",
      "albu_train_transforms = [\n",
      "    dict(\n",
      "        type='Cutout',\n",
      "        num_holes=30,\n",
      "        max_h_size=30,\n",
      "        max_w_size=30,\n",
      "        fill_value=[103.53, 116.28, 123.675],\n",
      "        p=0.1),\n",
      "    dict(\n",
      "        type='RandomBrightnessContrast',\n",
      "        brightness_limit=[0.1, 0.3],\n",
      "        contrast_limit=[0.1, 0.3],\n",
      "        p=0.2),\n",
      "    dict(\n",
      "        type='OneOf',\n",
      "        transforms=[\n",
      "            dict(\n",
      "                type='RGBShift',\n",
      "                r_shift_limit=10,\n",
      "                g_shift_limit=10,\n",
      "                b_shift_limit=10,\n",
      "                p=1.0),\n",
      "            dict(\n",
      "                type='HueSaturationValue',\n",
      "                hue_shift_limit=20,\n",
      "                sat_shift_limit=30,\n",
      "                val_shift_limit=20,\n",
      "                p=1.0),\n",
      "            dict(type='RandomGamma'),\n",
      "            dict(type='CLAHE')\n",
      "        ],\n",
      "        p=0.1),\n",
      "    dict(type='JpegCompression', quality_lower=85, quality_upper=95, p=0.2),\n",
      "    dict(type='ChannelShuffle', p=0.1),\n",
      "    dict(\n",
      "        type='OneOf',\n",
      "        transforms=[\n",
      "            dict(type='Blur', blur_limit=3, p=1.0),\n",
      "            dict(type='MedianBlur', blur_limit=3, p=1.0),\n",
      "            dict(type='MotionBlur'),\n",
      "            dict(type='GaussNoise'),\n",
      "            dict(type='ImageCompression', quality_lower=75)\n",
      "        ],\n",
      "        p=0.1),\n",
      "    dict(type='RandomRotate90', p=0.2)\n",
      "]\n",
      "\n"
     ]
    }
   ],
   "source": [
    "# config file 들고오기\n",
    "cfg = Config.fromfile('./configs/custom_augmentation/faster_rcnn_mosaic.py')\n",
    "\n",
    "# load\n",
    "cfg.load_from = 'faster_rcnn_r50_fpn_2x_coco_bbox_mAP-0.384_20200504_210434-a5d8aa15.pth'\n",
    "\n",
    "print(f'Config:\\n{cfg.pretty_text}')"
   ]
  },
  {
   "cell_type": "code",
   "execution_count": 3,
   "metadata": {
    "pycharm": {
     "name": "#%%\n"
    }
   },
   "outputs": [
    {
     "name": "stderr",
     "output_type": "stream",
     "text": [
      "2021-05-19 01:20:02,017 - mmdet - INFO - load model from: torchvision://resnet50\n",
      "2021-05-19 01:20:02,018 - mmdet - INFO - Use load_from_torchvision loader\n",
      "2021-05-19 01:20:02,284 - mmdet - WARNING - The model and loaded state dict do not match exactly\n",
      "\n",
      "unexpected key in source state_dict: fc.weight, fc.bias\n",
      "\n"
     ]
    }
   ],
   "source": [
    "model = build_detector(cfg.model)"
   ]
  },
  {
   "cell_type": "code",
   "execution_count": 5,
   "metadata": {
    "pycharm": {
     "name": "#%%\n"
    },
    "tags": []
   },
   "outputs": [
    {
     "name": "stdout",
     "output_type": "stream",
     "text": [
      "loading annotations into memory...\n",
      "Done (t=3.39s)\n",
      "creating index...\n",
      "index created!\n",
      "loading annotations into memory...\n",
      "Done (t=0.00s)\n",
      "creating index...\n",
      "index created!\n"
     ]
    }
   ],
   "source": [
    "datasets = [build_dataset(cfg.data.train)]"
   ]
  },
  {
   "cell_type": "code",
   "execution_count": null,
   "metadata": {
    "pycharm": {
     "name": "#%%\n"
    },
    "tags": []
   },
   "outputs": [
    {
     "name": "stdout",
     "output_type": "stream",
     "text": [
      "loading annotations into memory...\n"
     ]
    },
    {
     "name": "stderr",
     "output_type": "stream",
     "text": [
      "2021-05-19 01:20:14,247 - mmdet - INFO - load checkpoint from faster_rcnn_r50_fpn_2x_coco_bbox_mAP-0.384_20200504_210434-a5d8aa15.pth\n",
      "2021-05-19 01:20:14,263 - mmdet - INFO - Use load_from_local loader\n"
     ]
    },
    {
     "name": "stdout",
     "output_type": "stream",
     "text": [
      "Done (t=1.26s)\n",
      "creating index...\n",
      "index created!\n"
     ]
    },
    {
     "name": "stderr",
     "output_type": "stream",
     "text": [
      "2021-05-19 01:20:14,726 - mmdet - WARNING - The model and loaded state dict do not match exactly\n",
      "\n",
      "size mismatch for roi_head.bbox_head.fc_cls.weight: copying a param with shape torch.Size([81, 1024]) from checkpoint, the shape in current model is torch.Size([12, 1024]).\n",
      "size mismatch for roi_head.bbox_head.fc_cls.bias: copying a param with shape torch.Size([81]) from checkpoint, the shape in current model is torch.Size([12]).\n",
      "size mismatch for roi_head.bbox_head.fc_reg.weight: copying a param with shape torch.Size([320, 1024]) from checkpoint, the shape in current model is torch.Size([44, 1024]).\n",
      "size mismatch for roi_head.bbox_head.fc_reg.bias: copying a param with shape torch.Size([320]) from checkpoint, the shape in current model is torch.Size([44]).\n",
      "2021-05-19 01:20:14,745 - mmdet - INFO - Start running, host: root@cca5f118b8f3, work_dir: /opt/ml/code/mmdetection_trash/work_dirs/faster_rcnn_2x_batch8_wontrans_s50c65_num3\n",
      "2021-05-19 01:20:14,746 - mmdet - INFO - workflow: [('train', 1)], max: 24 epochs\n",
      "/opt/ml/code/mmdetection_trash/mmdet/core/evaluation/eval_hooks.py:111: UserWarning: runner.meta is None. Creating a empty one.\n",
      "  warnings.warn('runner.meta is None. Creating a empty one.')\n",
      "2021-05-19 01:21:11,935 - mmdet - INFO - Epoch [1][40/330]\tlr: 1.578e-03, eta: 3:07:14, time: 1.426, data_time: 0.074, memory: 8338, loss_rpn_cls: 0.1274, loss_rpn_bbox: 0.0478, loss_cls: 1.0282, acc: 77.0013, loss_bbox: 0.4559, loss: 1.6593, grad_norm: 6.5172\n",
      "2021-05-19 01:22:05,493 - mmdet - INFO - Epoch [1][80/330]\tlr: 3.177e-03, eta: 3:00:37, time: 1.339, data_time: 0.015, memory: 8338, loss_rpn_cls: 0.0715, loss_rpn_bbox: 0.0494, loss_cls: 0.4787, acc: 87.1783, loss_bbox: 0.4572, loss: 1.0568, grad_norm: 2.5627\n",
      "2021-05-19 01:22:58,934 - mmdet - INFO - Epoch [1][120/330]\tlr: 4.775e-03, eta: 2:57:41, time: 1.336, data_time: 0.015, memory: 8338, loss_rpn_cls: 0.0712, loss_rpn_bbox: 0.0520, loss_cls: 0.4404, acc: 88.1830, loss_bbox: 0.3861, loss: 0.9498, grad_norm: 3.0271\n",
      "2021-05-19 01:23:52,470 - mmdet - INFO - Epoch [1][160/330]\tlr: 6.374e-03, eta: 2:55:51, time: 1.338, data_time: 0.015, memory: 8338, loss_rpn_cls: 0.0597, loss_rpn_bbox: 0.0461, loss_cls: 0.3850, acc: 89.5917, loss_bbox: 0.3040, loss: 0.7948, grad_norm: 3.0238\n",
      "2021-05-19 01:24:46,348 - mmdet - INFO - Epoch [1][200/330]\tlr: 7.972e-03, eta: 2:54:37, time: 1.347, data_time: 0.015, memory: 8338, loss_rpn_cls: 0.0734, loss_rpn_bbox: 0.0556, loss_cls: 0.3807, acc: 89.3683, loss_bbox: 0.3076, loss: 0.8173, grad_norm: 3.0481\n",
      "2021-05-19 01:25:40,067 - mmdet - INFO - Epoch [1][240/330]\tlr: 9.570e-03, eta: 2:53:25, time: 1.343, data_time: 0.016, memory: 8338, loss_rpn_cls: 0.0534, loss_rpn_bbox: 0.0457, loss_cls: 0.3594, acc: 89.8523, loss_bbox: 0.2854, loss: 0.7439, grad_norm: 2.8552\n",
      "2021-05-19 01:26:33,608 - mmdet - INFO - Epoch [1][280/330]\tlr: 1.117e-02, eta: 2:52:13, time: 1.339, data_time: 0.015, memory: 8338, loss_rpn_cls: 0.0580, loss_rpn_bbox: 0.0476, loss_cls: 0.3768, acc: 89.7644, loss_bbox: 0.2859, loss: 0.7682, grad_norm: 2.8059\n",
      "2021-05-19 01:27:27,394 - mmdet - INFO - Epoch [1][320/330]\tlr: 1.277e-02, eta: 2:51:11, time: 1.345, data_time: 0.015, memory: 8338, loss_rpn_cls: 0.0571, loss_rpn_bbox: 0.0470, loss_cls: 0.3643, acc: 89.6796, loss_bbox: 0.2885, loss: 0.7569, grad_norm: 2.7682\n",
      "2021-05-19 01:27:40,842 - mmdet - INFO - Saving checkpoint at 1 epochs\n"
     ]
    },
    {
     "name": "stdout",
     "output_type": "stream",
     "text": [
      "[>>>>>>>>>>>>>>>>>>>>>>>>>>>>>] 655/655, 12.3 task/s, elapsed: 53s, ETA:     0s"
     ]
    },
    {
     "name": "stderr",
     "output_type": "stream",
     "text": [
      "2021-05-19 01:28:35,653 - mmdet - INFO - Evaluating bbox...\n"
     ]
    },
    {
     "name": "stdout",
     "output_type": "stream",
     "text": [
      "Loading and preparing results...\n",
      "DONE (t=1.04s)\n",
      "creating index...\n",
      "index created!\n",
      "Running per image evaluation...\n",
      "Evaluate annotation type *bbox*\n",
      "DONE (t=5.54s).\n",
      "Accumulating evaluation results...\n"
     ]
    },
    {
     "name": "stderr",
     "output_type": "stream",
     "text": [
      "2021-05-19 01:28:43,315 - mmdet - INFO - Now best checkpoint is epoch_1.pth.Best bbox_mAP is 0.1100\n"
     ]
    },
    {
     "name": "stdout",
     "output_type": "stream",
     "text": [
      "DONE (t=1.00s).\n",
      "Average Precision  (AP) @[ IoU=0.50:0.95 | area=   all | maxDets=100 ] = 0.110\n",
      "Average Precision  (AP) @[ IoU=0.50      | area=   all | maxDets=1000 ] = 0.189\n",
      "Average Precision  (AP) @[ IoU=0.75      | area=   all | maxDets=1000 ] = 0.116\n",
      "Average Precision  (AP) @[ IoU=0.50:0.95 | area= small | maxDets=1000 ] = 0.039\n",
      "Average Precision  (AP) @[ IoU=0.50:0.95 | area=medium | maxDets=1000 ] = 0.117\n",
      "Average Precision  (AP) @[ IoU=0.50:0.95 | area= large | maxDets=1000 ] = 0.191\n",
      "Average Recall     (AR) @[ IoU=0.50:0.95 | area=   all | maxDets=100 ] = 0.275\n",
      "Average Recall     (AR) @[ IoU=0.50:0.95 | area=   all | maxDets=300 ] = 0.275\n",
      "Average Recall     (AR) @[ IoU=0.50:0.95 | area=   all | maxDets=1000 ] = 0.275\n",
      "Average Recall     (AR) @[ IoU=0.50:0.95 | area= small | maxDets=1000 ] = 0.113\n",
      "Average Recall     (AR) @[ IoU=0.50:0.95 | area=medium | maxDets=1000 ] = 0.284\n",
      "Average Recall     (AR) @[ IoU=0.50:0.95 | area= large | maxDets=1000 ] = 0.446\n"
     ]
    },
    {
     "name": "stderr",
     "output_type": "stream",
     "text": [
      "2021-05-19 01:29:39,383 - mmdet - INFO - Epoch [2][40/330]\tlr: 1.477e-02, eta: 2:46:08, time: 1.401, data_time: 0.074, memory: 8338, loss_rpn_cls: 0.0612, loss_rpn_bbox: 0.0482, loss_cls: 0.3565, acc: 89.9725, loss_bbox: 0.2750, loss: 0.7409, grad_norm: 2.8169\n",
      "2021-05-19 01:30:33,200 - mmdet - INFO - Epoch [2][80/330]\tlr: 1.636e-02, eta: 2:45:34, time: 1.345, data_time: 0.017, memory: 8338, loss_rpn_cls: 0.0607, loss_rpn_bbox: 0.0506, loss_cls: 0.3626, acc: 90.0085, loss_bbox: 0.2771, loss: 0.7510, grad_norm: 2.7597\n",
      "2021-05-19 01:31:26,866 - mmdet - INFO - Epoch [2][120/330]\tlr: 1.796e-02, eta: 2:44:53, time: 1.342, data_time: 0.016, memory: 8338, loss_rpn_cls: 0.0660, loss_rpn_bbox: 0.0518, loss_cls: 0.3776, acc: 89.4000, loss_bbox: 0.2930, loss: 0.7884, grad_norm: 2.6978\n",
      "2021-05-19 01:32:20,530 - mmdet - INFO - Epoch [2][160/330]\tlr: 1.956e-02, eta: 2:44:11, time: 1.342, data_time: 0.017, memory: 8338, loss_rpn_cls: 0.0688, loss_rpn_bbox: 0.0557, loss_cls: 0.3737, acc: 89.4696, loss_bbox: 0.2852, loss: 0.7835, grad_norm: 2.4380\n",
      "2021-05-19 01:33:14,598 - mmdet - INFO - Epoch [2][200/330]\tlr: 2.000e-02, eta: 2:43:32, time: 1.352, data_time: 0.016, memory: 8338, loss_rpn_cls: 0.0675, loss_rpn_bbox: 0.0484, loss_cls: 0.3703, acc: 89.7345, loss_bbox: 0.2774, loss: 0.7636, grad_norm: 2.5032\n",
      "2021-05-19 01:34:08,324 - mmdet - INFO - Epoch [2][240/330]\tlr: 2.000e-02, eta: 2:42:47, time: 1.343, data_time: 0.016, memory: 8338, loss_rpn_cls: 0.0640, loss_rpn_bbox: 0.0525, loss_cls: 0.3772, acc: 89.2517, loss_bbox: 0.2952, loss: 0.7889, grad_norm: 2.3217\n",
      "2021-05-19 01:35:02,020 - mmdet - INFO - Epoch [2][280/330]\tlr: 2.000e-02, eta: 2:42:00, time: 1.342, data_time: 0.016, memory: 8338, loss_rpn_cls: 0.0609, loss_rpn_bbox: 0.0522, loss_cls: 0.3534, acc: 89.9701, loss_bbox: 0.2842, loss: 0.7507, grad_norm: 2.2037\n",
      "2021-05-19 01:35:55,786 - mmdet - INFO - Epoch [2][320/330]\tlr: 2.000e-02, eta: 2:41:13, time: 1.344, data_time: 0.016, memory: 8338, loss_rpn_cls: 0.0587, loss_rpn_bbox: 0.0469, loss_cls: 0.3448, acc: 90.3290, loss_bbox: 0.2714, loss: 0.7219, grad_norm: 2.2302\n",
      "2021-05-19 01:36:09,320 - mmdet - INFO - Saving checkpoint at 2 epochs\n"
     ]
    },
    {
     "name": "stdout",
     "output_type": "stream",
     "text": [
      "[>>>>>>>>>>>>>>>>>>>>>>>>>>>>>] 655/655, 11.3 task/s, elapsed: 58s, ETA:     0s"
     ]
    },
    {
     "name": "stderr",
     "output_type": "stream",
     "text": [
      "2021-05-19 01:37:09,453 - mmdet - INFO - Evaluating bbox...\n"
     ]
    },
    {
     "name": "stdout",
     "output_type": "stream",
     "text": [
      "Loading and preparing results...\n",
      "DONE (t=0.66s)\n",
      "creating index...\n",
      "index created!\n",
      "Running per image evaluation...\n",
      "Evaluate annotation type *bbox*\n",
      "DONE (t=6.44s).\n",
      "Accumulating evaluation results...\n"
     ]
    },
    {
     "name": "stderr",
     "output_type": "stream",
     "text": [
      "2021-05-19 01:37:17,928 - mmdet - INFO - Now best checkpoint is epoch_2.pth.Best bbox_mAP is 0.1190\n"
     ]
    },
    {
     "name": "stdout",
     "output_type": "stream",
     "text": [
      "DONE (t=1.27s).\n",
      "Average Precision  (AP) @[ IoU=0.50:0.95 | area=   all | maxDets=100 ] = 0.119\n",
      "Average Precision  (AP) @[ IoU=0.50      | area=   all | maxDets=1000 ] = 0.203\n",
      "Average Precision  (AP) @[ IoU=0.75      | area=   all | maxDets=1000 ] = 0.124\n",
      "Average Precision  (AP) @[ IoU=0.50:0.95 | area= small | maxDets=1000 ] = 0.045\n",
      "Average Precision  (AP) @[ IoU=0.50:0.95 | area=medium | maxDets=1000 ] = 0.117\n",
      "Average Precision  (AP) @[ IoU=0.50:0.95 | area= large | maxDets=1000 ] = 0.198\n",
      "Average Recall     (AR) @[ IoU=0.50:0.95 | area=   all | maxDets=100 ] = 0.289\n",
      "Average Recall     (AR) @[ IoU=0.50:0.95 | area=   all | maxDets=300 ] = 0.289\n",
      "Average Recall     (AR) @[ IoU=0.50:0.95 | area=   all | maxDets=1000 ] = 0.289\n",
      "Average Recall     (AR) @[ IoU=0.50:0.95 | area= small | maxDets=1000 ] = 0.148\n",
      "Average Recall     (AR) @[ IoU=0.50:0.95 | area=medium | maxDets=1000 ] = 0.293\n",
      "Average Recall     (AR) @[ IoU=0.50:0.95 | area= large | maxDets=1000 ] = 0.441\n"
     ]
    },
    {
     "name": "stderr",
     "output_type": "stream",
     "text": [
      "2021-05-19 01:38:07,193 - mmdet - INFO - Epoch [3][40/330]\tlr: 2.000e-02, eta: 2:37:09, time: 1.231, data_time: 0.074, memory: 8338, loss_rpn_cls: 0.0471, loss_rpn_bbox: 0.0496, loss_cls: 0.3456, acc: 89.8474, loss_bbox: 0.2790, loss: 0.7213, grad_norm: 2.1518\n",
      "2021-05-19 01:39:00,628 - mmdet - INFO - Epoch [3][80/330]\tlr: 2.000e-02, eta: 2:36:28, time: 1.336, data_time: 0.015, memory: 8338, loss_rpn_cls: 0.0559, loss_rpn_bbox: 0.0497, loss_cls: 0.3433, acc: 89.9823, loss_bbox: 0.2652, loss: 0.7140, grad_norm: 2.2431\n",
      "2021-05-19 01:39:54,614 - mmdet - INFO - Epoch [3][120/330]\tlr: 2.000e-02, eta: 2:35:51, time: 1.350, data_time: 0.016, memory: 8338, loss_rpn_cls: 0.0515, loss_rpn_bbox: 0.0506, loss_cls: 0.3660, acc: 89.5477, loss_bbox: 0.2844, loss: 0.7525, grad_norm: 2.1661\n",
      "2021-05-19 01:40:48,800 - mmdet - INFO - Epoch [3][160/330]\tlr: 2.000e-02, eta: 2:35:14, time: 1.355, data_time: 0.015, memory: 8338, loss_rpn_cls: 0.0586, loss_rpn_bbox: 0.0503, loss_cls: 0.3560, acc: 89.6198, loss_bbox: 0.2780, loss: 0.7429, grad_norm: 2.1997\n",
      "2021-05-19 01:41:42,521 - mmdet - INFO - Epoch [3][200/330]\tlr: 2.000e-02, eta: 2:34:32, time: 1.343, data_time: 0.015, memory: 8338, loss_rpn_cls: 0.0588, loss_rpn_bbox: 0.0479, loss_cls: 0.3542, acc: 89.9707, loss_bbox: 0.2791, loss: 0.7400, grad_norm: 2.1741\n",
      "2021-05-19 01:42:36,300 - mmdet - INFO - Epoch [3][240/330]\tlr: 2.000e-02, eta: 2:33:49, time: 1.344, data_time: 0.016, memory: 8338, loss_rpn_cls: 0.0540, loss_rpn_bbox: 0.0502, loss_cls: 0.3591, acc: 89.9133, loss_bbox: 0.2746, loss: 0.7380, grad_norm: 2.2864\n",
      "2021-05-19 01:43:30,124 - mmdet - INFO - Epoch [3][280/330]\tlr: 2.000e-02, eta: 2:33:06, time: 1.346, data_time: 0.015, memory: 8338, loss_rpn_cls: 0.0475, loss_rpn_bbox: 0.0481, loss_cls: 0.3328, acc: 90.1208, loss_bbox: 0.2770, loss: 0.7053, grad_norm: 2.0316\n",
      "2021-05-19 01:44:24,028 - mmdet - INFO - Epoch [3][320/330]\tlr: 2.000e-02, eta: 2:32:22, time: 1.348, data_time: 0.016, memory: 8338, loss_rpn_cls: 0.0545, loss_rpn_bbox: 0.0494, loss_cls: 0.3455, acc: 89.7797, loss_bbox: 0.2878, loss: 0.7373, grad_norm: 2.1889\n",
      "2021-05-19 01:44:37,592 - mmdet - INFO - Saving checkpoint at 3 epochs\n"
     ]
    },
    {
     "name": "stdout",
     "output_type": "stream",
     "text": [
      "[>>>>>>>>>>>>>>>>>>>>>>>>>>>>>] 655/655, 10.7 task/s, elapsed: 61s, ETA:     0s"
     ]
    },
    {
     "name": "stderr",
     "output_type": "stream",
     "text": [
      "2021-05-19 01:45:40,008 - mmdet - INFO - Evaluating bbox...\n"
     ]
    },
    {
     "name": "stdout",
     "output_type": "stream",
     "text": [
      "Loading and preparing results...\n",
      "DONE (t=0.58s)\n",
      "creating index...\n",
      "index created!\n",
      "Running per image evaluation...\n",
      "Evaluate annotation type *bbox*\n",
      "DONE (t=6.33s).\n",
      "Accumulating evaluation results...\n"
     ]
    },
    {
     "name": "stderr",
     "output_type": "stream",
     "text": [
      "2021-05-19 01:45:47,908 - mmdet - INFO - Now best checkpoint is epoch_3.pth.Best bbox_mAP is 0.1370\n"
     ]
    },
    {
     "name": "stdout",
     "output_type": "stream",
     "text": [
      "DONE (t=0.91s).\n",
      "Average Precision  (AP) @[ IoU=0.50:0.95 | area=   all | maxDets=100 ] = 0.137\n",
      "Average Precision  (AP) @[ IoU=0.50      | area=   all | maxDets=1000 ] = 0.220\n",
      "Average Precision  (AP) @[ IoU=0.75      | area=   all | maxDets=1000 ] = 0.145\n",
      "Average Precision  (AP) @[ IoU=0.50:0.95 | area= small | maxDets=1000 ] = 0.044\n",
      "Average Precision  (AP) @[ IoU=0.50:0.95 | area=medium | maxDets=1000 ] = 0.160\n",
      "Average Precision  (AP) @[ IoU=0.50:0.95 | area= large | maxDets=1000 ] = 0.241\n",
      "Average Recall     (AR) @[ IoU=0.50:0.95 | area=   all | maxDets=100 ] = 0.289\n",
      "Average Recall     (AR) @[ IoU=0.50:0.95 | area=   all | maxDets=300 ] = 0.289\n",
      "Average Recall     (AR) @[ IoU=0.50:0.95 | area=   all | maxDets=1000 ] = 0.289\n",
      "Average Recall     (AR) @[ IoU=0.50:0.95 | area= small | maxDets=1000 ] = 0.105\n",
      "Average Recall     (AR) @[ IoU=0.50:0.95 | area=medium | maxDets=1000 ] = 0.290\n",
      "Average Recall     (AR) @[ IoU=0.50:0.95 | area= large | maxDets=1000 ] = 0.456\n"
     ]
    },
    {
     "name": "stderr",
     "output_type": "stream",
     "text": [
      "2021-05-19 01:46:28,393 - mmdet - INFO - Epoch [4][40/330]\tlr: 2.000e-02, eta: 2:28:26, time: 1.012, data_time: 0.074, memory: 8338, loss_rpn_cls: 0.0471, loss_rpn_bbox: 0.0439, loss_cls: 0.3311, acc: 90.4291, loss_bbox: 0.2530, loss: 0.6751, grad_norm: 2.1459\n",
      "2021-05-19 01:47:22,241 - mmdet - INFO - Epoch [4][80/330]\tlr: 2.000e-02, eta: 2:27:48, time: 1.346, data_time: 0.016, memory: 8338, loss_rpn_cls: 0.0494, loss_rpn_bbox: 0.0480, loss_cls: 0.3487, acc: 89.8114, loss_bbox: 0.2767, loss: 0.7229, grad_norm: 2.2059\n",
      "2021-05-19 01:48:16,062 - mmdet - INFO - Epoch [4][120/330]\tlr: 2.000e-02, eta: 2:27:09, time: 1.346, data_time: 0.016, memory: 8338, loss_rpn_cls: 0.0489, loss_rpn_bbox: 0.0521, loss_cls: 0.3414, acc: 89.9048, loss_bbox: 0.2759, loss: 0.7183, grad_norm: 2.0937\n",
      "2021-05-19 01:49:09,789 - mmdet - INFO - Epoch [4][160/330]\tlr: 2.000e-02, eta: 2:26:28, time: 1.343, data_time: 0.016, memory: 8338, loss_rpn_cls: 0.0491, loss_rpn_bbox: 0.0503, loss_cls: 0.3251, acc: 90.3687, loss_bbox: 0.2652, loss: 0.6897, grad_norm: 2.0257\n",
      "2021-05-19 01:50:03,663 - mmdet - INFO - Epoch [4][200/330]\tlr: 2.000e-02, eta: 2:25:47, time: 1.347, data_time: 0.016, memory: 8338, loss_rpn_cls: 0.0534, loss_rpn_bbox: 0.0494, loss_cls: 0.3380, acc: 90.2271, loss_bbox: 0.2720, loss: 0.7128, grad_norm: 2.1313\n",
      "2021-05-19 01:50:57,528 - mmdet - INFO - Epoch [4][240/330]\tlr: 2.000e-02, eta: 2:25:05, time: 1.347, data_time: 0.016, memory: 8338, loss_rpn_cls: 0.0459, loss_rpn_bbox: 0.0430, loss_cls: 0.3104, acc: 90.8557, loss_bbox: 0.2590, loss: 0.6581, grad_norm: 2.0650\n",
      "2021-05-19 01:51:51,362 - mmdet - INFO - Epoch [4][280/330]\tlr: 2.000e-02, eta: 2:24:23, time: 1.346, data_time: 0.016, memory: 8338, loss_rpn_cls: 0.0507, loss_rpn_bbox: 0.0503, loss_cls: 0.3475, acc: 89.7168, loss_bbox: 0.2875, loss: 0.7360, grad_norm: 2.1856\n",
      "2021-05-19 01:52:45,179 - mmdet - INFO - Epoch [4][320/330]\tlr: 2.000e-02, eta: 2:23:39, time: 1.345, data_time: 0.015, memory: 8338, loss_rpn_cls: 0.0443, loss_rpn_bbox: 0.0433, loss_cls: 0.3189, acc: 90.6567, loss_bbox: 0.2591, loss: 0.6655, grad_norm: 2.0782\n",
      "2021-05-19 01:52:58,701 - mmdet - INFO - Saving checkpoint at 4 epochs\n"
     ]
    },
    {
     "name": "stdout",
     "output_type": "stream",
     "text": [
      "[>>>>>>>>>>>>>>>>>>>>>>>>>>>>>] 655/655, 10.2 task/s, elapsed: 64s, ETA:     0s"
     ]
    },
    {
     "name": "stderr",
     "output_type": "stream",
     "text": [
      "2021-05-19 01:54:04,015 - mmdet - INFO - Evaluating bbox...\n"
     ]
    },
    {
     "name": "stdout",
     "output_type": "stream",
     "text": [
      "Loading and preparing results...\n",
      "DONE (t=0.59s)\n",
      "creating index...\n",
      "index created!\n",
      "Running per image evaluation...\n",
      "Evaluate annotation type *bbox*\n",
      "DONE (t=4.63s).\n",
      "Accumulating evaluation results...\n"
     ]
    },
    {
     "name": "stderr",
     "output_type": "stream",
     "text": [
      "2021-05-19 01:54:10,116 - mmdet - INFO - Now best checkpoint is epoch_4.pth.Best bbox_mAP is 0.1490\n"
     ]
    },
    {
     "name": "stdout",
     "output_type": "stream",
     "text": [
      "DONE (t=0.81s).\n",
      "Average Precision  (AP) @[ IoU=0.50:0.95 | area=   all | maxDets=100 ] = 0.149\n",
      "Average Precision  (AP) @[ IoU=0.50      | area=   all | maxDets=1000 ] = 0.248\n",
      "Average Precision  (AP) @[ IoU=0.75      | area=   all | maxDets=1000 ] = 0.152\n",
      "Average Precision  (AP) @[ IoU=0.50:0.95 | area= small | maxDets=1000 ] = 0.045\n",
      "Average Precision  (AP) @[ IoU=0.50:0.95 | area=medium | maxDets=1000 ] = 0.157\n",
      "Average Precision  (AP) @[ IoU=0.50:0.95 | area= large | maxDets=1000 ] = 0.316\n",
      "Average Recall     (AR) @[ IoU=0.50:0.95 | area=   all | maxDets=100 ] = 0.299\n",
      "Average Recall     (AR) @[ IoU=0.50:0.95 | area=   all | maxDets=300 ] = 0.299\n",
      "Average Recall     (AR) @[ IoU=0.50:0.95 | area=   all | maxDets=1000 ] = 0.299\n",
      "Average Recall     (AR) @[ IoU=0.50:0.95 | area= small | maxDets=1000 ] = 0.115\n",
      "Average Recall     (AR) @[ IoU=0.50:0.95 | area=medium | maxDets=1000 ] = 0.299\n",
      "Average Recall     (AR) @[ IoU=0.50:0.95 | area= large | maxDets=1000 ] = 0.539\n"
     ]
    },
    {
     "name": "stderr",
     "output_type": "stream",
     "text": [
      "2021-05-19 01:54:49,029 - mmdet - INFO - Epoch [5][40/330]\tlr: 2.000e-02, eta: 2:20:27, time: 0.972, data_time: 0.077, memory: 8338, loss_rpn_cls: 0.0394, loss_rpn_bbox: 0.0410, loss_cls: 0.2960, acc: 90.9912, loss_bbox: 0.2493, loss: 0.6258, grad_norm: 2.0822\n",
      "2021-05-19 01:55:39,467 - mmdet - INFO - Epoch [5][80/330]\tlr: 2.000e-02, eta: 2:19:31, time: 1.261, data_time: 0.016, memory: 8338, loss_rpn_cls: 0.0441, loss_rpn_bbox: 0.0523, loss_cls: 0.3487, acc: 89.7858, loss_bbox: 0.2749, loss: 0.7199, grad_norm: 2.1290\n",
      "2021-05-19 01:56:32,974 - mmdet - INFO - Epoch [5][120/330]\tlr: 2.000e-02, eta: 2:18:49, time: 1.338, data_time: 0.016, memory: 8338, loss_rpn_cls: 0.0441, loss_rpn_bbox: 0.0424, loss_cls: 0.3063, acc: 90.8350, loss_bbox: 0.2438, loss: 0.6366, grad_norm: 2.0335\n",
      "2021-05-19 01:57:26,623 - mmdet - INFO - Epoch [5][160/330]\tlr: 2.000e-02, eta: 2:18:08, time: 1.341, data_time: 0.016, memory: 8338, loss_rpn_cls: 0.0456, loss_rpn_bbox: 0.0464, loss_cls: 0.3258, acc: 90.2472, loss_bbox: 0.2653, loss: 0.6831, grad_norm: 2.0894\n",
      "2021-05-19 01:58:20,218 - mmdet - INFO - Epoch [5][200/330]\tlr: 2.000e-02, eta: 2:17:25, time: 1.340, data_time: 0.016, memory: 8338, loss_rpn_cls: 0.0461, loss_rpn_bbox: 0.0478, loss_cls: 0.3135, acc: 90.5872, loss_bbox: 0.2643, loss: 0.6718, grad_norm: 2.0600\n",
      "2021-05-19 01:59:13,964 - mmdet - INFO - Epoch [5][240/330]\tlr: 2.000e-02, eta: 2:16:43, time: 1.344, data_time: 0.016, memory: 8338, loss_rpn_cls: 0.0472, loss_rpn_bbox: 0.0449, loss_cls: 0.3341, acc: 90.2600, loss_bbox: 0.2709, loss: 0.6972, grad_norm: 2.1602\n",
      "2021-05-19 02:00:07,865 - mmdet - INFO - Epoch [5][280/330]\tlr: 2.000e-02, eta: 2:16:00, time: 1.348, data_time: 0.016, memory: 8338, loss_rpn_cls: 0.0452, loss_rpn_bbox: 0.0477, loss_cls: 0.3172, acc: 90.6146, loss_bbox: 0.2629, loss: 0.6731, grad_norm: 1.9566\n",
      "2021-05-19 02:01:01,692 - mmdet - INFO - Epoch [5][320/330]\tlr: 2.000e-02, eta: 2:15:17, time: 1.346, data_time: 0.016, memory: 8338, loss_rpn_cls: 0.0486, loss_rpn_bbox: 0.0484, loss_cls: 0.3413, acc: 90.0586, loss_bbox: 0.2845, loss: 0.7228, grad_norm: 2.1538\n",
      "2021-05-19 02:01:15,204 - mmdet - INFO - Saving checkpoint at 5 epochs\n"
     ]
    },
    {
     "name": "stdout",
     "output_type": "stream",
     "text": [
      "[>>>>>>>>>>>>>>>>>>>>>>>>>>>>>>] 655/655, 9.5 task/s, elapsed: 69s, ETA:     0s"
     ]
    },
    {
     "name": "stderr",
     "output_type": "stream",
     "text": [
      "2021-05-19 02:02:25,529 - mmdet - INFO - Evaluating bbox...\n"
     ]
    },
    {
     "name": "stdout",
     "output_type": "stream",
     "text": [
      "Loading and preparing results...\n",
      "DONE (t=0.55s)\n",
      "creating index...\n",
      "index created!\n",
      "Running per image evaluation...\n",
      "Evaluate annotation type *bbox*\n",
      "DONE (t=5.04s).\n",
      "Accumulating evaluation results...\n"
     ]
    },
    {
     "name": "stderr",
     "output_type": "stream",
     "text": [
      "2021-05-19 02:02:32,007 - mmdet - INFO - Now best checkpoint is epoch_5.pth.Best bbox_mAP is 0.1720\n"
     ]
    },
    {
     "name": "stdout",
     "output_type": "stream",
     "text": [
      "DONE (t=0.80s).\n",
      "Average Precision  (AP) @[ IoU=0.50:0.95 | area=   all | maxDets=100 ] = 0.172\n",
      "Average Precision  (AP) @[ IoU=0.50      | area=   all | maxDets=1000 ] = 0.277\n",
      "Average Precision  (AP) @[ IoU=0.75      | area=   all | maxDets=1000 ] = 0.181\n",
      "Average Precision  (AP) @[ IoU=0.50:0.95 | area= small | maxDets=1000 ] = 0.050\n",
      "Average Precision  (AP) @[ IoU=0.50:0.95 | area=medium | maxDets=1000 ] = 0.173\n",
      "Average Precision  (AP) @[ IoU=0.50:0.95 | area= large | maxDets=1000 ] = 0.324\n",
      "Average Recall     (AR) @[ IoU=0.50:0.95 | area=   all | maxDets=100 ] = 0.341\n",
      "Average Recall     (AR) @[ IoU=0.50:0.95 | area=   all | maxDets=300 ] = 0.341\n",
      "Average Recall     (AR) @[ IoU=0.50:0.95 | area=   all | maxDets=1000 ] = 0.341\n",
      "Average Recall     (AR) @[ IoU=0.50:0.95 | area= small | maxDets=1000 ] = 0.125\n",
      "Average Recall     (AR) @[ IoU=0.50:0.95 | area=medium | maxDets=1000 ] = 0.327\n",
      "Average Recall     (AR) @[ IoU=0.50:0.95 | area= large | maxDets=1000 ] = 0.560\n"
     ]
    },
    {
     "name": "stderr",
     "output_type": "stream",
     "text": [
      "2021-05-19 02:03:15,800 - mmdet - INFO - Epoch [6][40/330]\tlr: 2.000e-02, eta: 2:12:55, time: 1.094, data_time: 0.076, memory: 8338, loss_rpn_cls: 0.0392, loss_rpn_bbox: 0.0472, loss_cls: 0.3248, acc: 90.4175, loss_bbox: 0.2593, loss: 0.6705, grad_norm: 2.0982\n",
      "2021-05-19 02:03:57,293 - mmdet - INFO - Epoch [6][80/330]\tlr: 2.000e-02, eta: 2:11:29, time: 1.037, data_time: 0.016, memory: 8338, loss_rpn_cls: 0.0470, loss_rpn_bbox: 0.0515, loss_cls: 0.3173, acc: 90.5280, loss_bbox: 0.2700, loss: 0.6858, grad_norm: 2.0779\n",
      "2021-05-19 02:04:51,085 - mmdet - INFO - Epoch [6][120/330]\tlr: 2.000e-02, eta: 2:10:48, time: 1.345, data_time: 0.016, memory: 8338, loss_rpn_cls: 0.0412, loss_rpn_bbox: 0.0418, loss_cls: 0.3014, acc: 90.9692, loss_bbox: 0.2478, loss: 0.6322, grad_norm: 2.1285\n",
      "2021-05-19 02:05:44,821 - mmdet - INFO - Epoch [6][160/330]\tlr: 2.000e-02, eta: 2:10:06, time: 1.343, data_time: 0.016, memory: 8338, loss_rpn_cls: 0.0391, loss_rpn_bbox: 0.0435, loss_cls: 0.2975, acc: 90.9564, loss_bbox: 0.2481, loss: 0.6282, grad_norm: 2.0482\n",
      "2021-05-19 02:06:38,501 - mmdet - INFO - Epoch [6][200/330]\tlr: 2.000e-02, eta: 2:09:23, time: 1.342, data_time: 0.016, memory: 8338, loss_rpn_cls: 0.0428, loss_rpn_bbox: 0.0442, loss_cls: 0.2993, acc: 91.1316, loss_bbox: 0.2437, loss: 0.6301, grad_norm: 2.0233\n",
      "2021-05-19 02:07:32,320 - mmdet - INFO - Epoch [6][240/330]\tlr: 2.000e-02, eta: 2:08:41, time: 1.345, data_time: 0.016, memory: 8338, loss_rpn_cls: 0.0338, loss_rpn_bbox: 0.0386, loss_cls: 0.2853, acc: 91.2830, loss_bbox: 0.2392, loss: 0.5969, grad_norm: 1.9460\n",
      "2021-05-19 02:08:25,894 - mmdet - INFO - Epoch [6][280/330]\tlr: 2.000e-02, eta: 2:07:57, time: 1.339, data_time: 0.017, memory: 8338, loss_rpn_cls: 0.0413, loss_rpn_bbox: 0.0466, loss_cls: 0.3187, acc: 90.4761, loss_bbox: 0.2740, loss: 0.6806, grad_norm: 2.1288\n",
      "2021-05-19 02:09:19,758 - mmdet - INFO - Epoch [6][320/330]\tlr: 2.000e-02, eta: 2:07:13, time: 1.347, data_time: 0.016, memory: 8338, loss_rpn_cls: 0.0443, loss_rpn_bbox: 0.0501, loss_cls: 0.3284, acc: 90.0769, loss_bbox: 0.2765, loss: 0.6993, grad_norm: 2.1124\n",
      "2021-05-19 02:09:33,297 - mmdet - INFO - Saving checkpoint at 6 epochs\n"
     ]
    },
    {
     "name": "stdout",
     "output_type": "stream",
     "text": [
      "[>>>>>>>>>>>>>>>>>>>>>>>>>>>>>>] 655/655, 9.2 task/s, elapsed: 71s, ETA:     0s"
     ]
    },
    {
     "name": "stderr",
     "output_type": "stream",
     "text": [
      "2021-05-19 02:10:45,632 - mmdet - INFO - Evaluating bbox...\n"
     ]
    },
    {
     "name": "stdout",
     "output_type": "stream",
     "text": [
      "Loading and preparing results...\n",
      "DONE (t=0.57s)\n",
      "creating index...\n",
      "index created!\n",
      "Running per image evaluation...\n",
      "Evaluate annotation type *bbox*\n",
      "DONE (t=5.22s).\n",
      "Accumulating evaluation results...\n",
      "DONE (t=0.73s).\n",
      "Average Precision  (AP) @[ IoU=0.50:0.95 | area=   all | maxDets=100 ] = 0.159\n",
      "Average Precision  (AP) @[ IoU=0.50      | area=   all | maxDets=1000 ] = 0.252\n",
      "Average Precision  (AP) @[ IoU=0.75      | area=   all | maxDets=1000 ] = 0.169\n",
      "Average Precision  (AP) @[ IoU=0.50:0.95 | area= small | maxDets=1000 ] = 0.046\n",
      "Average Precision  (AP) @[ IoU=0.50:0.95 | area=medium | maxDets=1000 ] = 0.169\n",
      "Average Precision  (AP) @[ IoU=0.50:0.95 | area= large | maxDets=1000 ] = 0.261\n",
      "Average Recall     (AR) @[ IoU=0.50:0.95 | area=   all | maxDets=100 ] = 0.316\n",
      "Average Recall     (AR) @[ IoU=0.50:0.95 | area=   all | maxDets=300 ] = 0.316\n",
      "Average Recall     (AR) @[ IoU=0.50:0.95 | area=   all | maxDets=1000 ] = 0.316\n",
      "Average Recall     (AR) @[ IoU=0.50:0.95 | area= small | maxDets=1000 ] = 0.098\n",
      "Average Recall     (AR) @[ IoU=0.50:0.95 | area=medium | maxDets=1000 ] = 0.310\n",
      "Average Recall     (AR) @[ IoU=0.50:0.95 | area= large | maxDets=1000 ] = 0.538\n"
     ]
    },
    {
     "name": "stderr",
     "output_type": "stream",
     "text": [
      "2021-05-19 02:11:35,790 - mmdet - INFO - Epoch [7][40/330]\tlr: 2.000e-02, eta: 2:05:09, time: 1.089, data_time: 0.078, memory: 8338, loss_rpn_cls: 0.0384, loss_rpn_bbox: 0.0410, loss_cls: 0.2953, acc: 91.1749, loss_bbox: 0.2423, loss: 0.6170, grad_norm: 2.1632\n",
      "2021-05-19 02:12:11,617 - mmdet - INFO - Epoch [7][80/330]\tlr: 2.000e-02, eta: 2:03:35, time: 0.896, data_time: 0.016, memory: 8338, loss_rpn_cls: 0.0443, loss_rpn_bbox: 0.0512, loss_cls: 0.3218, acc: 90.3705, loss_bbox: 0.2685, loss: 0.6859, grad_norm: 2.2919\n",
      "2021-05-19 02:13:05,320 - mmdet - INFO - Epoch [7][120/330]\tlr: 2.000e-02, eta: 2:02:53, time: 1.343, data_time: 0.016, memory: 8338, loss_rpn_cls: 0.0464, loss_rpn_bbox: 0.0486, loss_cls: 0.3129, acc: 90.4626, loss_bbox: 0.2692, loss: 0.6770, grad_norm: 2.0879\n",
      "2021-05-19 02:13:59,217 - mmdet - INFO - Epoch [7][160/330]\tlr: 2.000e-02, eta: 2:02:11, time: 1.347, data_time: 0.016, memory: 8338, loss_rpn_cls: 0.0355, loss_rpn_bbox: 0.0441, loss_cls: 0.3048, acc: 90.6561, loss_bbox: 0.2548, loss: 0.6393, grad_norm: 2.0549\n",
      "2021-05-19 02:14:53,100 - mmdet - INFO - Epoch [7][200/330]\tlr: 2.000e-02, eta: 2:01:29, time: 1.347, data_time: 0.015, memory: 8338, loss_rpn_cls: 0.0437, loss_rpn_bbox: 0.0520, loss_cls: 0.3390, acc: 89.8975, loss_bbox: 0.2796, loss: 0.7143, grad_norm: 2.1954\n",
      "2021-05-19 02:15:46,984 - mmdet - INFO - Epoch [7][240/330]\tlr: 2.000e-02, eta: 2:00:46, time: 1.347, data_time: 0.016, memory: 8338, loss_rpn_cls: 0.0373, loss_rpn_bbox: 0.0377, loss_cls: 0.2769, acc: 91.7590, loss_bbox: 0.2309, loss: 0.5829, grad_norm: 1.9023\n",
      "2021-05-19 02:16:40,720 - mmdet - INFO - Epoch [7][280/330]\tlr: 2.000e-02, eta: 2:00:02, time: 1.343, data_time: 0.016, memory: 8338, loss_rpn_cls: 0.0441, loss_rpn_bbox: 0.0433, loss_cls: 0.3018, acc: 91.0126, loss_bbox: 0.2491, loss: 0.6384, grad_norm: 2.0692\n",
      "2021-05-19 02:17:34,659 - mmdet - INFO - Epoch [7][320/330]\tlr: 2.000e-02, eta: 1:59:19, time: 1.348, data_time: 0.016, memory: 8338, loss_rpn_cls: 0.0358, loss_rpn_bbox: 0.0405, loss_cls: 0.2899, acc: 91.1377, loss_bbox: 0.2438, loss: 0.6100, grad_norm: 1.9729\n",
      "2021-05-19 02:17:48,097 - mmdet - INFO - Saving checkpoint at 7 epochs\n"
     ]
    },
    {
     "name": "stdout",
     "output_type": "stream",
     "text": [
      "[>>>>>>>>>>>>>>>>>>>>>>>>>>>>>>] 655/655, 9.2 task/s, elapsed: 71s, ETA:     0s"
     ]
    },
    {
     "name": "stderr",
     "output_type": "stream",
     "text": [
      "2021-05-19 02:19:00,760 - mmdet - INFO - Evaluating bbox...\n"
     ]
    },
    {
     "name": "stdout",
     "output_type": "stream",
     "text": [
      "Loading and preparing results...\n",
      "DONE (t=0.61s)\n",
      "creating index...\n",
      "index created!\n",
      "Running per image evaluation...\n",
      "Evaluate annotation type *bbox*\n",
      "DONE (t=6.51s).\n",
      "Accumulating evaluation results...\n"
     ]
    },
    {
     "name": "stderr",
     "output_type": "stream",
     "text": [
      "2021-05-19 02:19:09,007 - mmdet - INFO - Now best checkpoint is epoch_7.pth.Best bbox_mAP is 0.2100\n"
     ]
    },
    {
     "name": "stdout",
     "output_type": "stream",
     "text": [
      "DONE (t=1.05s).\n",
      "Average Precision  (AP) @[ IoU=0.50:0.95 | area=   all | maxDets=100 ] = 0.210\n",
      "Average Precision  (AP) @[ IoU=0.50      | area=   all | maxDets=1000 ] = 0.333\n",
      "Average Precision  (AP) @[ IoU=0.75      | area=   all | maxDets=1000 ] = 0.219\n",
      "Average Precision  (AP) @[ IoU=0.50:0.95 | area= small | maxDets=1000 ] = 0.045\n",
      "Average Precision  (AP) @[ IoU=0.50:0.95 | area=medium | maxDets=1000 ] = 0.201\n",
      "Average Precision  (AP) @[ IoU=0.50:0.95 | area= large | maxDets=1000 ] = 0.374\n",
      "Average Recall     (AR) @[ IoU=0.50:0.95 | area=   all | maxDets=100 ] = 0.371\n",
      "Average Recall     (AR) @[ IoU=0.50:0.95 | area=   all | maxDets=300 ] = 0.371\n",
      "Average Recall     (AR) @[ IoU=0.50:0.95 | area=   all | maxDets=1000 ] = 0.371\n",
      "Average Recall     (AR) @[ IoU=0.50:0.95 | area= small | maxDets=1000 ] = 0.135\n",
      "Average Recall     (AR) @[ IoU=0.50:0.95 | area=medium | maxDets=1000 ] = 0.377\n",
      "Average Recall     (AR) @[ IoU=0.50:0.95 | area= large | maxDets=1000 ] = 0.572\n"
     ]
    },
    {
     "name": "stderr",
     "output_type": "stream",
     "text": [
      "2021-05-19 02:19:56,399 - mmdet - INFO - Epoch [8][40/330]\tlr: 2.000e-02, eta: 1:57:36, time: 1.184, data_time: 0.076, memory: 8338, loss_rpn_cls: 0.0440, loss_rpn_bbox: 0.0476, loss_cls: 0.3003, acc: 90.6238, loss_bbox: 0.2731, loss: 0.6649, grad_norm: 2.1440\n",
      "2021-05-19 02:20:38,090 - mmdet - INFO - Epoch [8][80/330]\tlr: 2.000e-02, eta: 1:56:25, time: 1.042, data_time: 0.018, memory: 8338, loss_rpn_cls: 0.0386, loss_rpn_bbox: 0.0436, loss_cls: 0.2940, acc: 91.0028, loss_bbox: 0.2482, loss: 0.6243, grad_norm: 2.0944\n",
      "2021-05-19 02:21:20,086 - mmdet - INFO - Epoch [8][120/330]\tlr: 2.000e-02, eta: 1:55:15, time: 1.050, data_time: 0.016, memory: 8338, loss_rpn_cls: 0.0359, loss_rpn_bbox: 0.0422, loss_cls: 0.2790, acc: 91.5668, loss_bbox: 0.2371, loss: 0.5943, grad_norm: 2.0053\n",
      "2021-05-19 02:22:13,561 - mmdet - INFO - Epoch [8][160/330]\tlr: 2.000e-02, eta: 1:54:32, time: 1.337, data_time: 0.016, memory: 8338, loss_rpn_cls: 0.0422, loss_rpn_bbox: 0.0430, loss_cls: 0.2984, acc: 90.8545, loss_bbox: 0.2569, loss: 0.6405, grad_norm: 2.1590\n",
      "2021-05-19 02:23:07,499 - mmdet - INFO - Epoch [8][200/330]\tlr: 2.000e-02, eta: 1:53:49, time: 1.348, data_time: 0.016, memory: 8338, loss_rpn_cls: 0.0419, loss_rpn_bbox: 0.0427, loss_cls: 0.3114, acc: 90.5872, loss_bbox: 0.2463, loss: 0.6423, grad_norm: 2.1764\n",
      "2021-05-19 02:24:01,301 - mmdet - INFO - Epoch [8][240/330]\tlr: 2.000e-02, eta: 1:53:05, time: 1.345, data_time: 0.016, memory: 8338, loss_rpn_cls: 0.0335, loss_rpn_bbox: 0.0443, loss_cls: 0.2940, acc: 91.0565, loss_bbox: 0.2508, loss: 0.6226, grad_norm: 2.0501\n",
      "2021-05-19 02:24:55,230 - mmdet - INFO - Epoch [8][280/330]\tlr: 2.000e-02, eta: 1:52:22, time: 1.348, data_time: 0.016, memory: 8338, loss_rpn_cls: 0.0400, loss_rpn_bbox: 0.0465, loss_cls: 0.2975, acc: 91.1194, loss_bbox: 0.2521, loss: 0.6362, grad_norm: 2.1474\n",
      "2021-05-19 02:25:49,163 - mmdet - INFO - Epoch [8][320/330]\tlr: 2.000e-02, eta: 1:51:38, time: 1.348, data_time: 0.017, memory: 8338, loss_rpn_cls: 0.0371, loss_rpn_bbox: 0.0440, loss_cls: 0.2878, acc: 91.1969, loss_bbox: 0.2433, loss: 0.6123, grad_norm: 2.0158\n",
      "2021-05-19 02:26:02,733 - mmdet - INFO - Saving checkpoint at 8 epochs\n"
     ]
    },
    {
     "name": "stdout",
     "output_type": "stream",
     "text": [
      "[>>>>>>>>>>>>>>>>>>>>>>>>>>>>>>] 655/655, 9.1 task/s, elapsed: 72s, ETA:     0s"
     ]
    },
    {
     "name": "stderr",
     "output_type": "stream",
     "text": [
      "2021-05-19 02:27:16,326 - mmdet - INFO - Evaluating bbox...\n"
     ]
    },
    {
     "name": "stdout",
     "output_type": "stream",
     "text": [
      "Loading and preparing results...\n",
      "DONE (t=0.62s)\n",
      "creating index...\n",
      "index created!\n",
      "Running per image evaluation...\n",
      "Evaluate annotation type *bbox*\n",
      "DONE (t=5.27s).\n",
      "Accumulating evaluation results...\n",
      "DONE (t=0.81s).\n",
      "Average Precision  (AP) @[ IoU=0.50:0.95 | area=   all | maxDets=100 ] = 0.194\n",
      "Average Precision  (AP) @[ IoU=0.50      | area=   all | maxDets=1000 ] = 0.323\n",
      "Average Precision  (AP) @[ IoU=0.75      | area=   all | maxDets=1000 ] = 0.192\n",
      "Average Precision  (AP) @[ IoU=0.50:0.95 | area= small | maxDets=1000 ] = 0.051\n",
      "Average Precision  (AP) @[ IoU=0.50:0.95 | area=medium | maxDets=1000 ] = 0.190\n",
      "Average Precision  (AP) @[ IoU=0.50:0.95 | area= large | maxDets=1000 ] = 0.362\n",
      "Average Recall     (AR) @[ IoU=0.50:0.95 | area=   all | maxDets=100 ] = 0.352\n",
      "Average Recall     (AR) @[ IoU=0.50:0.95 | area=   all | maxDets=300 ] = 0.352\n",
      "Average Recall     (AR) @[ IoU=0.50:0.95 | area=   all | maxDets=1000 ] = 0.352\n",
      "Average Recall     (AR) @[ IoU=0.50:0.95 | area= small | maxDets=1000 ] = 0.120\n",
      "Average Recall     (AR) @[ IoU=0.50:0.95 | area=medium | maxDets=1000 ] = 0.345\n",
      "Average Recall     (AR) @[ IoU=0.50:0.95 | area= large | maxDets=1000 ] = 0.583\n"
     ]
    },
    {
     "name": "stderr",
     "output_type": "stream",
     "text": [
      "2021-05-19 02:28:16,368 - mmdet - INFO - Epoch [9][40/330]\tlr: 2.000e-02, eta: 1:50:15, time: 1.331, data_time: 0.075, memory: 8338, loss_rpn_cls: 0.0328, loss_rpn_bbox: 0.0439, loss_cls: 0.2956, acc: 90.9656, loss_bbox: 0.2521, loss: 0.6245, grad_norm: 2.1041\n",
      "2021-05-19 02:28:57,739 - mmdet - INFO - Epoch [9][80/330]\tlr: 2.000e-02, eta: 1:49:07, time: 1.034, data_time: 0.017, memory: 8338, loss_rpn_cls: 0.0424, loss_rpn_bbox: 0.0411, loss_cls: 0.2804, acc: 91.4777, loss_bbox: 0.2402, loss: 0.6041, grad_norm: 2.2223\n",
      "2021-05-19 02:29:35,326 - mmdet - INFO - Epoch [9][120/330]\tlr: 2.000e-02, eta: 1:47:53, time: 0.940, data_time: 0.017, memory: 8338, loss_rpn_cls: 0.0390, loss_rpn_bbox: 0.0468, loss_cls: 0.2969, acc: 90.8917, loss_bbox: 0.2585, loss: 0.6412, grad_norm: 2.0784\n",
      "2021-05-19 02:30:29,209 - mmdet - INFO - Epoch [9][160/330]\tlr: 2.000e-02, eta: 1:47:09, time: 1.347, data_time: 0.016, memory: 8338, loss_rpn_cls: 0.0333, loss_rpn_bbox: 0.0424, loss_cls: 0.2908, acc: 90.9949, loss_bbox: 0.2496, loss: 0.6161, grad_norm: 2.0525\n",
      "2021-05-19 02:31:23,154 - mmdet - INFO - Epoch [9][200/330]\tlr: 2.000e-02, eta: 1:46:26, time: 1.349, data_time: 0.016, memory: 8338, loss_rpn_cls: 0.0385, loss_rpn_bbox: 0.0454, loss_cls: 0.3149, acc: 90.4419, loss_bbox: 0.2634, loss: 0.6623, grad_norm: 2.2235\n",
      "2021-05-19 02:32:17,216 - mmdet - INFO - Epoch [9][240/330]\tlr: 2.000e-02, eta: 1:45:42, time: 1.352, data_time: 0.016, memory: 8338, loss_rpn_cls: 0.0365, loss_rpn_bbox: 0.0492, loss_cls: 0.3037, acc: 90.6366, loss_bbox: 0.2603, loss: 0.6496, grad_norm: 2.1241\n",
      "2021-05-19 02:33:10,977 - mmdet - INFO - Epoch [9][280/330]\tlr: 2.000e-02, eta: 1:44:57, time: 1.344, data_time: 0.016, memory: 8338, loss_rpn_cls: 0.0343, loss_rpn_bbox: 0.0410, loss_cls: 0.2607, acc: 91.8567, loss_bbox: 0.2332, loss: 0.5691, grad_norm: 1.9634\n",
      "2021-05-19 02:34:04,772 - mmdet - INFO - Epoch [9][320/330]\tlr: 2.000e-02, eta: 1:44:13, time: 1.345, data_time: 0.016, memory: 8338, loss_rpn_cls: 0.0294, loss_rpn_bbox: 0.0380, loss_cls: 0.2570, acc: 92.1399, loss_bbox: 0.2281, loss: 0.5526, grad_norm: 2.0087\n",
      "2021-05-19 02:34:18,317 - mmdet - INFO - Saving checkpoint at 9 epochs\n"
     ]
    },
    {
     "name": "stdout",
     "output_type": "stream",
     "text": [
      "[>>>>>>>>>>>>>>>>>>>>>>>>>>>>>>] 655/655, 9.4 task/s, elapsed: 70s, ETA:     0s"
     ]
    },
    {
     "name": "stderr",
     "output_type": "stream",
     "text": [
      "2021-05-19 02:35:29,628 - mmdet - INFO - Evaluating bbox...\n"
     ]
    },
    {
     "name": "stdout",
     "output_type": "stream",
     "text": [
      "Loading and preparing results...\n",
      "DONE (t=0.59s)\n",
      "creating index...\n",
      "index created!\n",
      "Running per image evaluation...\n",
      "Evaluate annotation type *bbox*\n",
      "DONE (t=4.89s).\n",
      "Accumulating evaluation results...\n",
      "DONE (t=0.86s).\n",
      "Average Precision  (AP) @[ IoU=0.50:0.95 | area=   all | maxDets=100 ] = 0.198\n",
      "Average Precision  (AP) @[ IoU=0.50      | area=   all | maxDets=1000 ] = 0.321\n",
      "Average Precision  (AP) @[ IoU=0.75      | area=   all | maxDets=1000 ] = 0.215\n",
      "Average Precision  (AP) @[ IoU=0.50:0.95 | area= small | maxDets=1000 ] = 0.055\n",
      "Average Precision  (AP) @[ IoU=0.50:0.95 | area=medium | maxDets=1000 ] = 0.187\n",
      "Average Precision  (AP) @[ IoU=0.50:0.95 | area= large | maxDets=1000 ] = 0.366\n",
      "Average Recall     (AR) @[ IoU=0.50:0.95 | area=   all | maxDets=100 ] = 0.371\n",
      "Average Recall     (AR) @[ IoU=0.50:0.95 | area=   all | maxDets=300 ] = 0.371\n",
      "Average Recall     (AR) @[ IoU=0.50:0.95 | area=   all | maxDets=1000 ] = 0.371\n",
      "Average Recall     (AR) @[ IoU=0.50:0.95 | area= small | maxDets=1000 ] = 0.149\n",
      "Average Recall     (AR) @[ IoU=0.50:0.95 | area=medium | maxDets=1000 ] = 0.359\n",
      "Average Recall     (AR) @[ IoU=0.50:0.95 | area= large | maxDets=1000 ] = 0.582\n"
     ]
    },
    {
     "name": "stderr",
     "output_type": "stream",
     "text": [
      "2021-05-19 02:36:32,292 - mmdet - INFO - Epoch [10][40/330]\tlr: 2.000e-02, eta: 1:42:59, time: 1.406, data_time: 0.075, memory: 8338, loss_rpn_cls: 0.0390, loss_rpn_bbox: 0.0470, loss_cls: 0.2916, acc: 90.9106, loss_bbox: 0.2548, loss: 0.6325, grad_norm: 2.2361\n",
      "2021-05-19 02:37:17,203 - mmdet - INFO - Epoch [10][80/330]\tlr: 2.000e-02, eta: 1:42:00, time: 1.123, data_time: 0.016, memory: 8338, loss_rpn_cls: 0.0359, loss_rpn_bbox: 0.0475, loss_cls: 0.2814, acc: 91.3593, loss_bbox: 0.2647, loss: 0.6294, grad_norm: 2.1362\n",
      "2021-05-19 02:37:58,501 - mmdet - INFO - Epoch [10][120/330]\tlr: 2.000e-02, eta: 1:40:55, time: 1.032, data_time: 0.016, memory: 8338, loss_rpn_cls: 0.0369, loss_rpn_bbox: 0.0421, loss_cls: 0.2793, acc: 91.1542, loss_bbox: 0.2475, loss: 0.6059, grad_norm: 2.1570\n",
      "2021-05-19 02:38:41,426 - mmdet - INFO - Epoch [10][160/330]\tlr: 2.000e-02, eta: 1:39:54, time: 1.073, data_time: 0.016, memory: 8338, loss_rpn_cls: 0.0313, loss_rpn_bbox: 0.0370, loss_cls: 0.2786, acc: 91.6071, loss_bbox: 0.2241, loss: 0.5709, grad_norm: 2.1490\n",
      "2021-05-19 02:39:35,117 - mmdet - INFO - Epoch [10][200/330]\tlr: 2.000e-02, eta: 1:39:09, time: 1.342, data_time: 0.016, memory: 8338, loss_rpn_cls: 0.0352, loss_rpn_bbox: 0.0413, loss_cls: 0.2765, acc: 91.5466, loss_bbox: 0.2399, loss: 0.5929, grad_norm: 1.9931\n",
      "2021-05-19 02:40:28,976 - mmdet - INFO - Epoch [10][240/330]\tlr: 2.000e-02, eta: 1:38:25, time: 1.346, data_time: 0.016, memory: 8338, loss_rpn_cls: 0.0322, loss_rpn_bbox: 0.0405, loss_cls: 0.2864, acc: 91.2787, loss_bbox: 0.2461, loss: 0.6053, grad_norm: 2.0921\n",
      "2021-05-19 02:41:22,709 - mmdet - INFO - Epoch [10][280/330]\tlr: 2.000e-02, eta: 1:37:40, time: 1.343, data_time: 0.016, memory: 8338, loss_rpn_cls: 0.0383, loss_rpn_bbox: 0.0489, loss_cls: 0.3010, acc: 90.7086, loss_bbox: 0.2594, loss: 0.6477, grad_norm: 2.2102\n",
      "2021-05-19 02:42:16,421 - mmdet - INFO - Epoch [10][320/330]\tlr: 2.000e-02, eta: 1:36:55, time: 1.343, data_time: 0.016, memory: 8338, loss_rpn_cls: 0.0324, loss_rpn_bbox: 0.0386, loss_cls: 0.2657, acc: 91.8011, loss_bbox: 0.2319, loss: 0.5686, grad_norm: 2.0691\n",
      "2021-05-19 02:42:29,969 - mmdet - INFO - Saving checkpoint at 10 epochs\n"
     ]
    },
    {
     "name": "stdout",
     "output_type": "stream",
     "text": [
      "[>>>>>>>>>>>>>>>>>>>>>>>>>>>>>>] 655/655, 9.1 task/s, elapsed: 72s, ETA:     0s"
     ]
    },
    {
     "name": "stderr",
     "output_type": "stream",
     "text": [
      "2021-05-19 02:43:43,707 - mmdet - INFO - Evaluating bbox...\n"
     ]
    },
    {
     "name": "stdout",
     "output_type": "stream",
     "text": [
      "Loading and preparing results...\n",
      "DONE (t=0.56s)\n",
      "creating index...\n",
      "index created!\n",
      "Running per image evaluation...\n",
      "Evaluate annotation type *bbox*\n",
      "DONE (t=5.54s).\n",
      "Accumulating evaluation results...\n",
      "DONE (t=0.86s).\n",
      "Average Precision  (AP) @[ IoU=0.50:0.95 | area=   all | maxDets=100 ] = 0.193\n",
      "Average Precision  (AP) @[ IoU=0.50      | area=   all | maxDets=1000 ] = 0.306\n",
      "Average Precision  (AP) @[ IoU=0.75      | area=   all | maxDets=1000 ] = 0.198\n",
      "Average Precision  (AP) @[ IoU=0.50:0.95 | area= small | maxDets=1000 ] = 0.050\n",
      "Average Precision  (AP) @[ IoU=0.50:0.95 | area=medium | maxDets=1000 ] = 0.188\n",
      "Average Precision  (AP) @[ IoU=0.50:0.95 | area= large | maxDets=1000 ] = 0.390\n",
      "Average Recall     (AR) @[ IoU=0.50:0.95 | area=   all | maxDets=100 ] = 0.376\n",
      "Average Recall     (AR) @[ IoU=0.50:0.95 | area=   all | maxDets=300 ] = 0.376\n",
      "Average Recall     (AR) @[ IoU=0.50:0.95 | area=   all | maxDets=1000 ] = 0.376\n",
      "Average Recall     (AR) @[ IoU=0.50:0.95 | area= small | maxDets=1000 ] = 0.109\n",
      "Average Recall     (AR) @[ IoU=0.50:0.95 | area=medium | maxDets=1000 ] = 0.367\n",
      "Average Recall     (AR) @[ IoU=0.50:0.95 | area= large | maxDets=1000 ] = 0.614\n"
     ]
    },
    {
     "name": "stderr",
     "output_type": "stream",
     "text": [
      "2021-05-19 02:44:47,376 - mmdet - INFO - Epoch [11][40/330]\tlr: 2.000e-02, eta: 1:35:43, time: 1.416, data_time: 0.075, memory: 8338, loss_rpn_cls: 0.0304, loss_rpn_bbox: 0.0402, loss_cls: 0.2636, acc: 91.6034, loss_bbox: 0.2357, loss: 0.5699, grad_norm: 2.0574\n",
      "2021-05-19 02:45:37,990 - mmdet - INFO - Epoch [11][80/330]\tlr: 2.000e-02, eta: 1:34:54, time: 1.265, data_time: 0.017, memory: 8338, loss_rpn_cls: 0.0335, loss_rpn_bbox: 0.0419, loss_cls: 0.2728, acc: 91.5186, loss_bbox: 0.2452, loss: 0.5934, grad_norm: 2.1575\n",
      "2021-05-19 02:46:19,776 - mmdet - INFO - Epoch [11][120/330]\tlr: 2.000e-02, eta: 1:33:53, time: 1.045, data_time: 0.018, memory: 8338, loss_rpn_cls: 0.0361, loss_rpn_bbox: 0.0471, loss_cls: 0.2815, acc: 91.3513, loss_bbox: 0.2544, loss: 0.6191, grad_norm: 2.1020\n",
      "2021-05-19 02:46:57,642 - mmdet - INFO - Epoch [11][160/330]\tlr: 2.000e-02, eta: 1:32:47, time: 0.947, data_time: 0.017, memory: 8338, loss_rpn_cls: 0.0281, loss_rpn_bbox: 0.0369, loss_cls: 0.2543, acc: 92.1252, loss_bbox: 0.2236, loss: 0.5428, grad_norm: 2.1324\n",
      "2021-05-19 02:47:51,537 - mmdet - INFO - Epoch [11][200/330]\tlr: 2.000e-02, eta: 1:32:02, time: 1.347, data_time: 0.016, memory: 8338, loss_rpn_cls: 0.0398, loss_rpn_bbox: 0.0459, loss_cls: 0.2862, acc: 91.1859, loss_bbox: 0.2557, loss: 0.6276, grad_norm: 2.1540\n"
     ]
    }
   ],
   "source": [
    "train_detector(model, datasets[0], cfg, distributed=False, validate=True)"
   ]
  },
  {
   "cell_type": "code",
   "execution_count": null,
   "metadata": {},
   "outputs": [],
   "source": []
  }
 ],
 "metadata": {
  "kernelspec": {
   "display_name": "Python 3",
   "language": "python",
   "name": "python3"
  },
  "language_info": {
   "codemirror_mode": {
    "name": "ipython",
    "version": 3
   },
   "file_extension": ".py",
   "mimetype": "text/x-python",
   "name": "python",
   "nbconvert_exporter": "python",
   "pygments_lexer": "ipython3",
   "version": "3.7.7"
  }
 },
 "nbformat": 4,
 "nbformat_minor": 4
}
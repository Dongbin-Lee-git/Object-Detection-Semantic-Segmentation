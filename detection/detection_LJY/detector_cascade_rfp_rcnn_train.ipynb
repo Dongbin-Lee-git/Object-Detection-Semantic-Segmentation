{
 "cells": [
  {
   "cell_type": "code",
   "execution_count": 1,
   "metadata": {},
   "outputs": [
    {
     "name": "stdout",
     "output_type": "stream",
     "text": [
      "Thu May 13 08:17:22 2021       \n",
      "+-----------------------------------------------------------------------------+\n",
      "| NVIDIA-SMI 418.67       Driver Version: 418.67       CUDA Version: 10.1     |\n",
      "|-------------------------------+----------------------+----------------------+\n",
      "| GPU  Name        Persistence-M| Bus-Id        Disp.A | Volatile Uncorr. ECC |\n",
      "| Fan  Temp  Perf  Pwr:Usage/Cap|         Memory-Usage | GPU-Util  Compute M. |\n",
      "|===============================+======================+======================|\n",
      "|   0  Tesla P40           On   | 00000000:00:05.0 Off |                  Off |\n",
      "| N/A   38C    P0    56W / 250W |      0MiB / 24451MiB |      0%      Default |\n",
      "+-------------------------------+----------------------+----------------------+\n",
      "                                                                               \n",
      "+-----------------------------------------------------------------------------+\n",
      "| Processes:                                                       GPU Memory |\n",
      "|  GPU       PID   Type   Process name                             Usage      |\n",
      "|=============================================================================|\n",
      "|  No running processes found                                                 |\n",
      "+-----------------------------------------------------------------------------+\n"
     ]
    }
   ],
   "source": [
    "!nvidia-smi"
   ]
  },
  {
   "cell_type": "code",
   "execution_count": 2,
   "metadata": {
    "pycharm": {
     "name": "#%%\n"
    }
   },
   "outputs": [],
   "source": [
    "from mmcv import Config\n",
    "from mmdet.datasets import build_dataset\n",
    "from mmdet.models import build_detector\n",
    "from mmdet.apis import train_detector\n",
    "from mmdet.datasets import (build_dataloader, build_dataset,\n",
    "                            replace_ImageToTensor)"
   ]
  },
  {
   "cell_type": "code",
   "execution_count": 3,
   "metadata": {},
   "outputs": [],
   "source": [
    "# !pip install ipywidgets"
   ]
  },
  {
   "cell_type": "code",
   "execution_count": 4,
   "metadata": {},
   "outputs": [],
   "source": [
    "# !pip install -U git+https://github.com/albumentations-team/albumentations"
   ]
  },
  {
   "cell_type": "code",
   "execution_count": 5,
   "metadata": {},
   "outputs": [],
   "source": [
    "# 처음 한번만 받으면 됨\n",
    "# !wget http://download.openmmlab.com/mmdetection/v2.0/detectors/cascade_rcnn_r50_rfp_1x_coco/cascade_rcnn_r50_rfp_1x_coco-8cf51bfd.pth"
   ]
  },
  {
   "cell_type": "code",
   "execution_count": 6,
   "metadata": {
    "pycharm": {
     "name": "#%%\n"
    }
   },
   "outputs": [
    {
     "name": "stdout",
     "output_type": "stream",
     "text": [
      "Config:\n",
      "model = dict(\n",
      "    type='CascadeRCNN',\n",
      "    pretrained='torchvision://resnet50',\n",
      "    backbone=dict(\n",
      "        type='DetectoRS_ResNet',\n",
      "        depth=50,\n",
      "        num_stages=4,\n",
      "        out_indices=(0, 1, 2, 3),\n",
      "        frozen_stages=1,\n",
      "        norm_cfg=dict(type='BN', requires_grad=True),\n",
      "        norm_eval=True,\n",
      "        style='pytorch',\n",
      "        conv_cfg=dict(type='ConvAWS'),\n",
      "        output_img=True),\n",
      "    neck=dict(\n",
      "        type='RFP',\n",
      "        in_channels=[256, 512, 1024, 2048],\n",
      "        out_channels=256,\n",
      "        num_outs=5,\n",
      "        rfp_steps=2,\n",
      "        aspp_out_channels=64,\n",
      "        aspp_dilations=(1, 3, 6, 1),\n",
      "        rfp_backbone=dict(\n",
      "            rfp_inplanes=256,\n",
      "            type='DetectoRS_ResNet',\n",
      "            depth=50,\n",
      "            num_stages=4,\n",
      "            out_indices=(0, 1, 2, 3),\n",
      "            frozen_stages=1,\n",
      "            norm_cfg=dict(type='BN', requires_grad=True),\n",
      "            norm_eval=True,\n",
      "            conv_cfg=dict(type='ConvAWS'),\n",
      "            pretrained='torchvision://resnet50',\n",
      "            style='pytorch')),\n",
      "    rpn_head=dict(\n",
      "        type='RPNHead',\n",
      "        in_channels=256,\n",
      "        feat_channels=256,\n",
      "        anchor_generator=dict(\n",
      "            type='AnchorGenerator',\n",
      "            scales=[8],\n",
      "            ratios=[0.5, 1.0, 2.0],\n",
      "            strides=[4, 8, 16, 32, 64]),\n",
      "        bbox_coder=dict(\n",
      "            type='DeltaXYWHBBoxCoder',\n",
      "            target_means=[0.0, 0.0, 0.0, 0.0],\n",
      "            target_stds=[1.0, 1.0, 1.0, 1.0]),\n",
      "        loss_cls=dict(\n",
      "            type='CrossEntropyLoss', use_sigmoid=True, loss_weight=1.0),\n",
      "        loss_bbox=dict(\n",
      "            type='SmoothL1Loss', beta=0.1111111111111111, loss_weight=1.0)),\n",
      "    roi_head=dict(\n",
      "        type='CascadeRoIHead',\n",
      "        num_stages=3,\n",
      "        stage_loss_weights=[1, 0.5, 0.25],\n",
      "        bbox_roi_extractor=dict(\n",
      "            type='SingleRoIExtractor',\n",
      "            roi_layer=dict(type='RoIAlign', output_size=7, sampling_ratio=0),\n",
      "            out_channels=256,\n",
      "            featmap_strides=[4, 8, 16, 32]),\n",
      "        bbox_head=[\n",
      "            dict(\n",
      "                type='Shared2FCBBoxHead',\n",
      "                in_channels=256,\n",
      "                fc_out_channels=1024,\n",
      "                roi_feat_size=7,\n",
      "                num_classes=11,\n",
      "                bbox_coder=dict(\n",
      "                    type='DeltaXYWHBBoxCoder',\n",
      "                    target_means=[0.0, 0.0, 0.0, 0.0],\n",
      "                    target_stds=[0.1, 0.1, 0.2, 0.2]),\n",
      "                reg_class_agnostic=True,\n",
      "                loss_cls=dict(\n",
      "                    type='CrossEntropyLoss',\n",
      "                    use_sigmoid=False,\n",
      "                    loss_weight=1.0),\n",
      "                loss_bbox=dict(type='SmoothL1Loss', beta=1.0,\n",
      "                               loss_weight=1.0)),\n",
      "            dict(\n",
      "                type='Shared2FCBBoxHead',\n",
      "                in_channels=256,\n",
      "                fc_out_channels=1024,\n",
      "                roi_feat_size=7,\n",
      "                num_classes=11,\n",
      "                bbox_coder=dict(\n",
      "                    type='DeltaXYWHBBoxCoder',\n",
      "                    target_means=[0.0, 0.0, 0.0, 0.0],\n",
      "                    target_stds=[0.05, 0.05, 0.1, 0.1]),\n",
      "                reg_class_agnostic=True,\n",
      "                loss_cls=dict(\n",
      "                    type='CrossEntropyLoss',\n",
      "                    use_sigmoid=False,\n",
      "                    loss_weight=1.0),\n",
      "                loss_bbox=dict(type='SmoothL1Loss', beta=1.0,\n",
      "                               loss_weight=1.0)),\n",
      "            dict(\n",
      "                type='Shared2FCBBoxHead',\n",
      "                in_channels=256,\n",
      "                fc_out_channels=1024,\n",
      "                roi_feat_size=7,\n",
      "                num_classes=11,\n",
      "                bbox_coder=dict(\n",
      "                    type='DeltaXYWHBBoxCoder',\n",
      "                    target_means=[0.0, 0.0, 0.0, 0.0],\n",
      "                    target_stds=[0.033, 0.033, 0.067, 0.067]),\n",
      "                reg_class_agnostic=True,\n",
      "                loss_cls=dict(\n",
      "                    type='CrossEntropyLoss',\n",
      "                    use_sigmoid=False,\n",
      "                    loss_weight=1.0),\n",
      "                loss_bbox=dict(type='SmoothL1Loss', beta=1.0, loss_weight=1.0))\n",
      "        ]),\n",
      "    train_cfg=dict(\n",
      "        rpn=dict(\n",
      "            assigner=dict(\n",
      "                type='MaxIoUAssigner',\n",
      "                pos_iou_thr=0.7,\n",
      "                neg_iou_thr=0.3,\n",
      "                min_pos_iou=0.3,\n",
      "                match_low_quality=True,\n",
      "                ignore_iof_thr=-1),\n",
      "            sampler=dict(\n",
      "                type='RandomSampler',\n",
      "                num=256,\n",
      "                pos_fraction=0.5,\n",
      "                neg_pos_ub=-1,\n",
      "                add_gt_as_proposals=False),\n",
      "            allowed_border=0,\n",
      "            pos_weight=-1,\n",
      "            debug=False),\n",
      "        rpn_proposal=dict(\n",
      "            nms_pre=2000,\n",
      "            max_per_img=2000,\n",
      "            nms=dict(type='nms', iou_threshold=0.7),\n",
      "            min_bbox_size=0),\n",
      "        rcnn=[\n",
      "            dict(\n",
      "                assigner=dict(\n",
      "                    type='MaxIoUAssigner',\n",
      "                    pos_iou_thr=0.5,\n",
      "                    neg_iou_thr=0.5,\n",
      "                    min_pos_iou=0.5,\n",
      "                    match_low_quality=False,\n",
      "                    ignore_iof_thr=-1),\n",
      "                sampler=dict(\n",
      "                    type='RandomSampler',\n",
      "                    num=512,\n",
      "                    pos_fraction=0.25,\n",
      "                    neg_pos_ub=-1,\n",
      "                    add_gt_as_proposals=True),\n",
      "                pos_weight=-1,\n",
      "                debug=False),\n",
      "            dict(\n",
      "                assigner=dict(\n",
      "                    type='MaxIoUAssigner',\n",
      "                    pos_iou_thr=0.6,\n",
      "                    neg_iou_thr=0.6,\n",
      "                    min_pos_iou=0.6,\n",
      "                    match_low_quality=False,\n",
      "                    ignore_iof_thr=-1),\n",
      "                sampler=dict(\n",
      "                    type='RandomSampler',\n",
      "                    num=512,\n",
      "                    pos_fraction=0.25,\n",
      "                    neg_pos_ub=-1,\n",
      "                    add_gt_as_proposals=True),\n",
      "                pos_weight=-1,\n",
      "                debug=False),\n",
      "            dict(\n",
      "                assigner=dict(\n",
      "                    type='MaxIoUAssigner',\n",
      "                    pos_iou_thr=0.7,\n",
      "                    neg_iou_thr=0.7,\n",
      "                    min_pos_iou=0.7,\n",
      "                    match_low_quality=False,\n",
      "                    ignore_iof_thr=-1),\n",
      "                sampler=dict(\n",
      "                    type='RandomSampler',\n",
      "                    num=512,\n",
      "                    pos_fraction=0.25,\n",
      "                    neg_pos_ub=-1,\n",
      "                    add_gt_as_proposals=True),\n",
      "                pos_weight=-1,\n",
      "                debug=False)\n",
      "        ]),\n",
      "    test_cfg=dict(\n",
      "        rpn=dict(\n",
      "            nms_pre=1000,\n",
      "            max_per_img=1000,\n",
      "            nms=dict(type='nms', iou_threshold=0.7),\n",
      "            min_bbox_size=0),\n",
      "        rcnn=dict(\n",
      "            score_thr=0.05,\n",
      "            nms=dict(type='nms', iou_threshold=0.5),\n",
      "            max_per_img=100)))\n",
      "dataset_type = 'CocoDataset'\n",
      "data_root = 'data/coco/'\n",
      "img_norm_cfg = dict(\n",
      "    mean=[123.675, 116.28, 103.53], std=[58.395, 57.12, 57.375], to_rgb=True)\n",
      "train_pipeline = [\n",
      "    dict(type='LoadImageFromFile'),\n",
      "    dict(type='LoadAnnotations', with_bbox=True),\n",
      "    dict(type='Resize', img_scale=(1333, 800), keep_ratio=True),\n",
      "    dict(type='RandomFlip', flip_ratio=0.5),\n",
      "    dict(\n",
      "        type='Normalize',\n",
      "        mean=[123.675, 116.28, 103.53],\n",
      "        std=[58.395, 57.12, 57.375],\n",
      "        to_rgb=True),\n",
      "    dict(type='Pad', size_divisor=32),\n",
      "    dict(type='DefaultFormatBundle'),\n",
      "    dict(type='Collect', keys=['img', 'gt_bboxes', 'gt_labels'])\n",
      "]\n",
      "test_pipeline = [\n",
      "    dict(type='LoadImageFromFile'),\n",
      "    dict(\n",
      "        type='MultiScaleFlipAug',\n",
      "        img_scale=[(1333, 800), (1333, 400)],\n",
      "        flip=False,\n",
      "        transforms=[\n",
      "            dict(type='Resize', keep_ratio=True),\n",
      "            dict(type='RandomFlip'),\n",
      "            dict(\n",
      "                type='Normalize',\n",
      "                mean=[123.675, 116.28, 103.53],\n",
      "                std=[58.395, 57.12, 57.375],\n",
      "                to_rgb=True),\n",
      "            dict(type='Pad', size_divisor=32),\n",
      "            dict(type='ImageToTensor', keys=['img']),\n",
      "            dict(type='Collect', keys=['img'])\n",
      "        ])\n",
      "]\n",
      "data = dict(\n",
      "    samples_per_gpu=8,\n",
      "    workers_per_gpu=4,\n",
      "    train=dict(\n",
      "        type='CocoDataset',\n",
      "        ann_file='../../input/data/train.json',\n",
      "        img_prefix='../../input/data/',\n",
      "        pipeline=[\n",
      "            dict(type='LoadImageFromFile'),\n",
      "            dict(type='LoadAnnotations', with_bbox=True),\n",
      "            dict(type='Resize', img_scale=(1333, 800), keep_ratio=True),\n",
      "            dict(type='RandomFlip', flip_ratio=0.5),\n",
      "            dict(\n",
      "                type='Normalize',\n",
      "                mean=[123.675, 116.28, 103.53],\n",
      "                std=[58.395, 57.12, 57.375],\n",
      "                to_rgb=True),\n",
      "            dict(type='Pad', size_divisor=32),\n",
      "            dict(type='DefaultFormatBundle'),\n",
      "            dict(type='Collect', keys=['img', 'gt_bboxes', 'gt_labels'])\n",
      "        ],\n",
      "        classes=('UNKNOWN', 'General trash', 'Paper', 'Paper pack', 'Metal',\n",
      "                 'Glass', 'Plastic', 'Styrofoam', 'Plastic bag', 'Battery',\n",
      "                 'Clothing')),\n",
      "    val=dict(\n",
      "        type='CocoDataset',\n",
      "        ann_file='../../input/data/val.json',\n",
      "        img_prefix='../../input/data/',\n",
      "        pipeline=[\n",
      "            dict(type='LoadImageFromFile'),\n",
      "            dict(\n",
      "                type='MultiScaleFlipAug',\n",
      "                img_scale=(1333, 800),\n",
      "                flip=False,\n",
      "                transforms=[\n",
      "                    dict(type='Resize', keep_ratio=True),\n",
      "                    dict(type='RandomFlip'),\n",
      "                    dict(\n",
      "                        type='Normalize',\n",
      "                        mean=[123.675, 116.28, 103.53],\n",
      "                        std=[58.395, 57.12, 57.375],\n",
      "                        to_rgb=True),\n",
      "                    dict(type='Pad', size_divisor=32),\n",
      "                    dict(type='ImageToTensor', keys=['img']),\n",
      "                    dict(type='Collect', keys=['img'])\n",
      "                ])\n",
      "        ],\n",
      "        classes=('UNKNOWN', 'General trash', 'Paper', 'Paper pack', 'Metal',\n",
      "                 'Glass', 'Plastic', 'Styrofoam', 'Plastic bag', 'Battery',\n",
      "                 'Clothing')),\n",
      "    test=dict(\n",
      "        type='CocoDataset',\n",
      "        ann_file='../../input/data/test.json',\n",
      "        img_prefix='../../input/data/',\n",
      "        pipeline=[\n",
      "            dict(type='LoadImageFromFile'),\n",
      "            dict(\n",
      "                type='MultiScaleFlipAug',\n",
      "                img_scale=[(1333, 400), (1333, 800)],\n",
      "                flip=True,\n",
      "                transforms=[\n",
      "                    dict(type='Resize', keep_ratio=True),\n",
      "                    dict(type='RandomFlip'),\n",
      "                    dict(\n",
      "                        type='Normalize',\n",
      "                        mean=[123.675, 116.28, 103.53],\n",
      "                        std=[58.395, 57.12, 57.375],\n",
      "                        to_rgb=True),\n",
      "                    dict(type='Pad', size_divisor=32),\n",
      "                    dict(type='ImageToTensor', keys=['img']),\n",
      "                    dict(type='Collect', keys=['img'])\n",
      "                ])\n",
      "        ],\n",
      "        classes=('UNKNOWN', 'General trash', 'Paper', 'Paper pack', 'Metal',\n",
      "                 'Glass', 'Plastic', 'Styrofoam', 'Plastic bag', 'Battery',\n",
      "                 'Clothing')))\n",
      "evaluation = dict(interval=1, metric='bbox')\n",
      "optimizer = dict(type='SGD', lr=0.02, momentum=0.9, weight_decay=0.0001)\n",
      "optimizer_config = dict(grad_clip=dict(max_norm=35, norm_type=2))\n",
      "lr_config = dict(\n",
      "    policy='step',\n",
      "    warmup='linear',\n",
      "    warmup_iters=500,\n",
      "    warmup_ratio=0.001,\n",
      "    step=[20, 30, 40])\n",
      "runner = dict(type='EpochBasedRunner', max_epochs=13)\n",
      "checkpoint_config = dict(interval=1)\n",
      "log_config = dict(\n",
      "    interval=40,\n",
      "    hooks=[dict(type='TensorboardLoggerHook'),\n",
      "           dict(type='TextLoggerHook')])\n",
      "custom_hooks = [dict(type='NumClassCheckHook')]\n",
      "dist_params = dict(backend='nccl')\n",
      "log_level = 'INFO'\n",
      "load_from = 'cascade_rcnn_r50_rfp_1x_coco-8cf51bfd.pth'\n",
      "resume_from = None\n",
      "workflow = [('train', 1)]\n",
      "seed = 2020\n",
      "gpu_ids = [0]\n",
      "work_dir = './work_dirs/cascade_rcnn_r50_rfp_1x_coco'\n",
      "\n"
     ]
    }
   ],
   "source": [
    "classes = (\"UNKNOWN\", \"General trash\", \"Paper\", \"Paper pack\", \"Metal\", \"Glass\", \n",
    "           \"Plastic\", \"Styrofoam\", \"Plastic bag\", \"Battery\", \"Clothing\")\n",
    "# config file 들고오기\n",
    "cfg = Config.fromfile('./configs/detectors/cascade_rcnn_r50_rfp_1x_coco.py')\n",
    "PREFIX = '../../input/data/'\n",
    "\n",
    "# dataset 바꾸기\n",
    "cfg.data.train.classes = classes\n",
    "cfg.data.train.img_prefix = PREFIX\n",
    "cfg.data.train.ann_file = PREFIX + 'train.json'\n",
    "cfg.data.train.pipeline[2]['img_scale'] = (1333, 800)\n",
    "\n",
    "cfg.data.val.classes = classes\n",
    "cfg.data.val.img_prefix = PREFIX\n",
    "cfg.data.val.ann_file = PREFIX + 'val.json'\n",
    "cfg.data.val.pipeline[1]['img_scale'] = (1333, 800)\n",
    "\n",
    "cfg.data.test.classes = classes\n",
    "cfg.data.test.img_prefix = PREFIX\n",
    "cfg.data.test.ann_file = PREFIX + 'test.json'\n",
    "cfg.data.test.pipeline[1]['img_scale'] = [(1000,600), (1333,800), (1666, 1000)]\n",
    "\n",
    "cfg.data.samples_per_gpu = 8\n",
    "cfg.data.workers_per_gpu = 4\n",
    "\n",
    "cfg.seed=2020\n",
    "cfg.gpu_ids = [0]\n",
    "\n",
    "cfg.work_dir = './work_dirs/cascade_rcnn_r50_rfp_1x_coco'\n",
    "cfg.load_from = 'cascade_rcnn_r50_rfp_1x_coco-8cf51bfd.pth'\n",
    "\n",
    "# cfg.model.roi_head.bbox_head.num_classes = 11 # num_classes config에서 수정\n",
    "cfg.optimizer_config.grad_clip = dict(max_norm=35, norm_type=2)\n",
    "cfg.runner.max_epochs = 13\n",
    "\n",
    "cfg.lr_config = dict(\n",
    "    policy='step',\n",
    "    warmup='linear',\n",
    "    warmup_iters=500,\n",
    "    warmup_ratio=0.001,\n",
    "    step=[20, 30, 40])\n",
    "cfg.log_config = dict(  # config to register logger hook\n",
    "    interval=40,  # Interval to print the log\n",
    "    hooks=[\n",
    "        dict(type='TensorboardLoggerHook'),  # The Tensorboard logger is also supported\n",
    "        dict(type='TextLoggerHook')\n",
    "])\n",
    "\n",
    "\n",
    "##### TTA\n",
    "img_norm_cfg = dict(\n",
    "    mean=[123.675, 116.28, 103.53], std=[58.395, 57.12, 57.375], to_rgb=True)\n",
    "\n",
    "test_pipeline = [\n",
    "    dict(type='LoadImageFromFile'),\n",
    "    dict(\n",
    "        type='MultiScaleFlipAug',\n",
    "        img_scale=[(1333, 400), (1333, 800)],\n",
    "        flip=True,\n",
    "        transforms=[\n",
    "            dict(type='Resize', keep_ratio=True),\n",
    "            dict(type='RandomFlip'),\n",
    "            dict(type='Normalize', **img_norm_cfg),\n",
    "            dict(type='Pad', size_divisor=32),\n",
    "            dict(type='ImageToTensor', keys=['img']),\n",
    "            dict(type='Collect', keys=['img']),\n",
    "        ])\n",
    "]\n",
    "cfg.data.test.pipeline = test_pipeline\n",
    "\n",
    "\n",
    "print(f'Config:\\n{cfg.pretty_text}')"
   ]
  },
  {
   "cell_type": "code",
   "execution_count": 7,
   "metadata": {
    "pycharm": {
     "name": "#%%\n"
    }
   },
   "outputs": [
    {
     "name": "stderr",
     "output_type": "stream",
     "text": [
      "2021-05-13 08:17:34,153 - mmdet - INFO - load model from: torchvision://resnet50\n",
      "2021-05-13 08:17:34,154 - mmdet - INFO - Use load_from_torchvision loader\n",
      "2021-05-13 08:17:34,455 - mmdet - WARNING - The model and loaded state dict do not match exactly\n",
      "\n",
      "unexpected key in source state_dict: fc.weight, fc.bias\n",
      "\n",
      "2021-05-13 08:17:34,484 - mmdet - INFO - Use load_from_torchvision loader\n",
      "2021-05-13 08:17:34,764 - mmdet - WARNING - The model and loaded state dict do not match exactly\n",
      "\n",
      "unexpected key in source state_dict: fc.weight, fc.bias\n",
      "\n",
      "missing keys in source state_dict: layer2.0.rfp_conv.weight, layer2.0.rfp_conv.bias, layer3.0.rfp_conv.weight, layer3.0.rfp_conv.bias, layer4.0.rfp_conv.weight, layer4.0.rfp_conv.bias\n",
      "\n"
     ]
    }
   ],
   "source": [
    "model = build_detector(cfg.model)"
   ]
  },
  {
   "cell_type": "code",
   "execution_count": 8,
   "metadata": {
    "pycharm": {
     "name": "#%%\n"
    }
   },
   "outputs": [
    {
     "name": "stdout",
     "output_type": "stream",
     "text": [
      "loading annotations into memory...\n",
      "Done (t=3.84s)\n",
      "creating index...\n",
      "index created!\n"
     ]
    }
   ],
   "source": [
    "datasets = [build_dataset(cfg.data.train)]"
   ]
  },
  {
   "cell_type": "code",
   "execution_count": 9,
   "metadata": {
    "pycharm": {
     "name": "#%%\n"
    }
   },
   "outputs": [
    {
     "name": "stdout",
     "output_type": "stream",
     "text": [
      "loading annotations into memory...\n"
     ]
    },
    {
     "name": "stderr",
     "output_type": "stream",
     "text": [
      "2021-05-13 08:17:43,034 - mmdet - INFO - load checkpoint from cascade_rcnn_r50_rfp_1x_coco-8cf51bfd.pth\n",
      "2021-05-13 08:17:43,035 - mmdet - INFO - Use load_from_local loader\n"
     ]
    },
    {
     "name": "stdout",
     "output_type": "stream",
     "text": [
      "Done (t=0.91s)\n",
      "creating index...\n",
      "index created!\n"
     ]
    },
    {
     "name": "stderr",
     "output_type": "stream",
     "text": [
      "2021-05-13 08:17:43,380 - mmdet - WARNING - The model and loaded state dict do not match exactly\n",
      "\n",
      "size mismatch for roi_head.bbox_head.0.fc_cls.weight: copying a param with shape torch.Size([81, 1024]) from checkpoint, the shape in current model is torch.Size([12, 1024]).\n",
      "size mismatch for roi_head.bbox_head.0.fc_cls.bias: copying a param with shape torch.Size([81]) from checkpoint, the shape in current model is torch.Size([12]).\n",
      "size mismatch for roi_head.bbox_head.1.fc_cls.weight: copying a param with shape torch.Size([81, 1024]) from checkpoint, the shape in current model is torch.Size([12, 1024]).\n",
      "size mismatch for roi_head.bbox_head.1.fc_cls.bias: copying a param with shape torch.Size([81]) from checkpoint, the shape in current model is torch.Size([12]).\n",
      "size mismatch for roi_head.bbox_head.2.fc_cls.weight: copying a param with shape torch.Size([81, 1024]) from checkpoint, the shape in current model is torch.Size([12, 1024]).\n",
      "size mismatch for roi_head.bbox_head.2.fc_cls.bias: copying a param with shape torch.Size([81]) from checkpoint, the shape in current model is torch.Size([12]).\n",
      "2021-05-13 08:17:43,383 - mmdet - INFO - Start running, host: root@6745ed26df0a, work_dir: /opt/ml/code/mmdetection_trash/work_dirs/cascade_rcnn_r50_rfp_1x_coco\n",
      "2021-05-13 08:17:43,384 - mmdet - INFO - workflow: [('train', 1)], max: 13 epochs\n",
      "/opt/ml/code/mmdetection_trash/mmdet/core/evaluation/eval_hooks.py:111: UserWarning: runner.meta is None. Creating a empty one.\n",
      "  warnings.warn('runner.meta is None. Creating a empty one.')\n",
      "2021-05-13 08:19:20,853 - mmdet - INFO - Epoch [1][40/328]\tlr: 1.578e-03, eta: 2:50:32, time: 2.422, data_time: 0.082, memory: 15385, loss_rpn_cls: 0.1222, loss_rpn_bbox: 0.0325, s0.loss_cls: 1.0264, s0.acc: 74.5697, s0.loss_bbox: 0.1332, s1.loss_cls: 0.5584, s1.acc: 73.9276, s1.loss_bbox: 0.1168, s2.loss_cls: 0.2830, s2.acc: 79.9537, s2.loss_bbox: 0.0614, loss: 2.3339, grad_norm: 8.4675\n",
      "2021-05-13 08:20:53,979 - mmdet - INFO - Epoch [1][80/328]\tlr: 3.177e-03, eta: 2:45:38, time: 2.328, data_time: 0.017, memory: 15385, loss_rpn_cls: 0.0544, loss_rpn_bbox: 0.0272, s0.loss_cls: 0.4473, s0.acc: 88.0737, s0.loss_bbox: 0.1254, s1.loss_cls: 0.2424, s1.acc: 86.9573, s1.loss_bbox: 0.1123, s2.loss_cls: 0.1301, s2.acc: 85.5262, s2.loss_bbox: 0.0589, loss: 1.1980, grad_norm: 3.7734\n",
      "2021-05-13 08:22:27,350 - mmdet - INFO - Epoch [1][120/328]\tlr: 4.775e-03, eta: 2:43:06, time: 2.334, data_time: 0.018, memory: 15385, loss_rpn_cls: 0.0506, loss_rpn_bbox: 0.0293, s0.loss_cls: 0.3537, s0.acc: 89.9860, s0.loss_bbox: 0.1230, s1.loss_cls: 0.1835, s1.acc: 89.5767, s1.loss_bbox: 0.1085, s2.loss_cls: 0.0958, s2.acc: 89.2422, s2.loss_bbox: 0.0575, loss: 1.0018, grad_norm: 3.5154\n",
      "2021-05-13 08:24:00,580 - mmdet - INFO - Epoch [1][160/328]\tlr: 6.374e-03, eta: 2:41:00, time: 2.331, data_time: 0.017, memory: 15385, loss_rpn_cls: 0.0623, loss_rpn_bbox: 0.0289, s0.loss_cls: 0.3611, s0.acc: 89.5428, s0.loss_bbox: 0.1277, s1.loss_cls: 0.1856, s1.acc: 89.3737, s1.loss_bbox: 0.1104, s2.loss_cls: 0.0952, s2.acc: 89.3753, s2.loss_bbox: 0.0572, loss: 1.0284, grad_norm: 3.6542\n",
      "2021-05-13 08:25:33,840 - mmdet - INFO - Epoch [1][200/328]\tlr: 7.972e-03, eta: 2:39:08, time: 2.332, data_time: 0.018, memory: 15385, loss_rpn_cls: 0.0403, loss_rpn_bbox: 0.0239, s0.loss_cls: 0.3339, s0.acc: 90.4492, s0.loss_bbox: 0.1158, s1.loss_cls: 0.1717, s1.acc: 90.0660, s1.loss_bbox: 0.1002, s2.loss_cls: 0.0873, s2.acc: 90.0491, s2.loss_bbox: 0.0550, loss: 0.9281, grad_norm: 3.5168\n",
      "2021-05-13 08:27:07,661 - mmdet - INFO - Epoch [1][240/328]\tlr: 9.570e-03, eta: 2:37:31, time: 2.346, data_time: 0.018, memory: 15385, loss_rpn_cls: 0.0502, loss_rpn_bbox: 0.0251, s0.loss_cls: 0.3182, s0.acc: 90.7745, s0.loss_bbox: 0.1191, s1.loss_cls: 0.1600, s1.acc: 90.6303, s1.loss_bbox: 0.1023, s2.loss_cls: 0.0801, s2.acc: 90.5624, s2.loss_bbox: 0.0547, loss: 0.9097, grad_norm: 3.2874\n",
      "2021-05-13 08:28:41,560 - mmdet - INFO - Epoch [1][280/328]\tlr: 1.117e-02, eta: 2:35:56, time: 2.347, data_time: 0.017, memory: 15385, loss_rpn_cls: 0.0472, loss_rpn_bbox: 0.0242, s0.loss_cls: 0.3197, s0.acc: 90.6989, s0.loss_bbox: 0.1166, s1.loss_cls: 0.1597, s1.acc: 90.6831, s1.loss_bbox: 0.1004, s2.loss_cls: 0.0786, s2.acc: 90.7222, s2.loss_bbox: 0.0532, loss: 0.8996, grad_norm: 3.3148\n",
      "2021-05-13 08:30:15,356 - mmdet - INFO - Epoch [1][320/328]\tlr: 1.277e-02, eta: 2:34:20, time: 2.345, data_time: 0.018, memory: 15385, loss_rpn_cls: 0.0488, loss_rpn_bbox: 0.0238, s0.loss_cls: 0.3354, s0.acc: 90.1410, s0.loss_bbox: 0.1237, s1.loss_cls: 0.1671, s1.acc: 90.3457, s1.loss_bbox: 0.1063, s2.loss_cls: 0.0831, s2.acc: 90.1502, s2.loss_bbox: 0.0565, loss: 0.9447, grad_norm: 3.3211\n",
      "2021-05-13 08:30:34,063 - mmdet - INFO - Saving checkpoint at 1 epochs\n"
     ]
    },
    {
     "name": "stdout",
     "output_type": "stream",
     "text": [
      "[>>>>>>>>>>>>>>>>>>>>>>>>>>>>>>] 655/655, 6.8 task/s, elapsed: 97s, ETA:     0s"
     ]
    },
    {
     "name": "stderr",
     "output_type": "stream",
     "text": [
      "2021-05-13 08:32:17,905 - mmdet - INFO - Evaluating bbox...\n"
     ]
    },
    {
     "name": "stdout",
     "output_type": "stream",
     "text": [
      "Loading and preparing results...\n",
      "DONE (t=0.67s)\n",
      "creating index...\n",
      "index created!\n",
      "Running per image evaluation...\n",
      "Evaluate annotation type *bbox*\n",
      "DONE (t=7.45s).\n",
      "Accumulating evaluation results...\n"
     ]
    },
    {
     "name": "stderr",
     "output_type": "stream",
     "text": [
      "2021-05-13 08:32:27,579 - mmdet - INFO - Now best checkpoint is epoch_1.pth.Best bbox_mAP is 0.1590\n"
     ]
    },
    {
     "name": "stdout",
     "output_type": "stream",
     "text": [
      "DONE (t=1.45s).\n",
      "Average Precision  (AP) @[ IoU=0.50:0.95 | area=   all | maxDets=100 ] = 0.159\n",
      "Average Precision  (AP) @[ IoU=0.50      | area=   all | maxDets=1000 ] = 0.229\n",
      "Average Precision  (AP) @[ IoU=0.75      | area=   all | maxDets=1000 ] = 0.164\n",
      "Average Precision  (AP) @[ IoU=0.50:0.95 | area= small | maxDets=1000 ] = 0.055\n",
      "Average Precision  (AP) @[ IoU=0.50:0.95 | area=medium | maxDets=1000 ] = 0.164\n",
      "Average Precision  (AP) @[ IoU=0.50:0.95 | area= large | maxDets=1000 ] = 0.272\n",
      "Average Recall     (AR) @[ IoU=0.50:0.95 | area=   all | maxDets=100 ] = 0.314\n",
      "Average Recall     (AR) @[ IoU=0.50:0.95 | area=   all | maxDets=300 ] = 0.314\n",
      "Average Recall     (AR) @[ IoU=0.50:0.95 | area=   all | maxDets=1000 ] = 0.314\n",
      "Average Recall     (AR) @[ IoU=0.50:0.95 | area= small | maxDets=1000 ] = 0.143\n",
      "Average Recall     (AR) @[ IoU=0.50:0.95 | area=medium | maxDets=1000 ] = 0.325\n",
      "Average Recall     (AR) @[ IoU=0.50:0.95 | area= large | maxDets=1000 ] = 0.498\n",
      "Now best checkpoint is epoch_1.pth.Best bbox_mAP is 0.1590\n"
     ]
    },
    {
     "name": "stderr",
     "output_type": "stream",
     "text": [
      "2021-05-13 08:34:04,075 - mmdet - INFO - Epoch [2][40/328]\tlr: 1.469e-02, eta: 2:29:36, time: 2.412, data_time: 0.083, memory: 15385, loss_rpn_cls: 0.0418, loss_rpn_bbox: 0.0267, s0.loss_cls: 0.3176, s0.acc: 90.6970, s0.loss_bbox: 0.1171, s1.loss_cls: 0.1625, s1.acc: 90.4202, s1.loss_bbox: 0.1043, s2.loss_cls: 0.0811, s2.acc: 90.3039, s2.loss_bbox: 0.0581, loss: 0.9092, grad_norm: 3.0541\n",
      "2021-05-13 08:35:37,587 - mmdet - INFO - Epoch [2][80/328]\tlr: 1.628e-02, eta: 2:28:16, time: 2.338, data_time: 0.018, memory: 15385, loss_rpn_cls: 0.0403, loss_rpn_bbox: 0.0255, s0.loss_cls: 0.3090, s0.acc: 90.7233, s0.loss_bbox: 0.1164, s1.loss_cls: 0.1543, s1.acc: 90.7094, s1.loss_bbox: 0.1059, s2.loss_cls: 0.0781, s2.acc: 90.5104, s2.loss_bbox: 0.0584, loss: 0.8878, grad_norm: 3.2591\n",
      "2021-05-13 08:37:11,588 - mmdet - INFO - Epoch [2][120/328]\tlr: 1.788e-02, eta: 2:26:59, time: 2.350, data_time: 0.018, memory: 15385, loss_rpn_cls: 0.0363, loss_rpn_bbox: 0.0250, s0.loss_cls: 0.3098, s0.acc: 90.7062, s0.loss_bbox: 0.1173, s1.loss_cls: 0.1567, s1.acc: 90.5078, s1.loss_bbox: 0.1071, s2.loss_cls: 0.0778, s2.acc: 90.3988, s2.loss_bbox: 0.0604, loss: 0.8903, grad_norm: 3.1963\n",
      "2021-05-13 08:38:45,641 - mmdet - INFO - Epoch [2][160/328]\tlr: 1.948e-02, eta: 2:25:39, time: 2.351, data_time: 0.018, memory: 15385, loss_rpn_cls: 0.0447, loss_rpn_bbox: 0.0256, s0.loss_cls: 0.3101, s0.acc: 90.7288, s0.loss_bbox: 0.1192, s1.loss_cls: 0.1564, s1.acc: 90.5068, s1.loss_bbox: 0.1100, s2.loss_cls: 0.0767, s2.acc: 90.7698, s2.loss_bbox: 0.0592, loss: 0.9018, grad_norm: 3.0916\n",
      "2021-05-13 08:40:20,098 - mmdet - INFO - Epoch [2][200/328]\tlr: 2.000e-02, eta: 2:24:19, time: 2.361, data_time: 0.018, memory: 15385, loss_rpn_cls: 0.0500, loss_rpn_bbox: 0.0293, s0.loss_cls: 0.3117, s0.acc: 90.4846, s0.loss_bbox: 0.1218, s1.loss_cls: 0.1569, s1.acc: 90.3249, s1.loss_bbox: 0.1073, s2.loss_cls: 0.0779, s2.acc: 90.3617, s2.loss_bbox: 0.0570, loss: 0.9118, grad_norm: 3.0709\n",
      "2021-05-13 08:41:55,382 - mmdet - INFO - Epoch [2][240/328]\tlr: 2.000e-02, eta: 2:23:03, time: 2.382, data_time: 0.018, memory: 15385, loss_rpn_cls: 0.0520, loss_rpn_bbox: 0.0312, s0.loss_cls: 0.3519, s0.acc: 89.6063, s0.loss_bbox: 0.1379, s1.loss_cls: 0.1721, s1.acc: 89.6198, s1.loss_bbox: 0.1190, s2.loss_cls: 0.0832, s2.acc: 89.8610, s2.loss_bbox: 0.0642, loss: 1.0115, grad_norm: 3.0642\n",
      "2021-05-13 08:43:29,083 - mmdet - INFO - Epoch [2][280/328]\tlr: 2.000e-02, eta: 2:21:35, time: 2.343, data_time: 0.018, memory: 15385, loss_rpn_cls: 0.0447, loss_rpn_bbox: 0.0283, s0.loss_cls: 0.3127, s0.acc: 90.6195, s0.loss_bbox: 0.1188, s1.loss_cls: 0.1556, s1.acc: 90.5757, s1.loss_bbox: 0.1049, s2.loss_cls: 0.0766, s2.acc: 90.7496, s2.loss_bbox: 0.0591, loss: 0.9007, grad_norm: 3.0242\n",
      "2021-05-13 08:45:02,941 - mmdet - INFO - Epoch [2][320/328]\tlr: 2.000e-02, eta: 2:20:07, time: 2.346, data_time: 0.017, memory: 15385, loss_rpn_cls: 0.0489, loss_rpn_bbox: 0.0283, s0.loss_cls: 0.3253, s0.acc: 90.2753, s0.loss_bbox: 0.1242, s1.loss_cls: 0.1604, s1.acc: 90.3367, s1.loss_bbox: 0.1112, s2.loss_cls: 0.0775, s2.acc: 90.5457, s2.loss_bbox: 0.0603, loss: 0.9359, grad_norm: 3.0923\n",
      "2021-05-13 08:45:21,734 - mmdet - INFO - Saving checkpoint at 2 epochs\n"
     ]
    },
    {
     "name": "stdout",
     "output_type": "stream",
     "text": [
      "[>>>>>>>>>>>>>>>>>>>>>>>>>>>>>>] 655/655, 6.7 task/s, elapsed: 97s, ETA:     0s"
     ]
    },
    {
     "name": "stderr",
     "output_type": "stream",
     "text": [
      "2021-05-13 08:47:01,423 - mmdet - INFO - Evaluating bbox...\n"
     ]
    },
    {
     "name": "stdout",
     "output_type": "stream",
     "text": [
      "Loading and preparing results...\n",
      "DONE (t=0.10s)\n",
      "creating index...\n",
      "index created!\n",
      "Running per image evaluation...\n",
      "Evaluate annotation type *bbox*\n",
      "DONE (t=5.78s).\n",
      "Accumulating evaluation results...\n"
     ]
    },
    {
     "name": "stderr",
     "output_type": "stream",
     "text": [
      "2021-05-13 08:47:08,216 - mmdet - INFO - Now best checkpoint is epoch_2.pth.Best bbox_mAP is 0.1700\n"
     ]
    },
    {
     "name": "stdout",
     "output_type": "stream",
     "text": [
      "DONE (t=0.85s).\n",
      "Average Precision  (AP) @[ IoU=0.50:0.95 | area=   all | maxDets=100 ] = 0.170\n",
      "Average Precision  (AP) @[ IoU=0.50      | area=   all | maxDets=1000 ] = 0.247\n",
      "Average Precision  (AP) @[ IoU=0.75      | area=   all | maxDets=1000 ] = 0.175\n",
      "Average Precision  (AP) @[ IoU=0.50:0.95 | area= small | maxDets=1000 ] = 0.053\n",
      "Average Precision  (AP) @[ IoU=0.50:0.95 | area=medium | maxDets=1000 ] = 0.168\n",
      "Average Precision  (AP) @[ IoU=0.50:0.95 | area= large | maxDets=1000 ] = 0.309\n",
      "Average Recall     (AR) @[ IoU=0.50:0.95 | area=   all | maxDets=100 ] = 0.314\n",
      "Average Recall     (AR) @[ IoU=0.50:0.95 | area=   all | maxDets=300 ] = 0.314\n",
      "Average Recall     (AR) @[ IoU=0.50:0.95 | area=   all | maxDets=1000 ] = 0.314\n",
      "Average Recall     (AR) @[ IoU=0.50:0.95 | area= small | maxDets=1000 ] = 0.134\n",
      "Average Recall     (AR) @[ IoU=0.50:0.95 | area=medium | maxDets=1000 ] = 0.305\n",
      "Average Recall     (AR) @[ IoU=0.50:0.95 | area= large | maxDets=1000 ] = 0.527\n",
      "Now best checkpoint is epoch_2.pth.Best bbox_mAP is 0.1700\n"
     ]
    },
    {
     "name": "stderr",
     "output_type": "stream",
     "text": [
      "2021-05-13 08:48:44,436 - mmdet - INFO - Epoch [3][40/328]\tlr: 2.000e-02, eta: 2:16:57, time: 2.405, data_time: 0.086, memory: 15385, loss_rpn_cls: 0.0478, loss_rpn_bbox: 0.0283, s0.loss_cls: 0.3154, s0.acc: 90.3827, s0.loss_bbox: 0.1200, s1.loss_cls: 0.1551, s1.acc: 90.4724, s1.loss_bbox: 0.1075, s2.loss_cls: 0.0764, s2.acc: 90.4347, s2.loss_bbox: 0.0600, loss: 0.9105, grad_norm: 3.0108\n",
      "2021-05-13 08:50:18,146 - mmdet - INFO - Epoch [3][80/328]\tlr: 2.000e-02, eta: 2:15:32, time: 2.343, data_time: 0.017, memory: 15385, loss_rpn_cls: 0.0368, loss_rpn_bbox: 0.0280, s0.loss_cls: 0.2980, s0.acc: 90.9204, s0.loss_bbox: 0.1173, s1.loss_cls: 0.1486, s1.acc: 90.9442, s1.loss_bbox: 0.1056, s2.loss_cls: 0.0734, s2.acc: 90.9167, s2.loss_bbox: 0.0594, loss: 0.8670, grad_norm: 2.9283\n",
      "2021-05-13 08:51:51,825 - mmdet - INFO - Epoch [3][120/328]\tlr: 2.000e-02, eta: 2:14:07, time: 2.342, data_time: 0.018, memory: 15385, loss_rpn_cls: 0.0302, loss_rpn_bbox: 0.0223, s0.loss_cls: 0.2738, s0.acc: 91.5631, s0.loss_bbox: 0.1064, s1.loss_cls: 0.1386, s1.acc: 91.4875, s1.loss_bbox: 0.0977, s2.loss_cls: 0.0696, s2.acc: 91.4506, s2.loss_bbox: 0.0559, loss: 0.7944, grad_norm: 2.8335\n",
      "2021-05-13 08:53:25,339 - mmdet - INFO - Epoch [3][160/328]\tlr: 2.000e-02, eta: 2:12:40, time: 2.338, data_time: 0.018, memory: 15385, loss_rpn_cls: 0.0370, loss_rpn_bbox: 0.0268, s0.loss_cls: 0.3044, s0.acc: 90.7855, s0.loss_bbox: 0.1218, s1.loss_cls: 0.1503, s1.acc: 90.8370, s1.loss_bbox: 0.1078, s2.loss_cls: 0.0748, s2.acc: 90.7553, s2.loss_bbox: 0.0606, loss: 0.8835, grad_norm: 2.9385\n",
      "2021-05-13 08:54:58,813 - mmdet - INFO - Epoch [3][200/328]\tlr: 2.000e-02, eta: 2:11:12, time: 2.337, data_time: 0.018, memory: 15385, loss_rpn_cls: 0.0312, loss_rpn_bbox: 0.0245, s0.loss_cls: 0.2706, s0.acc: 91.9019, s0.loss_bbox: 0.0997, s1.loss_cls: 0.1385, s1.acc: 91.7416, s1.loss_bbox: 0.0913, s2.loss_cls: 0.0686, s2.acc: 91.7909, s2.loss_bbox: 0.0498, loss: 0.7743, grad_norm: 2.8156\n",
      "2021-05-13 08:56:33,159 - mmdet - INFO - Epoch [3][240/328]\tlr: 2.000e-02, eta: 2:09:47, time: 2.359, data_time: 0.018, memory: 15385, loss_rpn_cls: 0.0420, loss_rpn_bbox: 0.0288, s0.loss_cls: 0.3112, s0.acc: 90.4437, s0.loss_bbox: 0.1305, s1.loss_cls: 0.1527, s1.acc: 90.5831, s1.loss_bbox: 0.1149, s2.loss_cls: 0.0745, s2.acc: 90.8418, s2.loss_bbox: 0.0634, loss: 0.9180, grad_norm: 2.9189\n",
      "2021-05-13 08:58:07,430 - mmdet - INFO - Epoch [3][280/328]\tlr: 2.000e-02, eta: 2:08:21, time: 2.357, data_time: 0.018, memory: 15385, loss_rpn_cls: 0.0363, loss_rpn_bbox: 0.0228, s0.loss_cls: 0.2863, s0.acc: 91.4777, s0.loss_bbox: 0.1080, s1.loss_cls: 0.1415, s1.acc: 91.4312, s1.loss_bbox: 0.0992, s2.loss_cls: 0.0700, s2.acc: 91.4243, s2.loss_bbox: 0.0582, loss: 0.8222, grad_norm: 2.9349\n",
      "2021-05-13 08:59:41,692 - mmdet - INFO - Epoch [3][320/328]\tlr: 2.000e-02, eta: 2:06:54, time: 2.357, data_time: 0.018, memory: 15385, loss_rpn_cls: 0.0380, loss_rpn_bbox: 0.0258, s0.loss_cls: 0.2940, s0.acc: 91.0565, s0.loss_bbox: 0.1140, s1.loss_cls: 0.1448, s1.acc: 91.1996, s1.loss_bbox: 0.1055, s2.loss_cls: 0.0707, s2.acc: 91.3552, s2.loss_bbox: 0.0596, loss: 0.8524, grad_norm: 2.8435\n",
      "2021-05-13 09:00:00,629 - mmdet - INFO - Saving checkpoint at 3 epochs\n"
     ]
    },
    {
     "name": "stdout",
     "output_type": "stream",
     "text": [
      "[>>>>>>>>>>>>>>>>>>>>>>>>>>>>>>] 655/655, 6.6 task/s, elapsed: 99s, ETA:     0s"
     ]
    },
    {
     "name": "stderr",
     "output_type": "stream",
     "text": [
      "2021-05-13 09:01:42,044 - mmdet - INFO - Evaluating bbox...\n"
     ]
    },
    {
     "name": "stdout",
     "output_type": "stream",
     "text": [
      "Loading and preparing results...\n",
      "DONE (t=0.54s)\n",
      "creating index...\n",
      "index created!\n",
      "Running per image evaluation...\n",
      "Evaluate annotation type *bbox*\n",
      "DONE (t=5.89s).\n",
      "Accumulating evaluation results...\n"
     ]
    },
    {
     "name": "stderr",
     "output_type": "stream",
     "text": [
      "2021-05-13 09:01:49,442 - mmdet - INFO - Now best checkpoint is epoch_3.pth.Best bbox_mAP is 0.2000\n"
     ]
    },
    {
     "name": "stdout",
     "output_type": "stream",
     "text": [
      "DONE (t=0.90s).\n",
      "Average Precision  (AP) @[ IoU=0.50:0.95 | area=   all | maxDets=100 ] = 0.200\n",
      "Average Precision  (AP) @[ IoU=0.50      | area=   all | maxDets=1000 ] = 0.301\n",
      "Average Precision  (AP) @[ IoU=0.75      | area=   all | maxDets=1000 ] = 0.203\n",
      "Average Precision  (AP) @[ IoU=0.50:0.95 | area= small | maxDets=1000 ] = 0.059\n",
      "Average Precision  (AP) @[ IoU=0.50:0.95 | area=medium | maxDets=1000 ] = 0.195\n",
      "Average Precision  (AP) @[ IoU=0.50:0.95 | area= large | maxDets=1000 ] = 0.344\n",
      "Average Recall     (AR) @[ IoU=0.50:0.95 | area=   all | maxDets=100 ] = 0.379\n",
      "Average Recall     (AR) @[ IoU=0.50:0.95 | area=   all | maxDets=300 ] = 0.379\n",
      "Average Recall     (AR) @[ IoU=0.50:0.95 | area=   all | maxDets=1000 ] = 0.379\n",
      "Average Recall     (AR) @[ IoU=0.50:0.95 | area= small | maxDets=1000 ] = 0.161\n",
      "Average Recall     (AR) @[ IoU=0.50:0.95 | area=medium | maxDets=1000 ] = 0.362\n",
      "Average Recall     (AR) @[ IoU=0.50:0.95 | area= large | maxDets=1000 ] = 0.586\n",
      "Now best checkpoint is epoch_3.pth.Best bbox_mAP is 0.2000\n"
     ]
    },
    {
     "name": "stderr",
     "output_type": "stream",
     "text": [
      "2021-05-13 09:03:26,623 - mmdet - INFO - Epoch [4][40/328]\tlr: 2.000e-02, eta: 2:04:18, time: 2.429, data_time: 0.086, memory: 15385, loss_rpn_cls: 0.0326, loss_rpn_bbox: 0.0240, s0.loss_cls: 0.2709, s0.acc: 91.5570, s0.loss_bbox: 0.1056, s1.loss_cls: 0.1360, s1.acc: 91.3520, s1.loss_bbox: 0.0939, s2.loss_cls: 0.0671, s2.acc: 91.5691, s2.loss_bbox: 0.0536, loss: 0.7836, grad_norm: 2.6493\n",
      "2021-05-13 09:05:00,217 - mmdet - INFO - Epoch [4][80/328]\tlr: 2.000e-02, eta: 2:02:51, time: 2.340, data_time: 0.018, memory: 15385, loss_rpn_cls: 0.0326, loss_rpn_bbox: 0.0268, s0.loss_cls: 0.2655, s0.acc: 91.7633, s0.loss_bbox: 0.1058, s1.loss_cls: 0.1284, s1.acc: 92.0648, s1.loss_bbox: 0.0972, s2.loss_cls: 0.0631, s2.acc: 92.1753, s2.loss_bbox: 0.0577, loss: 0.7772, grad_norm: 2.8805\n",
      "2021-05-13 09:06:34,311 - mmdet - INFO - Epoch [4][120/328]\tlr: 2.000e-02, eta: 2:01:24, time: 2.352, data_time: 0.018, memory: 15385, loss_rpn_cls: 0.0282, loss_rpn_bbox: 0.0247, s0.loss_cls: 0.2778, s0.acc: 91.2305, s0.loss_bbox: 0.1115, s1.loss_cls: 0.1364, s1.acc: 91.4428, s1.loss_bbox: 0.1020, s2.loss_cls: 0.0675, s2.acc: 91.5235, s2.loss_bbox: 0.0603, loss: 0.8084, grad_norm: 2.9413\n",
      "2021-05-13 09:08:08,992 - mmdet - INFO - Epoch [4][160/328]\tlr: 2.000e-02, eta: 1:59:59, time: 2.367, data_time: 0.017, memory: 15385, loss_rpn_cls: 0.0283, loss_rpn_bbox: 0.0238, s0.loss_cls: 0.2522, s0.acc: 91.9012, s0.loss_bbox: 0.1028, s1.loss_cls: 0.1240, s1.acc: 92.0425, s1.loss_bbox: 0.0948, s2.loss_cls: 0.0615, s2.acc: 91.9808, s2.loss_bbox: 0.0547, loss: 0.7422, grad_norm: 2.9176\n",
      "2021-05-13 09:09:43,094 - mmdet - INFO - Epoch [4][200/328]\tlr: 2.000e-02, eta: 1:58:31, time: 2.353, data_time: 0.018, memory: 15385, loss_rpn_cls: 0.0331, loss_rpn_bbox: 0.0256, s0.loss_cls: 0.2682, s0.acc: 91.7633, s0.loss_bbox: 0.1047, s1.loss_cls: 0.1318, s1.acc: 91.8817, s1.loss_bbox: 0.0989, s2.loss_cls: 0.0653, s2.acc: 91.8132, s2.loss_bbox: 0.0567, loss: 0.7842, grad_norm: 2.9239\n",
      "2021-05-13 09:11:16,775 - mmdet - INFO - Epoch [4][240/328]\tlr: 2.000e-02, eta: 1:57:02, time: 2.342, data_time: 0.017, memory: 15385, loss_rpn_cls: 0.0297, loss_rpn_bbox: 0.0216, s0.loss_cls: 0.2541, s0.acc: 92.0160, s0.loss_bbox: 0.0977, s1.loss_cls: 0.1258, s1.acc: 91.9815, s1.loss_bbox: 0.0927, s2.loss_cls: 0.0635, s2.acc: 91.8392, s2.loss_bbox: 0.0559, loss: 0.7410, grad_norm: 2.9632\n",
      "2021-05-13 09:12:50,459 - mmdet - INFO - Epoch [4][280/328]\tlr: 2.000e-02, eta: 1:55:33, time: 2.342, data_time: 0.017, memory: 15385, loss_rpn_cls: 0.0373, loss_rpn_bbox: 0.0265, s0.loss_cls: 0.2701, s0.acc: 91.6431, s0.loss_bbox: 0.1070, s1.loss_cls: 0.1340, s1.acc: 91.6638, s1.loss_bbox: 0.0969, s2.loss_cls: 0.0669, s2.acc: 91.6272, s2.loss_bbox: 0.0576, loss: 0.7963, grad_norm: 2.8920\n",
      "2021-05-13 09:14:24,407 - mmdet - INFO - Epoch [4][320/328]\tlr: 2.000e-02, eta: 1:54:04, time: 2.349, data_time: 0.017, memory: 15385, loss_rpn_cls: 0.0308, loss_rpn_bbox: 0.0224, s0.loss_cls: 0.2686, s0.acc: 91.6968, s0.loss_bbox: 0.1008, s1.loss_cls: 0.1354, s1.acc: 91.5312, s1.loss_bbox: 0.0972, s2.loss_cls: 0.0678, s2.acc: 91.4709, s2.loss_bbox: 0.0564, loss: 0.7796, grad_norm: 3.0602\n",
      "2021-05-13 09:14:43,559 - mmdet - INFO - Saving checkpoint at 4 epochs\n"
     ]
    },
    {
     "name": "stdout",
     "output_type": "stream",
     "text": [
      "[>>>>>>>>>>>>>>>>>>>>>>>>>>>>>>] 655/655, 6.6 task/s, elapsed: 99s, ETA:     0s"
     ]
    },
    {
     "name": "stderr",
     "output_type": "stream",
     "text": [
      "2021-05-13 09:16:24,650 - mmdet - INFO - Evaluating bbox...\n"
     ]
    },
    {
     "name": "stdout",
     "output_type": "stream",
     "text": [
      "Loading and preparing results...\n",
      "DONE (t=0.54s)\n",
      "creating index...\n",
      "index created!\n",
      "Running per image evaluation...\n",
      "Evaluate annotation type *bbox*\n",
      "DONE (t=5.86s).\n",
      "Accumulating evaluation results...\n"
     ]
    },
    {
     "name": "stderr",
     "output_type": "stream",
     "text": [
      "2021-05-13 09:16:32,003 - mmdet - INFO - Now best checkpoint is epoch_4.pth.Best bbox_mAP is 0.2230\n"
     ]
    },
    {
     "name": "stdout",
     "output_type": "stream",
     "text": [
      "DONE (t=0.88s).\n",
      "Average Precision  (AP) @[ IoU=0.50:0.95 | area=   all | maxDets=100 ] = 0.223\n",
      "Average Precision  (AP) @[ IoU=0.50      | area=   all | maxDets=1000 ] = 0.340\n",
      "Average Precision  (AP) @[ IoU=0.75      | area=   all | maxDets=1000 ] = 0.220\n",
      "Average Precision  (AP) @[ IoU=0.50:0.95 | area= small | maxDets=1000 ] = 0.061\n",
      "Average Precision  (AP) @[ IoU=0.50:0.95 | area=medium | maxDets=1000 ] = 0.205\n",
      "Average Precision  (AP) @[ IoU=0.50:0.95 | area= large | maxDets=1000 ] = 0.362\n",
      "Average Recall     (AR) @[ IoU=0.50:0.95 | area=   all | maxDets=100 ] = 0.407\n",
      "Average Recall     (AR) @[ IoU=0.50:0.95 | area=   all | maxDets=300 ] = 0.407\n",
      "Average Recall     (AR) @[ IoU=0.50:0.95 | area=   all | maxDets=1000 ] = 0.407\n",
      "Average Recall     (AR) @[ IoU=0.50:0.95 | area= small | maxDets=1000 ] = 0.164\n",
      "Average Recall     (AR) @[ IoU=0.50:0.95 | area=medium | maxDets=1000 ] = 0.402\n",
      "Average Recall     (AR) @[ IoU=0.50:0.95 | area= large | maxDets=1000 ] = 0.581\n",
      "Now best checkpoint is epoch_4.pth.Best bbox_mAP is 0.2230\n"
     ]
    },
    {
     "name": "stderr",
     "output_type": "stream",
     "text": [
      "2021-05-13 09:18:09,563 - mmdet - INFO - Epoch [5][40/328]\tlr: 2.000e-02, eta: 1:51:44, time: 2.438, data_time: 0.081, memory: 15385, loss_rpn_cls: 0.0272, loss_rpn_bbox: 0.0218, s0.loss_cls: 0.2472, s0.acc: 92.3358, s0.loss_bbox: 0.0902, s1.loss_cls: 0.1219, s1.acc: 92.5023, s1.loss_bbox: 0.0859, s2.loss_cls: 0.0609, s2.acc: 92.4091, s2.loss_bbox: 0.0534, loss: 0.7088, grad_norm: 2.9080\n",
      "2021-05-13 09:19:43,740 - mmdet - INFO - Epoch [5][80/328]\tlr: 2.000e-02, eta: 1:50:16, time: 2.354, data_time: 0.018, memory: 15385, loss_rpn_cls: 0.0269, loss_rpn_bbox: 0.0237, s0.loss_cls: 0.2346, s0.acc: 92.4939, s0.loss_bbox: 0.0931, s1.loss_cls: 0.1133, s1.acc: 92.7814, s1.loss_bbox: 0.0883, s2.loss_cls: 0.0570, s2.acc: 92.6766, s2.loss_bbox: 0.0544, loss: 0.6914, grad_norm: 2.7034\n",
      "2021-05-13 09:21:17,559 - mmdet - INFO - Epoch [5][120/328]\tlr: 2.000e-02, eta: 1:48:47, time: 2.345, data_time: 0.017, memory: 15385, loss_rpn_cls: 0.0289, loss_rpn_bbox: 0.0242, s0.loss_cls: 0.2432, s0.acc: 92.4396, s0.loss_bbox: 0.0960, s1.loss_cls: 0.1163, s1.acc: 92.8245, s1.loss_bbox: 0.0872, s2.loss_cls: 0.0585, s2.acc: 92.6903, s2.loss_bbox: 0.0539, loss: 0.7081, grad_norm: 2.8330\n",
      "2021-05-13 09:22:51,842 - mmdet - INFO - Epoch [5][160/328]\tlr: 2.000e-02, eta: 1:47:19, time: 2.357, data_time: 0.017, memory: 15385, loss_rpn_cls: 0.0287, loss_rpn_bbox: 0.0205, s0.loss_cls: 0.2348, s0.acc: 92.6453, s0.loss_bbox: 0.0905, s1.loss_cls: 0.1161, s1.acc: 92.7876, s1.loss_bbox: 0.0840, s2.loss_cls: 0.0579, s2.acc: 92.6088, s2.loss_bbox: 0.0526, loss: 0.6851, grad_norm: 2.9327\n",
      "2021-05-13 09:24:25,618 - mmdet - INFO - Epoch [5][200/328]\tlr: 2.000e-02, eta: 1:45:49, time: 2.344, data_time: 0.017, memory: 15385, loss_rpn_cls: 0.0298, loss_rpn_bbox: 0.0259, s0.loss_cls: 0.2466, s0.acc: 92.2974, s0.loss_bbox: 0.1005, s1.loss_cls: 0.1182, s1.acc: 92.5152, s1.loss_bbox: 0.0922, s2.loss_cls: 0.0589, s2.acc: 92.4868, s2.loss_bbox: 0.0556, loss: 0.7278, grad_norm: 3.0252\n",
      "2021-05-13 09:25:59,435 - mmdet - INFO - Epoch [5][240/328]\tlr: 2.000e-02, eta: 1:44:20, time: 2.345, data_time: 0.017, memory: 15385, loss_rpn_cls: 0.0303, loss_rpn_bbox: 0.0254, s0.loss_cls: 0.2594, s0.acc: 91.6736, s0.loss_bbox: 0.1073, s1.loss_cls: 0.1247, s1.acc: 91.9330, s1.loss_bbox: 0.0963, s2.loss_cls: 0.0620, s2.acc: 91.9471, s2.loss_bbox: 0.0559, loss: 0.7614, grad_norm: 3.0736\n",
      "2021-05-13 09:27:32,844 - mmdet - INFO - Epoch [5][280/328]\tlr: 2.000e-02, eta: 1:42:49, time: 2.335, data_time: 0.018, memory: 15385, loss_rpn_cls: 0.0268, loss_rpn_bbox: 0.0242, s0.loss_cls: 0.2492, s0.acc: 92.2211, s0.loss_bbox: 0.0979, s1.loss_cls: 0.1200, s1.acc: 92.4953, s1.loss_bbox: 0.0875, s2.loss_cls: 0.0594, s2.acc: 92.5686, s2.loss_bbox: 0.0513, loss: 0.7163, grad_norm: 3.1101\n",
      "2021-05-13 09:29:06,464 - mmdet - INFO - Epoch [5][320/328]\tlr: 2.000e-02, eta: 1:41:19, time: 2.340, data_time: 0.018, memory: 15385, loss_rpn_cls: 0.0299, loss_rpn_bbox: 0.0235, s0.loss_cls: 0.2284, s0.acc: 92.7753, s0.loss_bbox: 0.0980, s1.loss_cls: 0.1105, s1.acc: 92.9078, s1.loss_bbox: 0.0938, s2.loss_cls: 0.0556, s2.acc: 92.7081, s2.loss_bbox: 0.0551, loss: 0.6947, grad_norm: 3.1511\n",
      "2021-05-13 09:29:25,198 - mmdet - INFO - Saving checkpoint at 5 epochs\n"
     ]
    },
    {
     "name": "stdout",
     "output_type": "stream",
     "text": [
      "[>>>>>>>>>>>>>>>>>>>>>>>>>>>>>>] 655/655, 6.7 task/s, elapsed: 98s, ETA:     0s"
     ]
    },
    {
     "name": "stderr",
     "output_type": "stream",
     "text": [
      "2021-05-13 09:31:05,737 - mmdet - INFO - Evaluating bbox...\n"
     ]
    },
    {
     "name": "stdout",
     "output_type": "stream",
     "text": [
      "Loading and preparing results...\n",
      "DONE (t=0.52s)\n",
      "creating index...\n",
      "index created!\n",
      "Running per image evaluation...\n",
      "Evaluate annotation type *bbox*\n",
      "DONE (t=4.84s).\n",
      "Accumulating evaluation results...\n",
      "DONE (t=0.73s).\n",
      "Average Precision  (AP) @[ IoU=0.50:0.95 | area=   all | maxDets=100 ] = 0.188\n",
      "Average Precision  (AP) @[ IoU=0.50      | area=   all | maxDets=1000 ] = 0.277\n",
      "Average Precision  (AP) @[ IoU=0.75      | area=   all | maxDets=1000 ] = 0.195\n",
      "Average Precision  (AP) @[ IoU=0.50:0.95 | area= small | maxDets=1000 ] = 0.046\n",
      "Average Precision  (AP) @[ IoU=0.50:0.95 | area=medium | maxDets=1000 ] = 0.174\n",
      "Average Precision  (AP) @[ IoU=0.50:0.95 | area= large | maxDets=1000 ] = 0.328\n",
      "Average Recall     (AR) @[ IoU=0.50:0.95 | area=   all | maxDets=100 ] = 0.333\n",
      "Average Recall     (AR) @[ IoU=0.50:0.95 | area=   all | maxDets=300 ] = 0.333\n",
      "Average Recall     (AR) @[ IoU=0.50:0.95 | area=   all | maxDets=1000 ] = 0.333\n",
      "Average Recall     (AR) @[ IoU=0.50:0.95 | area= small | maxDets=1000 ] = 0.135\n",
      "Average Recall     (AR) @[ IoU=0.50:0.95 | area=medium | maxDets=1000 ] = 0.325\n",
      "Average Recall     (AR) @[ IoU=0.50:0.95 | area= large | maxDets=1000 ] = 0.509\n"
     ]
    },
    {
     "name": "stderr",
     "output_type": "stream",
     "text": [
      "2021-05-13 09:32:48,397 - mmdet - INFO - Epoch [6][40/328]\tlr: 2.000e-02, eta: 1:39:06, time: 2.412, data_time: 0.084, memory: 15385, loss_rpn_cls: 0.0219, loss_rpn_bbox: 0.0205, s0.loss_cls: 0.2178, s0.acc: 92.8851, s0.loss_bbox: 0.0894, s1.loss_cls: 0.1041, s1.acc: 93.2788, s1.loss_bbox: 0.0838, s2.loss_cls: 0.0526, s2.acc: 93.2985, s2.loss_bbox: 0.0524, loss: 0.6425, grad_norm: 2.9267\n",
      "2021-05-13 09:34:22,137 - mmdet - INFO - Epoch [6][80/328]\tlr: 2.000e-02, eta: 1:37:36, time: 2.344, data_time: 0.017, memory: 15385, loss_rpn_cls: 0.0248, loss_rpn_bbox: 0.0222, s0.loss_cls: 0.2168, s0.acc: 93.1372, s0.loss_bbox: 0.0908, s1.loss_cls: 0.1031, s1.acc: 93.4996, s1.loss_bbox: 0.0836, s2.loss_cls: 0.0517, s2.acc: 93.4247, s2.loss_bbox: 0.0513, loss: 0.6443, grad_norm: 2.8944\n",
      "2021-05-13 09:35:55,940 - mmdet - INFO - Epoch [6][120/328]\tlr: 2.000e-02, eta: 1:36:07, time: 2.345, data_time: 0.018, memory: 15385, loss_rpn_cls: 0.0270, loss_rpn_bbox: 0.0264, s0.loss_cls: 0.2318, s0.acc: 92.6740, s0.loss_bbox: 0.0919, s1.loss_cls: 0.1136, s1.acc: 92.9611, s1.loss_bbox: 0.0856, s2.loss_cls: 0.0569, s2.acc: 92.8447, s2.loss_bbox: 0.0511, loss: 0.6844, grad_norm: 3.0580\n",
      "2021-05-13 09:37:29,299 - mmdet - INFO - Epoch [6][160/328]\tlr: 2.000e-02, eta: 1:34:36, time: 2.334, data_time: 0.018, memory: 15385, loss_rpn_cls: 0.0254, loss_rpn_bbox: 0.0228, s0.loss_cls: 0.2427, s0.acc: 92.2253, s0.loss_bbox: 0.0943, s1.loss_cls: 0.1176, s1.acc: 92.5254, s1.loss_bbox: 0.0882, s2.loss_cls: 0.0591, s2.acc: 92.3656, s2.loss_bbox: 0.0548, loss: 0.7048, grad_norm: 3.0932\n",
      "2021-05-13 09:39:03,176 - mmdet - INFO - Epoch [6][200/328]\tlr: 2.000e-02, eta: 1:33:06, time: 2.347, data_time: 0.017, memory: 15385, loss_rpn_cls: 0.0274, loss_rpn_bbox: 0.0246, s0.loss_cls: 0.2438, s0.acc: 92.3206, s0.loss_bbox: 0.0976, s1.loss_cls: 0.1151, s1.acc: 92.7212, s1.loss_bbox: 0.0881, s2.loss_cls: 0.0571, s2.acc: 92.7424, s2.loss_bbox: 0.0538, loss: 0.7074, grad_norm: 3.0822\n",
      "2021-05-13 09:40:36,803 - mmdet - INFO - Epoch [6][240/328]\tlr: 2.000e-02, eta: 1:31:36, time: 2.341, data_time: 0.018, memory: 15385, loss_rpn_cls: 0.0304, loss_rpn_bbox: 0.0214, s0.loss_cls: 0.2205, s0.acc: 92.9517, s0.loss_bbox: 0.0861, s1.loss_cls: 0.1060, s1.acc: 93.2425, s1.loss_bbox: 0.0792, s2.loss_cls: 0.0531, s2.acc: 93.1698, s2.loss_bbox: 0.0488, loss: 0.6456, grad_norm: 2.9980\n",
      "2021-05-13 09:42:10,790 - mmdet - INFO - Epoch [6][280/328]\tlr: 2.000e-02, eta: 1:30:06, time: 2.350, data_time: 0.017, memory: 15385, loss_rpn_cls: 0.0276, loss_rpn_bbox: 0.0217, s0.loss_cls: 0.2323, s0.acc: 92.6184, s0.loss_bbox: 0.0968, s1.loss_cls: 0.1100, s1.acc: 93.0803, s1.loss_bbox: 0.0910, s2.loss_cls: 0.0552, s2.acc: 92.8296, s2.loss_bbox: 0.0564, loss: 0.6911, grad_norm: 2.9939\n",
      "2021-05-13 09:43:44,993 - mmdet - INFO - Epoch [6][320/328]\tlr: 2.000e-02, eta: 1:28:36, time: 2.355, data_time: 0.017, memory: 15385, loss_rpn_cls: 0.0253, loss_rpn_bbox: 0.0208, s0.loss_cls: 0.2235, s0.acc: 92.8687, s0.loss_bbox: 0.0889, s1.loss_cls: 0.1075, s1.acc: 93.1035, s1.loss_bbox: 0.0828, s2.loss_cls: 0.0537, s2.acc: 93.0065, s2.loss_bbox: 0.0493, loss: 0.6518, grad_norm: 2.9013\n",
      "2021-05-13 09:44:04,056 - mmdet - INFO - Saving checkpoint at 6 epochs\n"
     ]
    },
    {
     "name": "stdout",
     "output_type": "stream",
     "text": [
      "[>>>>>>>>>>>>>>>>>>>>>>>>>>>>>>] 655/655, 6.6 task/s, elapsed: 99s, ETA:     0s"
     ]
    },
    {
     "name": "stderr",
     "output_type": "stream",
     "text": [
      "2021-05-13 09:45:45,240 - mmdet - INFO - Evaluating bbox...\n"
     ]
    },
    {
     "name": "stdout",
     "output_type": "stream",
     "text": [
      "Loading and preparing results...\n",
      "DONE (t=0.55s)\n",
      "creating index...\n",
      "index created!\n",
      "Running per image evaluation...\n",
      "Evaluate annotation type *bbox*\n",
      "DONE (t=6.09s).\n",
      "Accumulating evaluation results...\n",
      "DONE (t=0.86s).\n",
      "Average Precision  (AP) @[ IoU=0.50:0.95 | area=   all | maxDets=100 ] = 0.223\n",
      "Average Precision  (AP) @[ IoU=0.50      | area=   all | maxDets=1000 ] = 0.333\n",
      "Average Precision  (AP) @[ IoU=0.75      | area=   all | maxDets=1000 ] = 0.221\n",
      "Average Precision  (AP) @[ IoU=0.50:0.95 | area= small | maxDets=1000 ] = 0.056\n",
      "Average Precision  (AP) @[ IoU=0.50:0.95 | area=medium | maxDets=1000 ] = 0.205\n",
      "Average Precision  (AP) @[ IoU=0.50:0.95 | area= large | maxDets=1000 ] = 0.414\n",
      "Average Recall     (AR) @[ IoU=0.50:0.95 | area=   all | maxDets=100 ] = 0.409\n",
      "Average Recall     (AR) @[ IoU=0.50:0.95 | area=   all | maxDets=300 ] = 0.409\n",
      "Average Recall     (AR) @[ IoU=0.50:0.95 | area=   all | maxDets=1000 ] = 0.409\n",
      "Average Recall     (AR) @[ IoU=0.50:0.95 | area= small | maxDets=1000 ] = 0.159\n",
      "Average Recall     (AR) @[ IoU=0.50:0.95 | area=medium | maxDets=1000 ] = 0.404\n",
      "Average Recall     (AR) @[ IoU=0.50:0.95 | area= large | maxDets=1000 ] = 0.654\n"
     ]
    },
    {
     "name": "stderr",
     "output_type": "stream",
     "text": [
      "2021-05-13 09:47:29,751 - mmdet - INFO - Epoch [7][40/328]\tlr: 2.000e-02, eta: 1:26:30, time: 2.423, data_time: 0.082, memory: 15385, loss_rpn_cls: 0.0217, loss_rpn_bbox: 0.0202, s0.loss_cls: 0.2092, s0.acc: 93.1860, s0.loss_bbox: 0.0839, s1.loss_cls: 0.0983, s1.acc: 93.6802, s1.loss_bbox: 0.0816, s2.loss_cls: 0.0495, s2.acc: 93.5927, s2.loss_bbox: 0.0529, loss: 0.6174, grad_norm: 2.9870\n",
      "2021-05-13 09:49:04,114 - mmdet - INFO - Epoch [7][80/328]\tlr: 2.000e-02, eta: 1:25:00, time: 2.359, data_time: 0.017, memory: 15385, loss_rpn_cls: 0.0223, loss_rpn_bbox: 0.0216, s0.loss_cls: 0.2120, s0.acc: 93.1897, s0.loss_bbox: 0.0907, s1.loss_cls: 0.0990, s1.acc: 93.6869, s1.loss_bbox: 0.0847, s2.loss_cls: 0.0489, s2.acc: 93.7562, s2.loss_bbox: 0.0516, loss: 0.6308, grad_norm: 2.9851\n",
      "2021-05-13 09:50:38,272 - mmdet - INFO - Epoch [7][120/328]\tlr: 2.000e-02, eta: 1:23:30, time: 2.354, data_time: 0.017, memory: 15385, loss_rpn_cls: 0.0183, loss_rpn_bbox: 0.0228, s0.loss_cls: 0.1973, s0.acc: 93.5315, s0.loss_bbox: 0.0850, s1.loss_cls: 0.0918, s1.acc: 94.0186, s1.loss_bbox: 0.0789, s2.loss_cls: 0.0464, s2.acc: 93.8768, s2.loss_bbox: 0.0514, loss: 0.5919, grad_norm: 2.7848\n",
      "2021-05-13 09:52:12,094 - mmdet - INFO - Epoch [7][160/328]\tlr: 2.000e-02, eta: 1:22:00, time: 2.346, data_time: 0.017, memory: 15385, loss_rpn_cls: 0.0230, loss_rpn_bbox: 0.0186, s0.loss_cls: 0.1928, s0.acc: 93.6926, s0.loss_bbox: 0.0800, s1.loss_cls: 0.0901, s1.acc: 94.1990, s1.loss_bbox: 0.0776, s2.loss_cls: 0.0455, s2.acc: 94.0519, s2.loss_bbox: 0.0493, loss: 0.5770, grad_norm: 2.8865\n",
      "2021-05-13 09:53:46,058 - mmdet - INFO - Epoch [7][200/328]\tlr: 2.000e-02, eta: 1:20:29, time: 2.349, data_time: 0.017, memory: 15385, loss_rpn_cls: 0.0252, loss_rpn_bbox: 0.0217, s0.loss_cls: 0.2145, s0.acc: 93.1476, s0.loss_bbox: 0.0897, s1.loss_cls: 0.1016, s1.acc: 93.4683, s1.loss_bbox: 0.0827, s2.loss_cls: 0.0511, s2.acc: 93.3392, s2.loss_bbox: 0.0503, loss: 0.6367, grad_norm: 2.9359\n",
      "2021-05-13 09:55:19,631 - mmdet - INFO - Epoch [7][240/328]\tlr: 2.000e-02, eta: 1:18:59, time: 2.339, data_time: 0.017, memory: 15385, loss_rpn_cls: 0.0225, loss_rpn_bbox: 0.0231, s0.loss_cls: 0.2187, s0.acc: 92.9639, s0.loss_bbox: 0.0880, s1.loss_cls: 0.1051, s1.acc: 93.1519, s1.loss_bbox: 0.0815, s2.loss_cls: 0.0524, s2.acc: 93.2075, s2.loss_bbox: 0.0492, loss: 0.6405, grad_norm: 3.0855\n",
      "2021-05-13 09:56:52,893 - mmdet - INFO - Epoch [7][280/328]\tlr: 2.000e-02, eta: 1:17:27, time: 2.332, data_time: 0.017, memory: 15385, loss_rpn_cls: 0.0184, loss_rpn_bbox: 0.0199, s0.loss_cls: 0.1924, s0.acc: 93.7878, s0.loss_bbox: 0.0771, s1.loss_cls: 0.0905, s1.acc: 94.1764, s1.loss_bbox: 0.0740, s2.loss_cls: 0.0455, s2.acc: 94.1175, s2.loss_bbox: 0.0482, loss: 0.5660, grad_norm: 2.8607\n",
      "2021-05-13 09:58:27,258 - mmdet - INFO - Epoch [7][320/328]\tlr: 2.000e-02, eta: 1:15:57, time: 2.359, data_time: 0.018, memory: 15385, loss_rpn_cls: 0.0275, loss_rpn_bbox: 0.0244, s0.loss_cls: 0.2286, s0.acc: 92.6318, s0.loss_bbox: 0.0965, s1.loss_cls: 0.1096, s1.acc: 92.9815, s1.loss_bbox: 0.0941, s2.loss_cls: 0.0558, s2.acc: 92.8287, s2.loss_bbox: 0.0566, loss: 0.6932, grad_norm: 3.2029\n",
      "2021-05-13 09:58:46,137 - mmdet - INFO - Saving checkpoint at 7 epochs\n"
     ]
    },
    {
     "name": "stdout",
     "output_type": "stream",
     "text": [
      "[>>>>>>>>>>>>>>>>>>>>>>>>>>>>>>] 655/655, 6.6 task/s, elapsed: 99s, ETA:     0s"
     ]
    },
    {
     "name": "stderr",
     "output_type": "stream",
     "text": [
      "2021-05-13 10:00:27,567 - mmdet - INFO - Evaluating bbox...\n"
     ]
    },
    {
     "name": "stdout",
     "output_type": "stream",
     "text": [
      "Loading and preparing results...\n",
      "DONE (t=0.51s)\n",
      "creating index...\n",
      "index created!\n",
      "Running per image evaluation...\n",
      "Evaluate annotation type *bbox*\n",
      "DONE (t=5.86s).\n",
      "Accumulating evaluation results...\n"
     ]
    },
    {
     "name": "stderr",
     "output_type": "stream",
     "text": [
      "2021-05-13 10:00:34,793 - mmdet - INFO - Now best checkpoint is epoch_7.pth.Best bbox_mAP is 0.2320\n"
     ]
    },
    {
     "name": "stdout",
     "output_type": "stream",
     "text": [
      "DONE (t=0.79s).\n",
      "Average Precision  (AP) @[ IoU=0.50:0.95 | area=   all | maxDets=100 ] = 0.232\n",
      "Average Precision  (AP) @[ IoU=0.50      | area=   all | maxDets=1000 ] = 0.341\n",
      "Average Precision  (AP) @[ IoU=0.75      | area=   all | maxDets=1000 ] = 0.238\n",
      "Average Precision  (AP) @[ IoU=0.50:0.95 | area= small | maxDets=1000 ] = 0.057\n",
      "Average Precision  (AP) @[ IoU=0.50:0.95 | area=medium | maxDets=1000 ] = 0.214\n",
      "Average Precision  (AP) @[ IoU=0.50:0.95 | area= large | maxDets=1000 ] = 0.387\n",
      "Average Recall     (AR) @[ IoU=0.50:0.95 | area=   all | maxDets=100 ] = 0.375\n",
      "Average Recall     (AR) @[ IoU=0.50:0.95 | area=   all | maxDets=300 ] = 0.375\n",
      "Average Recall     (AR) @[ IoU=0.50:0.95 | area=   all | maxDets=1000 ] = 0.375\n",
      "Average Recall     (AR) @[ IoU=0.50:0.95 | area= small | maxDets=1000 ] = 0.154\n",
      "Average Recall     (AR) @[ IoU=0.50:0.95 | area=medium | maxDets=1000 ] = 0.353\n",
      "Average Recall     (AR) @[ IoU=0.50:0.95 | area= large | maxDets=1000 ] = 0.561\n",
      "Now best checkpoint is epoch_7.pth.Best bbox_mAP is 0.2320\n"
     ]
    },
    {
     "name": "stderr",
     "output_type": "stream",
     "text": [
      "2021-05-13 10:02:10,846 - mmdet - INFO - Epoch [8][40/328]\tlr: 2.000e-02, eta: 1:13:54, time: 2.401, data_time: 0.080, memory: 15385, loss_rpn_cls: 0.0185, loss_rpn_bbox: 0.0215, s0.loss_cls: 0.1887, s0.acc: 93.9221, s0.loss_bbox: 0.0805, s1.loss_cls: 0.0862, s1.acc: 94.5649, s1.loss_bbox: 0.0750, s2.loss_cls: 0.0427, s2.acc: 94.5315, s2.loss_bbox: 0.0494, loss: 0.5626, grad_norm: 2.5154\n",
      "2021-05-13 10:03:44,602 - mmdet - INFO - Epoch [8][80/328]\tlr: 2.000e-02, eta: 1:12:24, time: 2.344, data_time: 0.017, memory: 15385, loss_rpn_cls: 0.0213, loss_rpn_bbox: 0.0207, s0.loss_cls: 0.1891, s0.acc: 93.8049, s0.loss_bbox: 0.0784, s1.loss_cls: 0.0872, s1.acc: 94.3741, s1.loss_bbox: 0.0747, s2.loss_cls: 0.0441, s2.acc: 94.2953, s2.loss_bbox: 0.0484, loss: 0.5639, grad_norm: 2.9707\n",
      "2021-05-13 10:05:18,264 - mmdet - INFO - Epoch [8][120/328]\tlr: 2.000e-02, eta: 1:10:53, time: 2.342, data_time: 0.017, memory: 15385, loss_rpn_cls: 0.0168, loss_rpn_bbox: 0.0182, s0.loss_cls: 0.1713, s0.acc: 94.4434, s0.loss_bbox: 0.0723, s1.loss_cls: 0.0777, s1.acc: 95.0580, s1.loss_bbox: 0.0691, s2.loss_cls: 0.0393, s2.acc: 94.8692, s2.loss_bbox: 0.0447, loss: 0.5094, grad_norm: 2.8365\n",
      "2021-05-13 10:06:52,304 - mmdet - INFO - Epoch [8][160/328]\tlr: 2.000e-02, eta: 1:09:22, time: 2.351, data_time: 0.017, memory: 15385, loss_rpn_cls: 0.0195, loss_rpn_bbox: 0.0196, s0.loss_cls: 0.1837, s0.acc: 94.0027, s0.loss_bbox: 0.0792, s1.loss_cls: 0.0844, s1.acc: 94.6318, s1.loss_bbox: 0.0724, s2.loss_cls: 0.0421, s2.acc: 94.6367, s2.loss_bbox: 0.0471, loss: 0.5480, grad_norm: 2.9315\n",
      "2021-05-13 10:08:25,853 - mmdet - INFO - Epoch [8][200/328]\tlr: 2.000e-02, eta: 1:07:51, time: 2.339, data_time: 0.017, memory: 15385, loss_rpn_cls: 0.0195, loss_rpn_bbox: 0.0217, s0.loss_cls: 0.1833, s0.acc: 94.0436, s0.loss_bbox: 0.0809, s1.loss_cls: 0.0823, s1.acc: 94.6937, s1.loss_bbox: 0.0750, s2.loss_cls: 0.0408, s2.acc: 94.6851, s2.loss_bbox: 0.0472, loss: 0.5507, grad_norm: 3.0427\n",
      "2021-05-13 10:10:00,019 - mmdet - INFO - Epoch [8][240/328]\tlr: 2.000e-02, eta: 1:06:20, time: 2.354, data_time: 0.017, memory: 15385, loss_rpn_cls: 0.0223, loss_rpn_bbox: 0.0222, s0.loss_cls: 0.2097, s0.acc: 93.1903, s0.loss_bbox: 0.0905, s1.loss_cls: 0.0982, s1.acc: 93.7806, s1.loss_bbox: 0.0862, s2.loss_cls: 0.0491, s2.acc: 93.7115, s2.loss_bbox: 0.0545, loss: 0.6327, grad_norm: 3.2205\n",
      "2021-05-13 10:11:33,906 - mmdet - INFO - Epoch [8][280/328]\tlr: 2.000e-02, eta: 1:04:49, time: 2.347, data_time: 0.017, memory: 15385, loss_rpn_cls: 0.0222, loss_rpn_bbox: 0.0229, s0.loss_cls: 0.2126, s0.acc: 93.0719, s0.loss_bbox: 0.0869, s1.loss_cls: 0.0997, s1.acc: 93.6058, s1.loss_bbox: 0.0823, s2.loss_cls: 0.0496, s2.acc: 93.5884, s2.loss_bbox: 0.0520, loss: 0.6282, grad_norm: 3.0762\n",
      "2021-05-13 10:13:07,830 - mmdet - INFO - Epoch [8][320/328]\tlr: 2.000e-02, eta: 1:03:18, time: 2.348, data_time: 0.017, memory: 15385, loss_rpn_cls: 0.0185, loss_rpn_bbox: 0.0202, s0.loss_cls: 0.1944, s0.acc: 93.7140, s0.loss_bbox: 0.0826, s1.loss_cls: 0.0928, s1.acc: 94.0176, s1.loss_bbox: 0.0794, s2.loss_cls: 0.0469, s2.acc: 93.9605, s2.loss_bbox: 0.0506, loss: 0.5854, grad_norm: 3.1402\n",
      "2021-05-13 10:13:26,801 - mmdet - INFO - Saving checkpoint at 8 epochs\n"
     ]
    },
    {
     "name": "stdout",
     "output_type": "stream",
     "text": [
      "[>>>>>>>>>>>>>>>>>>>>>>>>>>>>>>] 655/655, 6.7 task/s, elapsed: 98s, ETA:     0s"
     ]
    },
    {
     "name": "stderr",
     "output_type": "stream",
     "text": [
      "2021-05-13 10:15:07,193 - mmdet - INFO - Evaluating bbox...\n"
     ]
    },
    {
     "name": "stdout",
     "output_type": "stream",
     "text": [
      "Loading and preparing results...\n",
      "DONE (t=0.09s)\n",
      "creating index...\n",
      "index created!\n",
      "Running per image evaluation...\n",
      "Evaluate annotation type *bbox*\n",
      "DONE (t=5.39s).\n",
      "Accumulating evaluation results...\n",
      "DONE (t=0.76s).\n",
      "Average Precision  (AP) @[ IoU=0.50:0.95 | area=   all | maxDets=100 ] = 0.222\n",
      "Average Precision  (AP) @[ IoU=0.50      | area=   all | maxDets=1000 ] = 0.326\n",
      "Average Precision  (AP) @[ IoU=0.75      | area=   all | maxDets=1000 ] = 0.225\n",
      "Average Precision  (AP) @[ IoU=0.50:0.95 | area= small | maxDets=1000 ] = 0.047\n",
      "Average Precision  (AP) @[ IoU=0.50:0.95 | area=medium | maxDets=1000 ] = 0.201\n",
      "Average Precision  (AP) @[ IoU=0.50:0.95 | area= large | maxDets=1000 ] = 0.406\n",
      "Average Recall     (AR) @[ IoU=0.50:0.95 | area=   all | maxDets=100 ] = 0.371\n",
      "Average Recall     (AR) @[ IoU=0.50:0.95 | area=   all | maxDets=300 ] = 0.371\n",
      "Average Recall     (AR) @[ IoU=0.50:0.95 | area=   all | maxDets=1000 ] = 0.371\n",
      "Average Recall     (AR) @[ IoU=0.50:0.95 | area= small | maxDets=1000 ] = 0.145\n",
      "Average Recall     (AR) @[ IoU=0.50:0.95 | area=medium | maxDets=1000 ] = 0.343\n",
      "Average Recall     (AR) @[ IoU=0.50:0.95 | area= large | maxDets=1000 ] = 0.637\n"
     ]
    },
    {
     "name": "stderr",
     "output_type": "stream",
     "text": [
      "2021-05-13 10:16:50,708 - mmdet - INFO - Epoch [9][40/328]\tlr: 2.000e-02, eta: 1:01:20, time: 2.430, data_time: 0.081, memory: 15385, loss_rpn_cls: 0.0180, loss_rpn_bbox: 0.0194, s0.loss_cls: 0.1694, s0.acc: 94.4794, s0.loss_bbox: 0.0799, s1.loss_cls: 0.0750, s1.acc: 95.2483, s1.loss_bbox: 0.0750, s2.loss_cls: 0.0381, s2.acc: 95.0985, s2.loss_bbox: 0.0491, loss: 0.5237, grad_norm: 2.7419\n",
      "2021-05-13 10:18:24,646 - mmdet - INFO - Epoch [9][80/328]\tlr: 2.000e-02, eta: 0:59:49, time: 2.348, data_time: 0.017, memory: 15385, loss_rpn_cls: 0.0190, loss_rpn_bbox: 0.0194, s0.loss_cls: 0.1541, s0.acc: 94.7778, s0.loss_bbox: 0.0735, s1.loss_cls: 0.0698, s1.acc: 95.3913, s1.loss_bbox: 0.0694, s2.loss_cls: 0.0355, s2.acc: 95.2963, s2.loss_bbox: 0.0441, loss: 0.4848, grad_norm: 2.8083\n",
      "2021-05-13 10:19:58,218 - mmdet - INFO - Epoch [9][120/328]\tlr: 2.000e-02, eta: 0:58:17, time: 2.339, data_time: 0.016, memory: 15385, loss_rpn_cls: 0.0177, loss_rpn_bbox: 0.0213, s0.loss_cls: 0.1778, s0.acc: 94.1583, s0.loss_bbox: 0.0742, s1.loss_cls: 0.0808, s1.acc: 94.7612, s1.loss_bbox: 0.0707, s2.loss_cls: 0.0408, s2.acc: 94.7569, s2.loss_bbox: 0.0464, loss: 0.5298, grad_norm: 2.8561\n",
      "2021-05-13 10:21:32,777 - mmdet - INFO - Epoch [9][160/328]\tlr: 2.000e-02, eta: 0:56:47, time: 2.364, data_time: 0.017, memory: 15385, loss_rpn_cls: 0.0171, loss_rpn_bbox: 0.0200, s0.loss_cls: 0.1718, s0.acc: 94.2682, s0.loss_bbox: 0.0778, s1.loss_cls: 0.0786, s1.acc: 94.7743, s1.loss_bbox: 0.0730, s2.loss_cls: 0.0390, s2.acc: 94.6994, s2.loss_bbox: 0.0484, loss: 0.5257, grad_norm: 2.8607\n",
      "2021-05-13 10:23:06,989 - mmdet - INFO - Epoch [9][200/328]\tlr: 2.000e-02, eta: 0:55:16, time: 2.355, data_time: 0.016, memory: 15385, loss_rpn_cls: 0.0179, loss_rpn_bbox: 0.0224, s0.loss_cls: 0.1866, s0.acc: 93.8647, s0.loss_bbox: 0.0842, s1.loss_cls: 0.0838, s1.acc: 94.5137, s1.loss_bbox: 0.0821, s2.loss_cls: 0.0423, s2.acc: 94.3810, s2.loss_bbox: 0.0539, loss: 0.5732, grad_norm: 2.8976\n",
      "2021-05-13 10:24:41,362 - mmdet - INFO - Epoch [9][240/328]\tlr: 2.000e-02, eta: 0:53:45, time: 2.359, data_time: 0.017, memory: 15385, loss_rpn_cls: 0.0187, loss_rpn_bbox: 0.0212, s0.loss_cls: 0.1874, s0.acc: 93.9789, s0.loss_bbox: 0.0806, s1.loss_cls: 0.0860, s1.acc: 94.5256, s1.loss_bbox: 0.0742, s2.loss_cls: 0.0434, s2.acc: 94.3754, s2.loss_bbox: 0.0470, loss: 0.5586, grad_norm: 3.0293\n",
      "2021-05-13 10:26:15,297 - mmdet - INFO - Epoch [9][280/328]\tlr: 2.000e-02, eta: 0:52:13, time: 2.348, data_time: 0.017, memory: 15385, loss_rpn_cls: 0.0181, loss_rpn_bbox: 0.0173, s0.loss_cls: 0.1670, s0.acc: 94.5020, s0.loss_bbox: 0.0720, s1.loss_cls: 0.0763, s1.acc: 95.0861, s1.loss_bbox: 0.0689, s2.loss_cls: 0.0384, s2.acc: 95.1157, s2.loss_bbox: 0.0460, loss: 0.5041, grad_norm: 3.0534\n",
      "2021-05-13 10:27:49,354 - mmdet - INFO - Epoch [9][320/328]\tlr: 2.000e-02, eta: 0:50:42, time: 2.351, data_time: 0.018, memory: 15385, loss_rpn_cls: 0.0170, loss_rpn_bbox: 0.0185, s0.loss_cls: 0.1772, s0.acc: 94.1986, s0.loss_bbox: 0.0778, s1.loss_cls: 0.0807, s1.acc: 94.7945, s1.loss_bbox: 0.0704, s2.loss_cls: 0.0414, s2.acc: 94.6486, s2.loss_bbox: 0.0449, loss: 0.5279, grad_norm: 2.9293\n",
      "2021-05-13 10:28:08,208 - mmdet - INFO - Saving checkpoint at 9 epochs\n"
     ]
    },
    {
     "name": "stdout",
     "output_type": "stream",
     "text": [
      "[>>>>>>>>>>>>>>>>>>>>>>>>>>>>>>] 655/655, 6.7 task/s, elapsed: 98s, ETA:     0s"
     ]
    },
    {
     "name": "stderr",
     "output_type": "stream",
     "text": [
      "2021-05-13 10:29:48,572 - mmdet - INFO - Evaluating bbox...\n"
     ]
    },
    {
     "name": "stdout",
     "output_type": "stream",
     "text": [
      "Loading and preparing results...\n",
      "DONE (t=0.51s)\n",
      "creating index...\n",
      "index created!\n",
      "Running per image evaluation...\n",
      "Evaluate annotation type *bbox*\n",
      "DONE (t=4.69s).\n",
      "Accumulating evaluation results...\n"
     ]
    },
    {
     "name": "stderr",
     "output_type": "stream",
     "text": [
      "2021-05-13 10:29:54,557 - mmdet - INFO - Now best checkpoint is epoch_9.pth.Best bbox_mAP is 0.2380\n"
     ]
    },
    {
     "name": "stdout",
     "output_type": "stream",
     "text": [
      "DONE (t=0.73s).\n",
      "Average Precision  (AP) @[ IoU=0.50:0.95 | area=   all | maxDets=100 ] = 0.238\n",
      "Average Precision  (AP) @[ IoU=0.50      | area=   all | maxDets=1000 ] = 0.342\n",
      "Average Precision  (AP) @[ IoU=0.75      | area=   all | maxDets=1000 ] = 0.244\n",
      "Average Precision  (AP) @[ IoU=0.50:0.95 | area= small | maxDets=1000 ] = 0.048\n",
      "Average Precision  (AP) @[ IoU=0.50:0.95 | area=medium | maxDets=1000 ] = 0.215\n",
      "Average Precision  (AP) @[ IoU=0.50:0.95 | area= large | maxDets=1000 ] = 0.462\n",
      "Average Recall     (AR) @[ IoU=0.50:0.95 | area=   all | maxDets=100 ] = 0.374\n",
      "Average Recall     (AR) @[ IoU=0.50:0.95 | area=   all | maxDets=300 ] = 0.374\n",
      "Average Recall     (AR) @[ IoU=0.50:0.95 | area=   all | maxDets=1000 ] = 0.374\n",
      "Average Recall     (AR) @[ IoU=0.50:0.95 | area= small | maxDets=1000 ] = 0.135\n",
      "Average Recall     (AR) @[ IoU=0.50:0.95 | area=medium | maxDets=1000 ] = 0.347\n",
      "Average Recall     (AR) @[ IoU=0.50:0.95 | area= large | maxDets=1000 ] = 0.646\n",
      "Now best checkpoint is epoch_9.pth.Best bbox_mAP is 0.2380\n"
     ]
    },
    {
     "name": "stderr",
     "output_type": "stream",
     "text": [
      "2021-05-13 10:31:31,731 - mmdet - INFO - Epoch [10][40/328]\tlr: 2.000e-02, eta: 0:48:46, time: 2.429, data_time: 0.080, memory: 15385, loss_rpn_cls: 0.0163, loss_rpn_bbox: 0.0211, s0.loss_cls: 0.1626, s0.acc: 94.5312, s0.loss_bbox: 0.0774, s1.loss_cls: 0.0728, s1.acc: 95.1451, s1.loss_bbox: 0.0726, s2.loss_cls: 0.0369, s2.acc: 95.1741, s2.loss_bbox: 0.0476, loss: 0.5073, grad_norm: 2.8053\n",
      "2021-05-13 10:33:05,802 - mmdet - INFO - Epoch [10][80/328]\tlr: 2.000e-02, eta: 0:47:15, time: 2.352, data_time: 0.017, memory: 15385, loss_rpn_cls: 0.0177, loss_rpn_bbox: 0.0213, s0.loss_cls: 0.1698, s0.acc: 94.3677, s0.loss_bbox: 0.0798, s1.loss_cls: 0.0758, s1.acc: 95.0809, s1.loss_bbox: 0.0753, s2.loss_cls: 0.0378, s2.acc: 95.1927, s2.loss_bbox: 0.0478, loss: 0.5253, grad_norm: 2.8246\n",
      "2021-05-13 10:34:39,932 - mmdet - INFO - Epoch [10][120/328]\tlr: 2.000e-02, eta: 0:45:43, time: 2.353, data_time: 0.016, memory: 15385, loss_rpn_cls: 0.0169, loss_rpn_bbox: 0.0209, s0.loss_cls: 0.1704, s0.acc: 94.2999, s0.loss_bbox: 0.0757, s1.loss_cls: 0.0767, s1.acc: 94.9552, s1.loss_bbox: 0.0717, s2.loss_cls: 0.0385, s2.acc: 94.9780, s2.loss_bbox: 0.0468, loss: 0.5175, grad_norm: 2.9430\n",
      "2021-05-13 10:36:14,363 - mmdet - INFO - Epoch [10][160/328]\tlr: 2.000e-02, eta: 0:44:12, time: 2.361, data_time: 0.017, memory: 15385, loss_rpn_cls: 0.0144, loss_rpn_bbox: 0.0177, s0.loss_cls: 0.1644, s0.acc: 94.5490, s0.loss_bbox: 0.0745, s1.loss_cls: 0.0732, s1.acc: 95.2109, s1.loss_bbox: 0.0723, s2.loss_cls: 0.0370, s2.acc: 95.1617, s2.loss_bbox: 0.0472, loss: 0.5006, grad_norm: 3.0218\n",
      "2021-05-13 10:37:48,518 - mmdet - INFO - Epoch [10][200/328]\tlr: 2.000e-02, eta: 0:42:41, time: 2.354, data_time: 0.016, memory: 15385, loss_rpn_cls: 0.0160, loss_rpn_bbox: 0.0170, s0.loss_cls: 0.1522, s0.acc: 94.9725, s0.loss_bbox: 0.0662, s1.loss_cls: 0.0668, s1.acc: 95.7181, s1.loss_bbox: 0.0650, s2.loss_cls: 0.0339, s2.acc: 95.6687, s2.loss_bbox: 0.0440, loss: 0.4613, grad_norm: 2.8082\n",
      "2021-05-13 10:39:22,898 - mmdet - INFO - Epoch [10][240/328]\tlr: 2.000e-02, eta: 0:41:09, time: 2.360, data_time: 0.017, memory: 15385, loss_rpn_cls: 0.0180, loss_rpn_bbox: 0.0212, s0.loss_cls: 0.1816, s0.acc: 93.9752, s0.loss_bbox: 0.0776, s1.loss_cls: 0.0820, s1.acc: 94.6941, s1.loss_bbox: 0.0736, s2.loss_cls: 0.0410, s2.acc: 94.6773, s2.loss_bbox: 0.0481, loss: 0.5431, grad_norm: 3.0088\n",
      "2021-05-13 10:40:57,062 - mmdet - INFO - Epoch [10][280/328]\tlr: 2.000e-02, eta: 0:39:38, time: 2.354, data_time: 0.017, memory: 15385, loss_rpn_cls: 0.0192, loss_rpn_bbox: 0.0182, s0.loss_cls: 0.1827, s0.acc: 94.0594, s0.loss_bbox: 0.0716, s1.loss_cls: 0.0849, s1.acc: 94.6421, s1.loss_bbox: 0.0698, s2.loss_cls: 0.0422, s2.acc: 94.5934, s2.loss_bbox: 0.0470, loss: 0.5356, grad_norm: 3.1802\n",
      "2021-05-13 10:42:31,199 - mmdet - INFO - Epoch [10][320/328]\tlr: 2.000e-02, eta: 0:38:06, time: 2.353, data_time: 0.017, memory: 15385, loss_rpn_cls: 0.0147, loss_rpn_bbox: 0.0187, s0.loss_cls: 0.1720, s0.acc: 94.3640, s0.loss_bbox: 0.0711, s1.loss_cls: 0.0794, s1.acc: 94.8446, s1.loss_bbox: 0.0680, s2.loss_cls: 0.0394, s2.acc: 94.8863, s2.loss_bbox: 0.0442, loss: 0.5075, grad_norm: 3.2720\n",
      "2021-05-13 10:42:50,196 - mmdet - INFO - Saving checkpoint at 10 epochs\n"
     ]
    },
    {
     "name": "stdout",
     "output_type": "stream",
     "text": [
      "[>>>>>>>>>>>>>>>>>>>>>>>>>>>>>>] 655/655, 6.6 task/s, elapsed: 99s, ETA:     0s"
     ]
    },
    {
     "name": "stderr",
     "output_type": "stream",
     "text": [
      "2021-05-13 10:44:31,243 - mmdet - INFO - Evaluating bbox...\n"
     ]
    },
    {
     "name": "stdout",
     "output_type": "stream",
     "text": [
      "Loading and preparing results...\n",
      "DONE (t=0.07s)\n",
      "creating index...\n",
      "index created!\n",
      "Running per image evaluation...\n",
      "Evaluate annotation type *bbox*\n",
      "DONE (t=4.56s).\n",
      "Accumulating evaluation results...\n"
     ]
    },
    {
     "name": "stderr",
     "output_type": "stream",
     "text": [
      "2021-05-13 10:44:36,572 - mmdet - INFO - Now best checkpoint is epoch_10.pth.Best bbox_mAP is 0.2450\n"
     ]
    },
    {
     "name": "stdout",
     "output_type": "stream",
     "text": [
      "DONE (t=0.65s).\n",
      "Average Precision  (AP) @[ IoU=0.50:0.95 | area=   all | maxDets=100 ] = 0.245\n",
      "Average Precision  (AP) @[ IoU=0.50      | area=   all | maxDets=1000 ] = 0.350\n",
      "Average Precision  (AP) @[ IoU=0.75      | area=   all | maxDets=1000 ] = 0.265\n",
      "Average Precision  (AP) @[ IoU=0.50:0.95 | area= small | maxDets=1000 ] = 0.055\n",
      "Average Precision  (AP) @[ IoU=0.50:0.95 | area=medium | maxDets=1000 ] = 0.236\n",
      "Average Precision  (AP) @[ IoU=0.50:0.95 | area= large | maxDets=1000 ] = 0.401\n",
      "Average Recall     (AR) @[ IoU=0.50:0.95 | area=   all | maxDets=100 ] = 0.395\n",
      "Average Recall     (AR) @[ IoU=0.50:0.95 | area=   all | maxDets=300 ] = 0.395\n",
      "Average Recall     (AR) @[ IoU=0.50:0.95 | area=   all | maxDets=1000 ] = 0.395\n",
      "Average Recall     (AR) @[ IoU=0.50:0.95 | area= small | maxDets=1000 ] = 0.124\n",
      "Average Recall     (AR) @[ IoU=0.50:0.95 | area=medium | maxDets=1000 ] = 0.379\n",
      "Average Recall     (AR) @[ IoU=0.50:0.95 | area= large | maxDets=1000 ] = 0.658\n",
      "Now best checkpoint is epoch_10.pth.Best bbox_mAP is 0.2450\n"
     ]
    },
    {
     "name": "stderr",
     "output_type": "stream",
     "text": [
      "2021-05-13 10:46:13,887 - mmdet - INFO - Epoch [11][40/328]\tlr: 2.000e-02, eta: 0:36:12, time: 2.432, data_time: 0.082, memory: 15385, loss_rpn_cls: 0.0168, loss_rpn_bbox: 0.0194, s0.loss_cls: 0.1576, s0.acc: 94.7681, s0.loss_bbox: 0.0758, s1.loss_cls: 0.0672, s1.acc: 95.6540, s1.loss_bbox: 0.0680, s2.loss_cls: 0.0337, s2.acc: 95.6135, s2.loss_bbox: 0.0455, loss: 0.4841, grad_norm: 2.9602\n",
      "2021-05-13 10:47:47,924 - mmdet - INFO - Epoch [11][80/328]\tlr: 2.000e-02, eta: 0:34:40, time: 2.351, data_time: 0.016, memory: 15385, loss_rpn_cls: 0.0147, loss_rpn_bbox: 0.0204, s0.loss_cls: 0.1657, s0.acc: 94.5398, s0.loss_bbox: 0.0721, s1.loss_cls: 0.0740, s1.acc: 95.0901, s1.loss_bbox: 0.0693, s2.loss_cls: 0.0372, s2.acc: 95.1021, s2.loss_bbox: 0.0464, loss: 0.4998, grad_norm: 3.1608\n",
      "2021-05-13 10:49:21,659 - mmdet - INFO - Epoch [11][120/328]\tlr: 2.000e-02, eta: 0:33:09, time: 2.343, data_time: 0.016, memory: 15385, loss_rpn_cls: 0.0173, loss_rpn_bbox: 0.0211, s0.loss_cls: 0.1631, s0.acc: 94.6222, s0.loss_bbox: 0.0755, s1.loss_cls: 0.0722, s1.acc: 95.2761, s1.loss_bbox: 0.0723, s2.loss_cls: 0.0364, s2.acc: 95.3261, s2.loss_bbox: 0.0473, loss: 0.5053, grad_norm: 2.8506\n",
      "2021-05-13 10:50:56,423 - mmdet - INFO - Epoch [11][160/328]\tlr: 2.000e-02, eta: 0:31:37, time: 2.369, data_time: 0.016, memory: 15385, loss_rpn_cls: 0.0164, loss_rpn_bbox: 0.0193, s0.loss_cls: 0.1463, s0.acc: 95.1324, s0.loss_bbox: 0.0683, s1.loss_cls: 0.0654, s1.acc: 95.6745, s1.loss_bbox: 0.0649, s2.loss_cls: 0.0329, s2.acc: 95.5300, s2.loss_bbox: 0.0429, loss: 0.4564, grad_norm: 2.9093\n",
      "2021-05-13 10:52:30,250 - mmdet - INFO - Epoch [11][200/328]\tlr: 2.000e-02, eta: 0:30:05, time: 2.346, data_time: 0.016, memory: 15385, loss_rpn_cls: 0.0150, loss_rpn_bbox: 0.0179, s0.loss_cls: 0.1506, s0.acc: 94.9060, s0.loss_bbox: 0.0649, s1.loss_cls: 0.0654, s1.acc: 95.6679, s1.loss_bbox: 0.0644, s2.loss_cls: 0.0336, s2.acc: 95.6483, s2.loss_bbox: 0.0446, loss: 0.4563, grad_norm: 2.9631\n",
      "2021-05-13 10:54:04,138 - mmdet - INFO - Epoch [11][240/328]\tlr: 2.000e-02, eta: 0:28:34, time: 2.347, data_time: 0.017, memory: 15385, loss_rpn_cls: 0.0143, loss_rpn_bbox: 0.0175, s0.loss_cls: 0.1574, s0.acc: 94.6875, s0.loss_bbox: 0.0708, s1.loss_cls: 0.0699, s1.acc: 95.4343, s1.loss_bbox: 0.0671, s2.loss_cls: 0.0353, s2.acc: 95.3878, s2.loss_bbox: 0.0463, loss: 0.4786, grad_norm: 3.0844\n",
      "2021-05-13 10:55:37,823 - mmdet - INFO - Epoch [11][280/328]\tlr: 2.000e-02, eta: 0:27:02, time: 2.342, data_time: 0.016, memory: 15385, loss_rpn_cls: 0.0179, loss_rpn_bbox: 0.0218, s0.loss_cls: 0.1903, s0.acc: 93.6633, s0.loss_bbox: 0.0812, s1.loss_cls: 0.0861, s1.acc: 94.3124, s1.loss_bbox: 0.0760, s2.loss_cls: 0.0429, s2.acc: 94.3835, s2.loss_bbox: 0.0496, loss: 0.5657, grad_norm: 3.4664\n",
      "2021-05-13 10:57:11,677 - mmdet - INFO - Epoch [11][320/328]\tlr: 2.000e-02, eta: 0:25:30, time: 2.346, data_time: 0.017, memory: 15385, loss_rpn_cls: 0.0173, loss_rpn_bbox: 0.0190, s0.loss_cls: 0.1661, s0.acc: 94.3927, s0.loss_bbox: 0.0727, s1.loss_cls: 0.0752, s1.acc: 94.9959, s1.loss_bbox: 0.0702, s2.loss_cls: 0.0375, s2.acc: 94.9796, s2.loss_bbox: 0.0474, loss: 0.5054, grad_norm: 2.9845\n",
      "2021-05-13 10:57:30,579 - mmdet - INFO - Saving checkpoint at 11 epochs\n"
     ]
    },
    {
     "name": "stdout",
     "output_type": "stream",
     "text": [
      "[>>>>>>>>>>>>>>>>>>>>>>>>>>>>>>] 655/655, 6.7 task/s, elapsed: 98s, ETA:     0s"
     ]
    },
    {
     "name": "stderr",
     "output_type": "stream",
     "text": [
      "2021-05-13 10:59:10,809 - mmdet - INFO - Evaluating bbox...\n"
     ]
    },
    {
     "name": "stdout",
     "output_type": "stream",
     "text": [
      "Loading and preparing results...\n",
      "DONE (t=0.09s)\n",
      "creating index...\n",
      "index created!\n",
      "Running per image evaluation...\n",
      "Evaluate annotation type *bbox*\n",
      "DONE (t=5.44s).\n",
      "Accumulating evaluation results...\n",
      "DONE (t=0.70s).\n",
      "Average Precision  (AP) @[ IoU=0.50:0.95 | area=   all | maxDets=100 ] = 0.216\n",
      "Average Precision  (AP) @[ IoU=0.50      | area=   all | maxDets=1000 ] = 0.311\n",
      "Average Precision  (AP) @[ IoU=0.75      | area=   all | maxDets=1000 ] = 0.216\n",
      "Average Precision  (AP) @[ IoU=0.50:0.95 | area= small | maxDets=1000 ] = 0.051\n",
      "Average Precision  (AP) @[ IoU=0.50:0.95 | area=medium | maxDets=1000 ] = 0.203\n",
      "Average Precision  (AP) @[ IoU=0.50:0.95 | area= large | maxDets=1000 ] = 0.384\n",
      "Average Recall     (AR) @[ IoU=0.50:0.95 | area=   all | maxDets=100 ] = 0.344\n",
      "Average Recall     (AR) @[ IoU=0.50:0.95 | area=   all | maxDets=300 ] = 0.344\n",
      "Average Recall     (AR) @[ IoU=0.50:0.95 | area=   all | maxDets=1000 ] = 0.344\n",
      "Average Recall     (AR) @[ IoU=0.50:0.95 | area= small | maxDets=1000 ] = 0.140\n",
      "Average Recall     (AR) @[ IoU=0.50:0.95 | area=medium | maxDets=1000 ] = 0.326\n",
      "Average Recall     (AR) @[ IoU=0.50:0.95 | area= large | maxDets=1000 ] = 0.538\n"
     ]
    },
    {
     "name": "stderr",
     "output_type": "stream",
     "text": [
      "2021-05-13 11:00:53,305 - mmdet - INFO - Epoch [12][40/328]\tlr: 2.000e-02, eta: 0:23:37, time: 2.405, data_time: 0.084, memory: 15385, loss_rpn_cls: 0.0108, loss_rpn_bbox: 0.0145, s0.loss_cls: 0.1210, s0.acc: 95.7990, s0.loss_bbox: 0.0594, s1.loss_cls: 0.0524, s1.acc: 96.5022, s1.loss_bbox: 0.0575, s2.loss_cls: 0.0263, s2.acc: 96.4614, s2.loss_bbox: 0.0391, loss: 0.3811, grad_norm: 2.5669\n",
      "2021-05-13 11:02:27,057 - mmdet - INFO - Epoch [12][80/328]\tlr: 2.000e-02, eta: 0:22:05, time: 2.344, data_time: 0.018, memory: 15385, loss_rpn_cls: 0.0133, loss_rpn_bbox: 0.0174, s0.loss_cls: 0.1441, s0.acc: 95.1495, s0.loss_bbox: 0.0688, s1.loss_cls: 0.0621, s1.acc: 95.9296, s1.loss_bbox: 0.0687, s2.loss_cls: 0.0308, s2.acc: 95.9796, s2.loss_bbox: 0.0477, loss: 0.4528, grad_norm: 2.6532\n",
      "2021-05-13 11:04:00,636 - mmdet - INFO - Epoch [12][120/328]\tlr: 2.000e-02, eta: 0:20:33, time: 2.339, data_time: 0.017, memory: 15385, loss_rpn_cls: 0.0126, loss_rpn_bbox: 0.0186, s0.loss_cls: 0.1358, s0.acc: 95.4065, s0.loss_bbox: 0.0671, s1.loss_cls: 0.0582, s1.acc: 96.1060, s1.loss_bbox: 0.0648, s2.loss_cls: 0.0288, s2.acc: 96.2082, s2.loss_bbox: 0.0439, loss: 0.4298, grad_norm: 2.7314\n",
      "2021-05-13 11:05:33,857 - mmdet - INFO - Epoch [12][160/328]\tlr: 2.000e-02, eta: 0:19:01, time: 2.331, data_time: 0.017, memory: 15385, loss_rpn_cls: 0.0138, loss_rpn_bbox: 0.0175, s0.loss_cls: 0.1383, s0.acc: 95.3040, s0.loss_bbox: 0.0666, s1.loss_cls: 0.0606, s1.acc: 96.0711, s1.loss_bbox: 0.0646, s2.loss_cls: 0.0302, s2.acc: 96.0462, s2.loss_bbox: 0.0441, loss: 0.4358, grad_norm: 2.8508\n",
      "2021-05-13 11:07:08,200 - mmdet - INFO - Epoch [12][200/328]\tlr: 2.000e-02, eta: 0:17:30, time: 2.359, data_time: 0.017, memory: 15385, loss_rpn_cls: 0.0142, loss_rpn_bbox: 0.0202, s0.loss_cls: 0.1461, s0.acc: 95.0818, s0.loss_bbox: 0.0693, s1.loss_cls: 0.0636, s1.acc: 95.7826, s1.loss_bbox: 0.0656, s2.loss_cls: 0.0321, s2.acc: 95.7785, s2.loss_bbox: 0.0437, loss: 0.4548, grad_norm: 2.8253\n",
      "2021-05-13 11:08:43,164 - mmdet - INFO - Epoch [12][240/328]\tlr: 2.000e-02, eta: 0:15:58, time: 2.374, data_time: 0.016, memory: 15385, loss_rpn_cls: 0.0143, loss_rpn_bbox: 0.0197, s0.loss_cls: 0.1547, s0.acc: 94.7394, s0.loss_bbox: 0.0743, s1.loss_cls: 0.0680, s1.acc: 95.4141, s1.loss_bbox: 0.0746, s2.loss_cls: 0.0341, s2.acc: 95.3356, s2.loss_bbox: 0.0493, loss: 0.4890, grad_norm: 2.8840\n",
      "2021-05-13 11:10:17,497 - mmdet - INFO - Epoch [12][280/328]\tlr: 2.000e-02, eta: 0:14:26, time: 2.358, data_time: 0.016, memory: 15385, loss_rpn_cls: 0.0119, loss_rpn_bbox: 0.0173, s0.loss_cls: 0.1291, s0.acc: 95.6519, s0.loss_bbox: 0.0594, s1.loss_cls: 0.0567, s1.acc: 96.2906, s1.loss_bbox: 0.0576, s2.loss_cls: 0.0281, s2.acc: 96.3309, s2.loss_bbox: 0.0390, loss: 0.3991, grad_norm: 2.7188\n",
      "2021-05-13 11:11:51,844 - mmdet - INFO - Epoch [12][320/328]\tlr: 2.000e-02, eta: 0:12:54, time: 2.359, data_time: 0.016, memory: 15385, loss_rpn_cls: 0.0148, loss_rpn_bbox: 0.0213, s0.loss_cls: 0.1523, s0.acc: 94.9274, s0.loss_bbox: 0.0696, s1.loss_cls: 0.0660, s1.acc: 95.6559, s1.loss_bbox: 0.0667, s2.loss_cls: 0.0327, s2.acc: 95.6104, s2.loss_bbox: 0.0447, loss: 0.4682, grad_norm: 2.7607\n",
      "2021-05-13 11:12:10,898 - mmdet - INFO - Saving checkpoint at 12 epochs\n"
     ]
    },
    {
     "name": "stdout",
     "output_type": "stream",
     "text": [
      "[>>>>>>>>>>>>>>>>>>>>>>>>>>>>>>] 655/655, 6.7 task/s, elapsed: 98s, ETA:     0s"
     ]
    },
    {
     "name": "stderr",
     "output_type": "stream",
     "text": [
      "2021-05-13 11:13:51,461 - mmdet - INFO - Evaluating bbox...\n"
     ]
    },
    {
     "name": "stdout",
     "output_type": "stream",
     "text": [
      "Loading and preparing results...\n",
      "DONE (t=0.49s)\n",
      "creating index...\n",
      "index created!\n",
      "Running per image evaluation...\n",
      "Evaluate annotation type *bbox*\n",
      "DONE (t=4.67s).\n",
      "Accumulating evaluation results...\n",
      "DONE (t=0.67s).\n",
      "Average Precision  (AP) @[ IoU=0.50:0.95 | area=   all | maxDets=100 ] = 0.243\n",
      "Average Precision  (AP) @[ IoU=0.50      | area=   all | maxDets=1000 ] = 0.327\n",
      "Average Precision  (AP) @[ IoU=0.75      | area=   all | maxDets=1000 ] = 0.254\n",
      "Average Precision  (AP) @[ IoU=0.50:0.95 | area= small | maxDets=1000 ] = 0.051\n",
      "Average Precision  (AP) @[ IoU=0.50:0.95 | area=medium | maxDets=1000 ] = 0.216\n",
      "Average Precision  (AP) @[ IoU=0.50:0.95 | area= large | maxDets=1000 ] = 0.490\n",
      "Average Recall     (AR) @[ IoU=0.50:0.95 | area=   all | maxDets=100 ] = 0.365\n",
      "Average Recall     (AR) @[ IoU=0.50:0.95 | area=   all | maxDets=300 ] = 0.365\n",
      "Average Recall     (AR) @[ IoU=0.50:0.95 | area=   all | maxDets=1000 ] = 0.365\n",
      "Average Recall     (AR) @[ IoU=0.50:0.95 | area= small | maxDets=1000 ] = 0.127\n",
      "Average Recall     (AR) @[ IoU=0.50:0.95 | area=medium | maxDets=1000 ] = 0.327\n",
      "Average Recall     (AR) @[ IoU=0.50:0.95 | area= large | maxDets=1000 ] = 0.660\n"
     ]
    },
    {
     "name": "stderr",
     "output_type": "stream",
     "text": [
      "2021-05-13 11:15:33,844 - mmdet - INFO - Epoch [13][40/328]\tlr: 2.000e-02, eta: 0:11:02, time: 2.412, data_time: 0.079, memory: 15385, loss_rpn_cls: 0.0140, loss_rpn_bbox: 0.0192, s0.loss_cls: 0.1311, s0.acc: 95.5328, s0.loss_bbox: 0.0634, s1.loss_cls: 0.0556, s1.acc: 96.3357, s1.loss_bbox: 0.0620, s2.loss_cls: 0.0279, s2.acc: 96.3204, s2.loss_bbox: 0.0417, loss: 0.4148, grad_norm: 2.6604\n",
      "2021-05-13 11:17:07,974 - mmdet - INFO - Epoch [13][80/328]\tlr: 2.000e-02, eta: 0:09:30, time: 2.353, data_time: 0.017, memory: 15385, loss_rpn_cls: 0.0096, loss_rpn_bbox: 0.0175, s0.loss_cls: 0.1248, s0.acc: 95.7343, s0.loss_bbox: 0.0599, s1.loss_cls: 0.0507, s1.acc: 96.5804, s1.loss_bbox: 0.0582, s2.loss_cls: 0.0257, s2.acc: 96.5435, s2.loss_bbox: 0.0401, loss: 0.3865, grad_norm: 2.5503\n",
      "2021-05-13 11:18:41,823 - mmdet - INFO - Epoch [13][120/328]\tlr: 2.000e-02, eta: 0:07:58, time: 2.346, data_time: 0.016, memory: 15385, loss_rpn_cls: 0.0107, loss_rpn_bbox: 0.0175, s0.loss_cls: 0.1259, s0.acc: 95.7837, s0.loss_bbox: 0.0635, s1.loss_cls: 0.0530, s1.acc: 96.5767, s1.loss_bbox: 0.0614, s2.loss_cls: 0.0263, s2.acc: 96.5961, s2.loss_bbox: 0.0419, loss: 0.4003, grad_norm: 2.4340\n",
      "2021-05-13 11:20:16,219 - mmdet - INFO - Epoch [13][160/328]\tlr: 2.000e-02, eta: 0:06:26, time: 2.360, data_time: 0.016, memory: 15385, loss_rpn_cls: 0.0099, loss_rpn_bbox: 0.0184, s0.loss_cls: 0.1340, s0.acc: 95.4126, s0.loss_bbox: 0.0662, s1.loss_cls: 0.0554, s1.acc: 96.3044, s1.loss_bbox: 0.0652, s2.loss_cls: 0.0282, s2.acc: 96.3276, s2.loss_bbox: 0.0450, loss: 0.4223, grad_norm: 2.6928\n",
      "2021-05-13 11:21:50,364 - mmdet - INFO - Epoch [13][200/328]\tlr: 2.000e-02, eta: 0:04:54, time: 2.354, data_time: 0.017, memory: 15385, loss_rpn_cls: 0.0126, loss_rpn_bbox: 0.0166, s0.loss_cls: 0.1204, s0.acc: 95.8551, s0.loss_bbox: 0.0586, s1.loss_cls: 0.0495, s1.acc: 96.7649, s1.loss_bbox: 0.0586, s2.loss_cls: 0.0248, s2.acc: 96.8442, s2.loss_bbox: 0.0412, loss: 0.3822, grad_norm: 2.4655\n",
      "2021-05-13 11:23:23,654 - mmdet - INFO - Epoch [13][240/328]\tlr: 2.000e-02, eta: 0:03:22, time: 2.332, data_time: 0.017, memory: 15385, loss_rpn_cls: 0.0124, loss_rpn_bbox: 0.0168, s0.loss_cls: 0.1237, s0.acc: 95.7617, s0.loss_bbox: 0.0608, s1.loss_cls: 0.0507, s1.acc: 96.6680, s1.loss_bbox: 0.0586, s2.loss_cls: 0.0253, s2.acc: 96.6431, s2.loss_bbox: 0.0395, loss: 0.3878, grad_norm: 2.5780\n",
      "2021-05-13 11:24:58,194 - mmdet - INFO - Epoch [13][280/328]\tlr: 2.000e-02, eta: 0:01:50, time: 2.363, data_time: 0.016, memory: 15385, loss_rpn_cls: 0.0115, loss_rpn_bbox: 0.0176, s0.loss_cls: 0.1267, s0.acc: 95.7123, s0.loss_bbox: 0.0611, s1.loss_cls: 0.0511, s1.acc: 96.5082, s1.loss_bbox: 0.0571, s2.loss_cls: 0.0256, s2.acc: 96.6054, s2.loss_bbox: 0.0399, loss: 0.3905, grad_norm: 2.6911\n",
      "2021-05-13 11:26:31,501 - mmdet - INFO - Epoch [13][320/328]\tlr: 2.000e-02, eta: 0:00:18, time: 2.333, data_time: 0.017, memory: 15385, loss_rpn_cls: 0.0125, loss_rpn_bbox: 0.0181, s0.loss_cls: 0.1412, s0.acc: 95.2295, s0.loss_bbox: 0.0678, s1.loss_cls: 0.0601, s1.acc: 96.0774, s1.loss_bbox: 0.0644, s2.loss_cls: 0.0301, s2.acc: 95.9778, s2.loss_bbox: 0.0444, loss: 0.4385, grad_norm: 2.8928\n",
      "2021-05-13 11:26:50,046 - mmdet - INFO - Saving checkpoint at 13 epochs\n"
     ]
    },
    {
     "name": "stdout",
     "output_type": "stream",
     "text": [
      "[>>>>>>>>>>>>>>>>>>>>>>>>>>>>>>] 655/655, 6.6 task/s, elapsed: 99s, ETA:     0s"
     ]
    },
    {
     "name": "stderr",
     "output_type": "stream",
     "text": [
      "2021-05-13 11:28:31,270 - mmdet - INFO - Evaluating bbox...\n"
     ]
    },
    {
     "name": "stdout",
     "output_type": "stream",
     "text": [
      "Loading and preparing results...\n",
      "DONE (t=0.06s)\n",
      "creating index...\n",
      "index created!\n",
      "Running per image evaluation...\n",
      "Evaluate annotation type *bbox*\n",
      "DONE (t=4.40s).\n",
      "Accumulating evaluation results...\n",
      "DONE (t=0.59s).\n",
      "Average Precision  (AP) @[ IoU=0.50:0.95 | area=   all | maxDets=100 ] = 0.226\n",
      "Average Precision  (AP) @[ IoU=0.50      | area=   all | maxDets=1000 ] = 0.336\n",
      "Average Precision  (AP) @[ IoU=0.75      | area=   all | maxDets=1000 ] = 0.226\n",
      "Average Precision  (AP) @[ IoU=0.50:0.95 | area= small | maxDets=1000 ] = 0.051\n",
      "Average Precision  (AP) @[ IoU=0.50:0.95 | area=medium | maxDets=1000 ] = 0.226\n",
      "Average Precision  (AP) @[ IoU=0.50:0.95 | area= large | maxDets=1000 ] = 0.419\n",
      "Average Recall     (AR) @[ IoU=0.50:0.95 | area=   all | maxDets=100 ] = 0.351\n",
      "Average Recall     (AR) @[ IoU=0.50:0.95 | area=   all | maxDets=300 ] = 0.351\n",
      "Average Recall     (AR) @[ IoU=0.50:0.95 | area=   all | maxDets=1000 ] = 0.351\n",
      "Average Recall     (AR) @[ IoU=0.50:0.95 | area= small | maxDets=1000 ] = 0.121\n",
      "Average Recall     (AR) @[ IoU=0.50:0.95 | area=medium | maxDets=1000 ] = 0.323\n",
      "Average Recall     (AR) @[ IoU=0.50:0.95 | area= large | maxDets=1000 ] = 0.583\n"
     ]
    }
   ],
   "source": [
    "train_detector(model, datasets[0], cfg, distributed=False, validate=True)"
   ]
  },
  {
   "cell_type": "code",
   "execution_count": 10,
   "metadata": {},
   "outputs": [
    {
     "name": "stdout",
     "output_type": "stream",
     "text": [
      "Thu May 13 11:28:37 2021       \n",
      "+-----------------------------------------------------------------------------+\n",
      "| NVIDIA-SMI 418.67       Driver Version: 418.67       CUDA Version: 10.1     |\n",
      "|-------------------------------+----------------------+----------------------+\n",
      "| GPU  Name        Persistence-M| Bus-Id        Disp.A | Volatile Uncorr. ECC |\n",
      "| Fan  Temp  Perf  Pwr:Usage/Cap|         Memory-Usage | GPU-Util  Compute M. |\n",
      "|===============================+======================+======================|\n",
      "|   0  Tesla P40           On   | 00000000:00:05.0 Off |                  Off |\n",
      "| N/A   55C    P0    59W / 250W |  18644MiB / 24451MiB |      0%      Default |\n",
      "+-------------------------------+----------------------+----------------------+\n",
      "                                                                               \n",
      "+-----------------------------------------------------------------------------+\n",
      "| Processes:                                                       GPU Memory |\n",
      "|  GPU       PID   Type   Process name                             Usage      |\n",
      "|=============================================================================|\n",
      "+-----------------------------------------------------------------------------+\n"
     ]
    }
   ],
   "source": [
    "!nvidia-smi"
   ]
  },
  {
   "cell_type": "code",
   "execution_count": null,
   "metadata": {},
   "outputs": [],
   "source": []
  }
 ],
 "metadata": {
  "kernelspec": {
   "display_name": "Python 3",
   "language": "python",
   "name": "python3"
  },
  "language_info": {
   "codemirror_mode": {
    "name": "ipython",
    "version": 3
   },
   "file_extension": ".py",
   "mimetype": "text/x-python",
   "name": "python",
   "nbconvert_exporter": "python",
   "pygments_lexer": "ipython3",
   "version": "3.7.7"
  },
  "pycharm": {
   "stem_cell": {
    "cell_type": "raw",
    "metadata": {
     "collapsed": false
    },
    "source": []
   }
  }
 },
 "nbformat": 4,
 "nbformat_minor": 4
}
